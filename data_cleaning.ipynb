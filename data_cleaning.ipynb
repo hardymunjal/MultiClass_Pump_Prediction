{
 "cells": [
  {
   "cell_type": "markdown",
   "metadata": {},
   "source": [
    "# Data Cleaning Pipeline"
   ]
  },
  {
   "cell_type": "code",
   "execution_count": 410,
   "metadata": {},
   "outputs": [],
   "source": [
    "# Import Libraries\n",
    "\n",
    "import pandas as pd"
   ]
  },
  {
   "cell_type": "code",
   "execution_count": 411,
   "metadata": {},
   "outputs": [
    {
     "name": "stdout",
     "output_type": "stream",
     "text": [
      "Initial Output Rows: 60\n",
      "Updated Output Rows: 60\n"
     ]
    }
   ],
   "source": [
    "# Edit Configuration \n",
    "print(\"Initial Output Rows:\", pd.options.display.max_rows)\n",
    "pd.options.display.max_rows = 60\n",
    "print(\"Updated Output Rows:\", pd.options.display.max_rows)"
   ]
  },
  {
   "cell_type": "markdown",
   "metadata": {},
   "source": [
    "## Load Data"
   ]
  },
  {
   "cell_type": "code",
   "execution_count": 412,
   "metadata": {},
   "outputs": [
    {
     "name": "stdout",
     "output_type": "stream",
     "text": [
      "Pump Data Values Shape: \n",
      "\n",
      "(59400, 40)\n",
      "\n",
      "Pump Data Labels Shape: \n",
      "\n",
      "(59400, 2)\n"
     ]
    }
   ],
   "source": [
    "pump_data_val = pd.read_csv(\"data/training_set_values.csv\")\n",
    "pump_data_lab = pd.read_csv(\"data/training_set_labels.csv\")\n",
    "\n",
    "print(\"Pump Data Values Shape: \\n\")\n",
    "print(pump_data_val.shape)\n",
    "\n",
    "print(\"\\nPump Data Labels Shape: \\n\")\n",
    "print(pump_data_lab.shape)"
   ]
  },
  {
   "cell_type": "code",
   "execution_count": 413,
   "metadata": {},
   "outputs": [
    {
     "data": {
      "text/html": [
       "<div>\n",
       "<style scoped>\n",
       "    .dataframe tbody tr th:only-of-type {\n",
       "        vertical-align: middle;\n",
       "    }\n",
       "\n",
       "    .dataframe tbody tr th {\n",
       "        vertical-align: top;\n",
       "    }\n",
       "\n",
       "    .dataframe thead th {\n",
       "        text-align: right;\n",
       "    }\n",
       "</style>\n",
       "<table border=\"1\" class=\"dataframe\">\n",
       "  <thead>\n",
       "    <tr style=\"text-align: right;\">\n",
       "      <th></th>\n",
       "      <th>id</th>\n",
       "      <th>amount_tsh</th>\n",
       "      <th>date_recorded</th>\n",
       "      <th>funder</th>\n",
       "      <th>gps_height</th>\n",
       "      <th>installer</th>\n",
       "      <th>longitude</th>\n",
       "      <th>latitude</th>\n",
       "      <th>wpt_name</th>\n",
       "      <th>num_private</th>\n",
       "      <th>...</th>\n",
       "      <th>payment_type</th>\n",
       "      <th>water_quality</th>\n",
       "      <th>quality_group</th>\n",
       "      <th>quantity</th>\n",
       "      <th>quantity_group</th>\n",
       "      <th>source</th>\n",
       "      <th>source_type</th>\n",
       "      <th>source_class</th>\n",
       "      <th>waterpoint_type</th>\n",
       "      <th>waterpoint_type_group</th>\n",
       "    </tr>\n",
       "  </thead>\n",
       "  <tbody>\n",
       "    <tr>\n",
       "      <th>0</th>\n",
       "      <td>69572</td>\n",
       "      <td>6000.0</td>\n",
       "      <td>2011-03-14</td>\n",
       "      <td>Roman</td>\n",
       "      <td>1390</td>\n",
       "      <td>Roman</td>\n",
       "      <td>34.938093</td>\n",
       "      <td>-9.856322</td>\n",
       "      <td>none</td>\n",
       "      <td>0</td>\n",
       "      <td>...</td>\n",
       "      <td>annually</td>\n",
       "      <td>soft</td>\n",
       "      <td>good</td>\n",
       "      <td>enough</td>\n",
       "      <td>enough</td>\n",
       "      <td>spring</td>\n",
       "      <td>spring</td>\n",
       "      <td>groundwater</td>\n",
       "      <td>communal standpipe</td>\n",
       "      <td>communal standpipe</td>\n",
       "    </tr>\n",
       "    <tr>\n",
       "      <th>1</th>\n",
       "      <td>8776</td>\n",
       "      <td>0.0</td>\n",
       "      <td>2013-03-06</td>\n",
       "      <td>Grumeti</td>\n",
       "      <td>1399</td>\n",
       "      <td>GRUMETI</td>\n",
       "      <td>34.698766</td>\n",
       "      <td>-2.147466</td>\n",
       "      <td>Zahanati</td>\n",
       "      <td>0</td>\n",
       "      <td>...</td>\n",
       "      <td>never pay</td>\n",
       "      <td>soft</td>\n",
       "      <td>good</td>\n",
       "      <td>insufficient</td>\n",
       "      <td>insufficient</td>\n",
       "      <td>rainwater harvesting</td>\n",
       "      <td>rainwater harvesting</td>\n",
       "      <td>surface</td>\n",
       "      <td>communal standpipe</td>\n",
       "      <td>communal standpipe</td>\n",
       "    </tr>\n",
       "    <tr>\n",
       "      <th>2</th>\n",
       "      <td>34310</td>\n",
       "      <td>25.0</td>\n",
       "      <td>2013-02-25</td>\n",
       "      <td>Lottery Club</td>\n",
       "      <td>686</td>\n",
       "      <td>World vision</td>\n",
       "      <td>37.460664</td>\n",
       "      <td>-3.821329</td>\n",
       "      <td>Kwa Mahundi</td>\n",
       "      <td>0</td>\n",
       "      <td>...</td>\n",
       "      <td>per bucket</td>\n",
       "      <td>soft</td>\n",
       "      <td>good</td>\n",
       "      <td>enough</td>\n",
       "      <td>enough</td>\n",
       "      <td>dam</td>\n",
       "      <td>dam</td>\n",
       "      <td>surface</td>\n",
       "      <td>communal standpipe multiple</td>\n",
       "      <td>communal standpipe</td>\n",
       "    </tr>\n",
       "    <tr>\n",
       "      <th>3</th>\n",
       "      <td>67743</td>\n",
       "      <td>0.0</td>\n",
       "      <td>2013-01-28</td>\n",
       "      <td>Unicef</td>\n",
       "      <td>263</td>\n",
       "      <td>UNICEF</td>\n",
       "      <td>38.486161</td>\n",
       "      <td>-11.155298</td>\n",
       "      <td>Zahanati Ya Nanyumbu</td>\n",
       "      <td>0</td>\n",
       "      <td>...</td>\n",
       "      <td>never pay</td>\n",
       "      <td>soft</td>\n",
       "      <td>good</td>\n",
       "      <td>dry</td>\n",
       "      <td>dry</td>\n",
       "      <td>machine dbh</td>\n",
       "      <td>borehole</td>\n",
       "      <td>groundwater</td>\n",
       "      <td>communal standpipe multiple</td>\n",
       "      <td>communal standpipe</td>\n",
       "    </tr>\n",
       "    <tr>\n",
       "      <th>4</th>\n",
       "      <td>19728</td>\n",
       "      <td>0.0</td>\n",
       "      <td>2011-07-13</td>\n",
       "      <td>Action In A</td>\n",
       "      <td>0</td>\n",
       "      <td>Artisan</td>\n",
       "      <td>31.130847</td>\n",
       "      <td>-1.825359</td>\n",
       "      <td>Shuleni</td>\n",
       "      <td>0</td>\n",
       "      <td>...</td>\n",
       "      <td>never pay</td>\n",
       "      <td>soft</td>\n",
       "      <td>good</td>\n",
       "      <td>seasonal</td>\n",
       "      <td>seasonal</td>\n",
       "      <td>rainwater harvesting</td>\n",
       "      <td>rainwater harvesting</td>\n",
       "      <td>surface</td>\n",
       "      <td>communal standpipe</td>\n",
       "      <td>communal standpipe</td>\n",
       "    </tr>\n",
       "  </tbody>\n",
       "</table>\n",
       "<p>5 rows × 40 columns</p>\n",
       "</div>"
      ],
      "text/plain": [
       "      id  amount_tsh date_recorded        funder  gps_height     installer  \\\n",
       "0  69572      6000.0    2011-03-14         Roman        1390         Roman   \n",
       "1   8776         0.0    2013-03-06       Grumeti        1399       GRUMETI   \n",
       "2  34310        25.0    2013-02-25  Lottery Club         686  World vision   \n",
       "3  67743         0.0    2013-01-28        Unicef         263        UNICEF   \n",
       "4  19728         0.0    2011-07-13   Action In A           0       Artisan   \n",
       "\n",
       "   longitude   latitude              wpt_name  num_private  ... payment_type  \\\n",
       "0  34.938093  -9.856322                  none            0  ...     annually   \n",
       "1  34.698766  -2.147466              Zahanati            0  ...    never pay   \n",
       "2  37.460664  -3.821329           Kwa Mahundi            0  ...   per bucket   \n",
       "3  38.486161 -11.155298  Zahanati Ya Nanyumbu            0  ...    never pay   \n",
       "4  31.130847  -1.825359               Shuleni            0  ...    never pay   \n",
       "\n",
       "  water_quality quality_group      quantity  quantity_group  \\\n",
       "0          soft          good        enough          enough   \n",
       "1          soft          good  insufficient    insufficient   \n",
       "2          soft          good        enough          enough   \n",
       "3          soft          good           dry             dry   \n",
       "4          soft          good      seasonal        seasonal   \n",
       "\n",
       "                 source           source_type  source_class  \\\n",
       "0                spring                spring   groundwater   \n",
       "1  rainwater harvesting  rainwater harvesting       surface   \n",
       "2                   dam                   dam       surface   \n",
       "3           machine dbh              borehole   groundwater   \n",
       "4  rainwater harvesting  rainwater harvesting       surface   \n",
       "\n",
       "               waterpoint_type waterpoint_type_group  \n",
       "0           communal standpipe    communal standpipe  \n",
       "1           communal standpipe    communal standpipe  \n",
       "2  communal standpipe multiple    communal standpipe  \n",
       "3  communal standpipe multiple    communal standpipe  \n",
       "4           communal standpipe    communal standpipe  \n",
       "\n",
       "[5 rows x 40 columns]"
      ]
     },
     "execution_count": 413,
     "metadata": {},
     "output_type": "execute_result"
    }
   ],
   "source": [
    "pump_data_val.head()"
   ]
  },
  {
   "cell_type": "code",
   "execution_count": 414,
   "metadata": {},
   "outputs": [
    {
     "data": {
      "text/html": [
       "<div>\n",
       "<style scoped>\n",
       "    .dataframe tbody tr th:only-of-type {\n",
       "        vertical-align: middle;\n",
       "    }\n",
       "\n",
       "    .dataframe tbody tr th {\n",
       "        vertical-align: top;\n",
       "    }\n",
       "\n",
       "    .dataframe thead th {\n",
       "        text-align: right;\n",
       "    }\n",
       "</style>\n",
       "<table border=\"1\" class=\"dataframe\">\n",
       "  <thead>\n",
       "    <tr style=\"text-align: right;\">\n",
       "      <th></th>\n",
       "      <th>id</th>\n",
       "      <th>status_group</th>\n",
       "    </tr>\n",
       "  </thead>\n",
       "  <tbody>\n",
       "    <tr>\n",
       "      <th>0</th>\n",
       "      <td>69572</td>\n",
       "      <td>functional</td>\n",
       "    </tr>\n",
       "    <tr>\n",
       "      <th>1</th>\n",
       "      <td>8776</td>\n",
       "      <td>functional</td>\n",
       "    </tr>\n",
       "    <tr>\n",
       "      <th>2</th>\n",
       "      <td>34310</td>\n",
       "      <td>functional</td>\n",
       "    </tr>\n",
       "    <tr>\n",
       "      <th>3</th>\n",
       "      <td>67743</td>\n",
       "      <td>non functional</td>\n",
       "    </tr>\n",
       "    <tr>\n",
       "      <th>4</th>\n",
       "      <td>19728</td>\n",
       "      <td>functional</td>\n",
       "    </tr>\n",
       "  </tbody>\n",
       "</table>\n",
       "</div>"
      ],
      "text/plain": [
       "      id    status_group\n",
       "0  69572      functional\n",
       "1   8776      functional\n",
       "2  34310      functional\n",
       "3  67743  non functional\n",
       "4  19728      functional"
      ]
     },
     "execution_count": 414,
     "metadata": {},
     "output_type": "execute_result"
    }
   ],
   "source": [
    "pump_data_lab.head()"
   ]
  },
  {
   "cell_type": "code",
   "execution_count": 415,
   "metadata": {},
   "outputs": [
    {
     "name": "stdout",
     "output_type": "stream",
     "text": [
      "Check class Imbalance: \n",
      "status_group\n",
      "functional                 32259\n",
      "non functional             22824\n",
      "functional needs repair     4317\n",
      "Name: count, dtype: int64\n"
     ]
    }
   ],
   "source": [
    "print(\"Check class Imbalance: \")\n",
    "print(pump_data_lab.status_group.value_counts())"
   ]
  },
  {
   "cell_type": "markdown",
   "metadata": {},
   "source": [
    "## Data Cleaning"
   ]
  },
  {
   "cell_type": "code",
   "execution_count": 416,
   "metadata": {},
   "outputs": [
    {
     "data": {
      "text/html": [
       "<div>\n",
       "<style scoped>\n",
       "    .dataframe tbody tr th:only-of-type {\n",
       "        vertical-align: middle;\n",
       "    }\n",
       "\n",
       "    .dataframe tbody tr th {\n",
       "        vertical-align: top;\n",
       "    }\n",
       "\n",
       "    .dataframe thead th {\n",
       "        text-align: right;\n",
       "    }\n",
       "</style>\n",
       "<table border=\"1\" class=\"dataframe\">\n",
       "  <thead>\n",
       "    <tr style=\"text-align: right;\">\n",
       "      <th></th>\n",
       "      <th>id</th>\n",
       "      <th>amount_tsh</th>\n",
       "      <th>date_recorded</th>\n",
       "      <th>funder</th>\n",
       "      <th>gps_height</th>\n",
       "      <th>installer</th>\n",
       "      <th>longitude</th>\n",
       "      <th>latitude</th>\n",
       "      <th>wpt_name</th>\n",
       "      <th>num_private</th>\n",
       "      <th>basin</th>\n",
       "      <th>subvillage</th>\n",
       "      <th>region</th>\n",
       "      <th>region_code</th>\n",
       "      <th>district_code</th>\n",
       "      <th>lga</th>\n",
       "      <th>ward</th>\n",
       "      <th>population</th>\n",
       "      <th>public_meeting</th>\n",
       "      <th>recorded_by</th>\n",
       "    </tr>\n",
       "  </thead>\n",
       "  <tbody>\n",
       "    <tr>\n",
       "      <th>0</th>\n",
       "      <td>69572</td>\n",
       "      <td>6000.0</td>\n",
       "      <td>2011-03-14</td>\n",
       "      <td>Roman</td>\n",
       "      <td>1390</td>\n",
       "      <td>Roman</td>\n",
       "      <td>34.938093</td>\n",
       "      <td>-9.856322</td>\n",
       "      <td>none</td>\n",
       "      <td>0</td>\n",
       "      <td>Lake Nyasa</td>\n",
       "      <td>Mnyusi B</td>\n",
       "      <td>Iringa</td>\n",
       "      <td>11</td>\n",
       "      <td>5</td>\n",
       "      <td>Ludewa</td>\n",
       "      <td>Mundindi</td>\n",
       "      <td>109</td>\n",
       "      <td>True</td>\n",
       "      <td>GeoData Consultants Ltd</td>\n",
       "    </tr>\n",
       "    <tr>\n",
       "      <th>1</th>\n",
       "      <td>8776</td>\n",
       "      <td>0.0</td>\n",
       "      <td>2013-03-06</td>\n",
       "      <td>Grumeti</td>\n",
       "      <td>1399</td>\n",
       "      <td>GRUMETI</td>\n",
       "      <td>34.698766</td>\n",
       "      <td>-2.147466</td>\n",
       "      <td>Zahanati</td>\n",
       "      <td>0</td>\n",
       "      <td>Lake Victoria</td>\n",
       "      <td>Nyamara</td>\n",
       "      <td>Mara</td>\n",
       "      <td>20</td>\n",
       "      <td>2</td>\n",
       "      <td>Serengeti</td>\n",
       "      <td>Natta</td>\n",
       "      <td>280</td>\n",
       "      <td>NaN</td>\n",
       "      <td>GeoData Consultants Ltd</td>\n",
       "    </tr>\n",
       "    <tr>\n",
       "      <th>2</th>\n",
       "      <td>34310</td>\n",
       "      <td>25.0</td>\n",
       "      <td>2013-02-25</td>\n",
       "      <td>Lottery Club</td>\n",
       "      <td>686</td>\n",
       "      <td>World vision</td>\n",
       "      <td>37.460664</td>\n",
       "      <td>-3.821329</td>\n",
       "      <td>Kwa Mahundi</td>\n",
       "      <td>0</td>\n",
       "      <td>Pangani</td>\n",
       "      <td>Majengo</td>\n",
       "      <td>Manyara</td>\n",
       "      <td>21</td>\n",
       "      <td>4</td>\n",
       "      <td>Simanjiro</td>\n",
       "      <td>Ngorika</td>\n",
       "      <td>250</td>\n",
       "      <td>True</td>\n",
       "      <td>GeoData Consultants Ltd</td>\n",
       "    </tr>\n",
       "    <tr>\n",
       "      <th>3</th>\n",
       "      <td>67743</td>\n",
       "      <td>0.0</td>\n",
       "      <td>2013-01-28</td>\n",
       "      <td>Unicef</td>\n",
       "      <td>263</td>\n",
       "      <td>UNICEF</td>\n",
       "      <td>38.486161</td>\n",
       "      <td>-11.155298</td>\n",
       "      <td>Zahanati Ya Nanyumbu</td>\n",
       "      <td>0</td>\n",
       "      <td>Ruvuma / Southern Coast</td>\n",
       "      <td>Mahakamani</td>\n",
       "      <td>Mtwara</td>\n",
       "      <td>90</td>\n",
       "      <td>63</td>\n",
       "      <td>Nanyumbu</td>\n",
       "      <td>Nanyumbu</td>\n",
       "      <td>58</td>\n",
       "      <td>True</td>\n",
       "      <td>GeoData Consultants Ltd</td>\n",
       "    </tr>\n",
       "    <tr>\n",
       "      <th>4</th>\n",
       "      <td>19728</td>\n",
       "      <td>0.0</td>\n",
       "      <td>2011-07-13</td>\n",
       "      <td>Action In A</td>\n",
       "      <td>0</td>\n",
       "      <td>Artisan</td>\n",
       "      <td>31.130847</td>\n",
       "      <td>-1.825359</td>\n",
       "      <td>Shuleni</td>\n",
       "      <td>0</td>\n",
       "      <td>Lake Victoria</td>\n",
       "      <td>Kyanyamisa</td>\n",
       "      <td>Kagera</td>\n",
       "      <td>18</td>\n",
       "      <td>1</td>\n",
       "      <td>Karagwe</td>\n",
       "      <td>Nyakasimbi</td>\n",
       "      <td>0</td>\n",
       "      <td>True</td>\n",
       "      <td>GeoData Consultants Ltd</td>\n",
       "    </tr>\n",
       "  </tbody>\n",
       "</table>\n",
       "</div>"
      ],
      "text/plain": [
       "      id  amount_tsh date_recorded        funder  gps_height     installer  \\\n",
       "0  69572      6000.0    2011-03-14         Roman        1390         Roman   \n",
       "1   8776         0.0    2013-03-06       Grumeti        1399       GRUMETI   \n",
       "2  34310        25.0    2013-02-25  Lottery Club         686  World vision   \n",
       "3  67743         0.0    2013-01-28        Unicef         263        UNICEF   \n",
       "4  19728         0.0    2011-07-13   Action In A           0       Artisan   \n",
       "\n",
       "   longitude   latitude              wpt_name  num_private  \\\n",
       "0  34.938093  -9.856322                  none            0   \n",
       "1  34.698766  -2.147466              Zahanati            0   \n",
       "2  37.460664  -3.821329           Kwa Mahundi            0   \n",
       "3  38.486161 -11.155298  Zahanati Ya Nanyumbu            0   \n",
       "4  31.130847  -1.825359               Shuleni            0   \n",
       "\n",
       "                     basin  subvillage   region  region_code  district_code  \\\n",
       "0               Lake Nyasa    Mnyusi B   Iringa           11              5   \n",
       "1            Lake Victoria     Nyamara     Mara           20              2   \n",
       "2                  Pangani     Majengo  Manyara           21              4   \n",
       "3  Ruvuma / Southern Coast  Mahakamani   Mtwara           90             63   \n",
       "4            Lake Victoria  Kyanyamisa   Kagera           18              1   \n",
       "\n",
       "         lga        ward  population public_meeting              recorded_by  \n",
       "0     Ludewa    Mundindi         109           True  GeoData Consultants Ltd  \n",
       "1  Serengeti       Natta         280            NaN  GeoData Consultants Ltd  \n",
       "2  Simanjiro     Ngorika         250           True  GeoData Consultants Ltd  \n",
       "3   Nanyumbu    Nanyumbu          58           True  GeoData Consultants Ltd  \n",
       "4    Karagwe  Nyakasimbi           0           True  GeoData Consultants Ltd  "
      ]
     },
     "execution_count": 416,
     "metadata": {},
     "output_type": "execute_result"
    }
   ],
   "source": [
    "first_20_features = pump_data_val.iloc[:,:20]\n",
    "first_20_features.head()"
   ]
  },
  {
   "cell_type": "code",
   "execution_count": 417,
   "metadata": {},
   "outputs": [
    {
     "name": "stdout",
     "output_type": "stream",
     "text": [
      "<class 'pandas.core.frame.DataFrame'>\n",
      "RangeIndex: 59400 entries, 0 to 59399\n",
      "Data columns (total 20 columns):\n",
      " #   Column          Non-Null Count  Dtype  \n",
      "---  ------          --------------  -----  \n",
      " 0   id              59400 non-null  int64  \n",
      " 1   amount_tsh      59400 non-null  float64\n",
      " 2   date_recorded   59400 non-null  object \n",
      " 3   funder          55763 non-null  object \n",
      " 4   gps_height      59400 non-null  int64  \n",
      " 5   installer       55745 non-null  object \n",
      " 6   longitude       59400 non-null  float64\n",
      " 7   latitude        59400 non-null  float64\n",
      " 8   wpt_name        59398 non-null  object \n",
      " 9   num_private     59400 non-null  int64  \n",
      " 10  basin           59400 non-null  object \n",
      " 11  subvillage      59029 non-null  object \n",
      " 12  region          59400 non-null  object \n",
      " 13  region_code     59400 non-null  int64  \n",
      " 14  district_code   59400 non-null  int64  \n",
      " 15  lga             59400 non-null  object \n",
      " 16  ward            59400 non-null  object \n",
      " 17  population      59400 non-null  int64  \n",
      " 18  public_meeting  56066 non-null  object \n",
      " 19  recorded_by     59400 non-null  object \n",
      "dtypes: float64(3), int64(6), object(11)\n",
      "memory usage: 9.1+ MB\n"
     ]
    }
   ],
   "source": [
    "first_20_features.info()"
   ]
  },
  {
   "cell_type": "markdown",
   "metadata": {},
   "source": [
    "### Datatype Analysis"
   ]
  },
  {
   "cell_type": "code",
   "execution_count": 418,
   "metadata": {},
   "outputs": [
    {
     "name": "stdout",
     "output_type": "stream",
     "text": [
      "<class 'pandas.core.frame.DataFrame'>\n",
      "RangeIndex: 59400 entries, 0 to 59399\n",
      "Data columns (total 20 columns):\n",
      " #   Column          Non-Null Count  Dtype  \n",
      "---  ------          --------------  -----  \n",
      " 0   id              59400 non-null  Int64  \n",
      " 1   amount_tsh      59400 non-null  Float64\n",
      " 2   date_recorded   59400 non-null  string \n",
      " 3   funder          55763 non-null  string \n",
      " 4   gps_height      59400 non-null  Int64  \n",
      " 5   installer       55745 non-null  string \n",
      " 6   longitude       59400 non-null  Float64\n",
      " 7   latitude        59400 non-null  Float64\n",
      " 8   wpt_name        59398 non-null  string \n",
      " 9   num_private     59400 non-null  Int64  \n",
      " 10  basin           59400 non-null  string \n",
      " 11  subvillage      59029 non-null  string \n",
      " 12  region          59400 non-null  string \n",
      " 13  region_code     59400 non-null  Int64  \n",
      " 14  district_code   59400 non-null  Int64  \n",
      " 15  lga             59400 non-null  string \n",
      " 16  ward            59400 non-null  string \n",
      " 17  population      59400 non-null  Int64  \n",
      " 18  public_meeting  56066 non-null  boolean\n",
      " 19  recorded_by     59400 non-null  string \n",
      "dtypes: Float64(3), Int64(6), boolean(1), string(10)\n",
      "memory usage: 9.2 MB\n"
     ]
    }
   ],
   "source": [
    "# Convert to best possible datatype\n",
    "first_20_features = first_20_features.convert_dtypes()\n",
    "first_20_features.info()"
   ]
  },
  {
   "cell_type": "markdown",
   "metadata": {},
   "source": [
    "All the datatypes seem correct from domain knowledge exccept `date_recorded`. We can convert it manually."
   ]
  },
  {
   "cell_type": "code",
   "execution_count": 419,
   "metadata": {},
   "outputs": [],
   "source": [
    "first_20_features['date_recorded'] = first_20_features['date_recorded'].astype('datetime64[ns]')"
   ]
  },
  {
   "cell_type": "code",
   "execution_count": 420,
   "metadata": {},
   "outputs": [
    {
     "name": "stdout",
     "output_type": "stream",
     "text": [
      "<class 'pandas.core.frame.DataFrame'>\n",
      "RangeIndex: 59400 entries, 0 to 59399\n",
      "Data columns (total 20 columns):\n",
      " #   Column          Non-Null Count  Dtype         \n",
      "---  ------          --------------  -----         \n",
      " 0   id              59400 non-null  Int64         \n",
      " 1   amount_tsh      59400 non-null  Float64       \n",
      " 2   date_recorded   59400 non-null  datetime64[ns]\n",
      " 3   funder          55763 non-null  string        \n",
      " 4   gps_height      59400 non-null  Int64         \n",
      " 5   installer       55745 non-null  string        \n",
      " 6   longitude       59400 non-null  Float64       \n",
      " 7   latitude        59400 non-null  Float64       \n",
      " 8   wpt_name        59398 non-null  string        \n",
      " 9   num_private     59400 non-null  Int64         \n",
      " 10  basin           59400 non-null  string        \n",
      " 11  subvillage      59029 non-null  string        \n",
      " 12  region          59400 non-null  string        \n",
      " 13  region_code     59400 non-null  Int64         \n",
      " 14  district_code   59400 non-null  Int64         \n",
      " 15  lga             59400 non-null  string        \n",
      " 16  ward            59400 non-null  string        \n",
      " 17  population      59400 non-null  Int64         \n",
      " 18  public_meeting  56066 non-null  boolean       \n",
      " 19  recorded_by     59400 non-null  string        \n",
      "dtypes: Float64(3), Int64(6), boolean(1), datetime64[ns](1), string(9)\n",
      "memory usage: 9.2 MB\n"
     ]
    }
   ],
   "source": [
    "first_20_features.info()"
   ]
  },
  {
   "cell_type": "markdown",
   "metadata": {},
   "source": [
    "### Uniform String Data across DataFrame"
   ]
  },
  {
   "cell_type": "code",
   "execution_count": 421,
   "metadata": {},
   "outputs": [],
   "source": [
    "# Lowercase all the data and remove trailing whitespaces\n",
    "string_cols = first_20_features.select_dtypes('string').columns\n",
    "first_20_features[string_cols] = first_20_features[string_cols].apply(lambda x: x.str.lower().str.strip())"
   ]
  },
  {
   "cell_type": "markdown",
   "metadata": {},
   "source": [
    "### Check for Zero-Variance Column\n",
    "\n",
    "The columns with a single value do not add any purpose to the modeling, so let's check and remove it."
   ]
  },
  {
   "cell_type": "code",
   "execution_count": 422,
   "metadata": {},
   "outputs": [
    {
     "name": "stdout",
     "output_type": "stream",
     "text": [
      "Zero-Variance Columns: ['recorded_by']\n"
     ]
    }
   ],
   "source": [
    "count_cols = first_20_features.nunique()\n",
    "zer_var_cols = []\n",
    "for col, count in count_cols.items():\n",
    "    if count == 1:\n",
    "        zer_var_cols.append(col)\n",
    "\n",
    "print(f\"Zero-Variance Columns: {zer_var_cols}\")"
   ]
  },
  {
   "cell_type": "markdown",
   "metadata": {},
   "source": [
    "As we can see the column - `recorded_by` contains only a single value, let's verify this and drop it from column list."
   ]
  },
  {
   "cell_type": "code",
   "execution_count": 423,
   "metadata": {},
   "outputs": [
    {
     "data": {
      "text/plain": [
       "recorded_by\n",
       "geodata consultants ltd    59400\n",
       "Name: count, dtype: Int64"
      ]
     },
     "execution_count": 423,
     "metadata": {},
     "output_type": "execute_result"
    }
   ],
   "source": [
    "# Optional Step\n",
    "first_20_features.recorded_by.value_counts()"
   ]
  },
  {
   "cell_type": "code",
   "execution_count": 424,
   "metadata": {},
   "outputs": [],
   "source": [
    "cleaned_df = first_20_features.drop(zer_var_cols, axis=1)"
   ]
  },
  {
   "cell_type": "markdown",
   "metadata": {},
   "source": [
    "### Check Duplicate Rows"
   ]
  },
  {
   "cell_type": "code",
   "execution_count": 425,
   "metadata": {},
   "outputs": [
    {
     "data": {
      "text/plain": [
       "0"
      ]
     },
     "execution_count": 425,
     "metadata": {},
     "output_type": "execute_result"
    }
   ],
   "source": [
    "cleaned_df.duplicated().sum()"
   ]
  },
  {
   "cell_type": "markdown",
   "metadata": {},
   "source": [
    "No duplicate rows in the dataset"
   ]
  },
  {
   "cell_type": "markdown",
   "metadata": {},
   "source": [
    "### Missing Value Analysis"
   ]
  },
  {
   "cell_type": "code",
   "execution_count": 426,
   "metadata": {},
   "outputs": [
    {
     "name": "stdout",
     "output_type": "stream",
     "text": [
      "Column: funder contains 3637 null values\n",
      "Column: installer contains 3655 null values\n",
      "Column: wpt_name contains 2 null values\n",
      "Column: subvillage contains 371 null values\n",
      "Column: public_meeting contains 3334 null values\n"
     ]
    }
   ],
   "source": [
    "# Check for null values\n",
    "null_count = cleaned_df.isna().sum()\n",
    "for col, count in null_count.items():\n",
    "    if count > 0:\n",
    "        print(f\"Column: {col} contains {count} null values\")\n"
   ]
  },
  {
   "cell_type": "markdown",
   "metadata": {},
   "source": [
    "#### Column Analysis - Funder and Installer"
   ]
  },
  {
   "cell_type": "code",
   "execution_count": 427,
   "metadata": {},
   "outputs": [
    {
     "data": {
      "text/plain": [
       "funder\n",
       "government of tanzania     9084\n",
       "<NA>                       3637\n",
       "danida                     3114\n",
       "hesawa                     2202\n",
       "rwssp                      1374\n",
       "                           ... \n",
       "ms-danish                     1\n",
       "juma                          1\n",
       "paulo sange                   1\n",
       "magul                         1\n",
       "internal drainage basin       1\n",
       "Name: count, Length: 1897, dtype: Int64"
      ]
     },
     "execution_count": 427,
     "metadata": {},
     "output_type": "execute_result"
    }
   ],
   "source": [
    "# Check who are the different entities that fund the pumps\n",
    "cleaned_df[\"funder\"].value_counts(dropna=False)"
   ]
  },
  {
   "cell_type": "code",
   "execution_count": 428,
   "metadata": {},
   "outputs": [
    {
     "data": {
      "text/plain": [
       "installer\n",
       "dwe                         17405\n",
       "<NA>                         3655\n",
       "government                   1891\n",
       "hesawa                       1395\n",
       "rwe                          1206\n",
       "                            ...  \n",
       "upendo group                    1\n",
       "insititutiona                   1\n",
       "tukware enterp                  1\n",
       "wizara  ya maji                 1\n",
       "bingo foundation germany        1\n",
       "Name: count, Length: 1936, dtype: Int64"
      ]
     },
     "execution_count": 428,
     "metadata": {},
     "output_type": "execute_result"
    }
   ],
   "source": [
    "# Check who are the different entities that fund the pumps\n",
    "cleaned_df[\"installer\"].value_counts(dropna=False)"
   ]
  },
  {
   "cell_type": "code",
   "execution_count": 429,
   "metadata": {},
   "outputs": [
    {
     "data": {
      "text/plain": [
       "installer  funder                        \n",
       "<NA>       <NA>                              3584\n",
       "           world bank                          11\n",
       "           world vision                         7\n",
       "           hesawa                               5\n",
       "           ministry of water                    4\n",
       "           government of tanzania               4\n",
       "           rural water supply and sanitat       4\n",
       "           community                            3\n",
       "           ggm                                  2\n",
       "           wfp                                  2\n",
       "           district council                     1\n",
       "           aar                                  1\n",
       "           abddwe                               1\n",
       "           bhws                                 1\n",
       "           bgssws                               1\n",
       "           donor                                1\n",
       "           jica                                 1\n",
       "           maro kyariga                         1\n",
       "           koica and tanzania government        1\n",
       "           gg                                   1\n",
       "           fredked conservation                 1\n",
       "           grazie grouppo padre fiorentin       1\n",
       "           dw                                   1\n",
       "           norad                                1\n",
       "           ms-danish                            1\n",
       "           ministry of agricultura              1\n",
       "           member o                             1\n",
       "           lga                                  1\n",
       "           not known                            1\n",
       "           rc church                            1\n",
       "           one desk one chair                   1\n",
       "           solidarm                             1\n",
       "           shipo                                1\n",
       "           rwssp                                1\n",
       "           rundu man                            1\n",
       "           tasaf                                1\n",
       "           tcrs                                 1\n",
       "           worldvision                          1\n",
       "           wsdp                                 1\n",
       "Name: count, dtype: int64"
      ]
     },
     "execution_count": 429,
     "metadata": {},
     "output_type": "execute_result"
    }
   ],
   "source": [
    "# Check the funder of pump with no installer\n",
    "cleaned_df.loc[cleaned_df[\"installer\"].isna()==True, [\"installer\", \"funder\"]].value_counts(dropna=False)"
   ]
  },
  {
   "cell_type": "markdown",
   "metadata": {},
   "source": [
    "Most of the pumps with no installer information have no information on the funder. Let's check whether the pumps with no installer information but having funder information have common installers. "
   ]
  },
  {
   "cell_type": "code",
   "execution_count": 430,
   "metadata": {},
   "outputs": [
    {
     "name": "stdout",
     "output_type": "stream",
     "text": [
      "funder                  installer  \n",
      "government of tanzania  dwe            4256\n",
      "                        government     1637\n",
      "hesawa                  dwe            1296\n",
      "rwssp                   dwe             914\n",
      "hesawa                  hesawa          850\n",
      "                                       ... \n",
      "community               atisan            1\n",
      "                        comunity          1\n",
      "                        dmdd              1\n",
      "district council        humfreys co       1\n",
      "                        mtuwasa           1\n",
      "Name: count, Length: 549, dtype: int64\n"
     ]
    }
   ],
   "source": [
    "# Get the list of funders for pumps with no installation info as list\n",
    "no_installer_with_funder_list = cleaned_df[(cleaned_df.installer.isna()==True) & (cleaned_df.funder.isna()!=True)]['funder'].unique()\n",
    "\n",
    "# Get the dataframe with all rows from the previous funders list\n",
    "specific_funders_data = cleaned_df[cleaned_df.funder.isin(no_installer_with_funder_list)]\n",
    "specific_funders_data\n",
    "\n",
    "# Check what are the unique values for investors these funders\n",
    "print(specific_funders_data[[\"funder\", \"installer\"]].value_counts(dropna=False))\n",
    "\n",
    "# Build a table of funders and installer\n",
    "# pd.crosstab(specific_funders_data.funder, specific_funders_data.installer)"
   ]
  },
  {
   "cell_type": "markdown",
   "metadata": {},
   "source": [
    "There are multiple installers for same funders, therefore it is difficult to impute values without more domain knowledge. But we also observe there is a `not known` value in funders and installers, therefore we can replace the null values in both these columns to `not known`."
   ]
  },
  {
   "cell_type": "code",
   "execution_count": 431,
   "metadata": {},
   "outputs": [],
   "source": [
    "cleaned_df[['funder', 'installer']] = cleaned_df[['funder', 'installer']].fillna('not known')"
   ]
  },
  {
   "cell_type": "markdown",
   "metadata": {},
   "source": [
    "#### Column Analysis - wpt_name"
   ]
  },
  {
   "cell_type": "code",
   "execution_count": 432,
   "metadata": {},
   "outputs": [
    {
     "data": {
      "text/html": [
       "<div>\n",
       "<style scoped>\n",
       "    .dataframe tbody tr th:only-of-type {\n",
       "        vertical-align: middle;\n",
       "    }\n",
       "\n",
       "    .dataframe tbody tr th {\n",
       "        vertical-align: top;\n",
       "    }\n",
       "\n",
       "    .dataframe thead th {\n",
       "        text-align: right;\n",
       "    }\n",
       "</style>\n",
       "<table border=\"1\" class=\"dataframe\">\n",
       "  <thead>\n",
       "    <tr style=\"text-align: right;\">\n",
       "      <th></th>\n",
       "      <th>id</th>\n",
       "      <th>amount_tsh</th>\n",
       "      <th>date_recorded</th>\n",
       "      <th>funder</th>\n",
       "      <th>gps_height</th>\n",
       "      <th>installer</th>\n",
       "      <th>longitude</th>\n",
       "      <th>latitude</th>\n",
       "      <th>wpt_name</th>\n",
       "      <th>num_private</th>\n",
       "      <th>basin</th>\n",
       "      <th>subvillage</th>\n",
       "      <th>region</th>\n",
       "      <th>region_code</th>\n",
       "      <th>district_code</th>\n",
       "      <th>lga</th>\n",
       "      <th>ward</th>\n",
       "      <th>population</th>\n",
       "      <th>public_meeting</th>\n",
       "    </tr>\n",
       "  </thead>\n",
       "  <tbody>\n",
       "    <tr>\n",
       "      <th>14595</th>\n",
       "      <td>31756</td>\n",
       "      <td>0.0</td>\n",
       "      <td>2012-10-22</td>\n",
       "      <td>wsdp</td>\n",
       "      <td>0</td>\n",
       "      <td>aquarman drillers</td>\n",
       "      <td>34.107893</td>\n",
       "      <td>-3.417657</td>\n",
       "      <td>&lt;NA&gt;</td>\n",
       "      <td>0</td>\n",
       "      <td>internal</td>\n",
       "      <td>majengo</td>\n",
       "      <td>shinyanga</td>\n",
       "      <td>17</td>\n",
       "      <td>6</td>\n",
       "      <td>meatu</td>\n",
       "      <td>itinje</td>\n",
       "      <td>0</td>\n",
       "      <td>True</td>\n",
       "    </tr>\n",
       "    <tr>\n",
       "      <th>42935</th>\n",
       "      <td>16208</td>\n",
       "      <td>0.0</td>\n",
       "      <td>2013-03-15</td>\n",
       "      <td>lawatefuka water supply</td>\n",
       "      <td>1540</td>\n",
       "      <td>lawatefuka water sup</td>\n",
       "      <td>37.110999</td>\n",
       "      <td>-3.158049</td>\n",
       "      <td>&lt;NA&gt;</td>\n",
       "      <td>0</td>\n",
       "      <td>pangani</td>\n",
       "      <td>maini</td>\n",
       "      <td>kilimanjaro</td>\n",
       "      <td>3</td>\n",
       "      <td>7</td>\n",
       "      <td>siha</td>\n",
       "      <td>siha kaskazini</td>\n",
       "      <td>1</td>\n",
       "      <td>True</td>\n",
       "    </tr>\n",
       "  </tbody>\n",
       "</table>\n",
       "</div>"
      ],
      "text/plain": [
       "          id  amount_tsh date_recorded                   funder  gps_height  \\\n",
       "14595  31756         0.0    2012-10-22                     wsdp           0   \n",
       "42935  16208         0.0    2013-03-15  lawatefuka water supply        1540   \n",
       "\n",
       "                  installer  longitude  latitude wpt_name  num_private  \\\n",
       "14595     aquarman drillers  34.107893 -3.417657     <NA>            0   \n",
       "42935  lawatefuka water sup  37.110999 -3.158049     <NA>            0   \n",
       "\n",
       "          basin subvillage       region  region_code  district_code    lga  \\\n",
       "14595  internal    majengo    shinyanga           17              6  meatu   \n",
       "42935   pangani      maini  kilimanjaro            3              7   siha   \n",
       "\n",
       "                 ward  population  public_meeting  \n",
       "14595          itinje           0            True  \n",
       "42935  siha kaskazini           1            True  "
      ]
     },
     "execution_count": 432,
     "metadata": {},
     "output_type": "execute_result"
    }
   ],
   "source": [
    "# Check who the funders and installers are for the pumps with no wpt_name\n",
    "cleaned_df.loc[cleaned_df[\"wpt_name\"].isna()==True, [\"funder\", \"installer\", \"wpt_name\"]].value_counts(dropna=False)\n",
    "\n",
    "# Check if there are pther wpt_name for the same combination of funder and installer\n",
    "specific_wpt_data = cleaned_df[(cleaned_df.funder.isin(['lawatefuka water supply', 'wsdp'])) | (cleaned_df.installer.isin(['lawatefuka water sup', 'aquarman drillers']))]\n",
    "# specific_wpt_data[[\"funder\", \"installer\", \"wpt_name\"]].value_counts(dropna=False)\n",
    "\n",
    "# Investigate rows with null values\n",
    "specific_wpt_data[specific_wpt_data.wpt_name.isna()]"
   ]
  },
  {
   "cell_type": "markdown",
   "metadata": {},
   "source": [
    "No pattern in `wpt_name`, therefore any sort of imputation might introduce bias in the data. Also, considering only 2 row have missing data, we can drop these rows."
   ]
  },
  {
   "cell_type": "code",
   "execution_count": 433,
   "metadata": {},
   "outputs": [],
   "source": [
    "cleaned_df = cleaned_df.dropna(subset=['wpt_name'])"
   ]
  },
  {
   "cell_type": "code",
   "execution_count": 434,
   "metadata": {},
   "outputs": [
    {
     "data": {
      "text/plain": [
       "(59398, 19)"
      ]
     },
     "execution_count": 434,
     "metadata": {},
     "output_type": "execute_result"
    }
   ],
   "source": [
    "cleaned_df.shape"
   ]
  },
  {
   "cell_type": "markdown",
   "metadata": {},
   "source": [
    "#### Column Analysis - Subvillage"
   ]
  },
  {
   "cell_type": "code",
   "execution_count": 435,
   "metadata": {},
   "outputs": [
    {
     "data": {
      "text/html": [
       "<div>\n",
       "<style scoped>\n",
       "    .dataframe tbody tr th:only-of-type {\n",
       "        vertical-align: middle;\n",
       "    }\n",
       "\n",
       "    .dataframe tbody tr th {\n",
       "        vertical-align: top;\n",
       "    }\n",
       "\n",
       "    .dataframe thead th {\n",
       "        text-align: right;\n",
       "    }\n",
       "</style>\n",
       "<table border=\"1\" class=\"dataframe\">\n",
       "  <thead>\n",
       "    <tr style=\"text-align: right;\">\n",
       "      <th></th>\n",
       "      <th>id</th>\n",
       "      <th>amount_tsh</th>\n",
       "      <th>date_recorded</th>\n",
       "      <th>funder</th>\n",
       "      <th>gps_height</th>\n",
       "      <th>installer</th>\n",
       "      <th>longitude</th>\n",
       "      <th>latitude</th>\n",
       "      <th>wpt_name</th>\n",
       "      <th>num_private</th>\n",
       "      <th>basin</th>\n",
       "      <th>subvillage</th>\n",
       "      <th>region</th>\n",
       "      <th>region_code</th>\n",
       "      <th>district_code</th>\n",
       "      <th>lga</th>\n",
       "      <th>ward</th>\n",
       "      <th>population</th>\n",
       "      <th>public_meeting</th>\n",
       "    </tr>\n",
       "  </thead>\n",
       "  <tbody>\n",
       "    <tr>\n",
       "      <th>0</th>\n",
       "      <td>69572</td>\n",
       "      <td>6000.0</td>\n",
       "      <td>2011-03-14</td>\n",
       "      <td>roman</td>\n",
       "      <td>1390</td>\n",
       "      <td>roman</td>\n",
       "      <td>34.938093</td>\n",
       "      <td>-9.856322</td>\n",
       "      <td>none</td>\n",
       "      <td>0</td>\n",
       "      <td>lake nyasa</td>\n",
       "      <td>mnyusi b</td>\n",
       "      <td>iringa</td>\n",
       "      <td>11</td>\n",
       "      <td>5</td>\n",
       "      <td>ludewa</td>\n",
       "      <td>mundindi</td>\n",
       "      <td>109</td>\n",
       "      <td>True</td>\n",
       "    </tr>\n",
       "    <tr>\n",
       "      <th>1</th>\n",
       "      <td>8776</td>\n",
       "      <td>0.0</td>\n",
       "      <td>2013-03-06</td>\n",
       "      <td>grumeti</td>\n",
       "      <td>1399</td>\n",
       "      <td>grumeti</td>\n",
       "      <td>34.698766</td>\n",
       "      <td>-2.147466</td>\n",
       "      <td>zahanati</td>\n",
       "      <td>0</td>\n",
       "      <td>lake victoria</td>\n",
       "      <td>nyamara</td>\n",
       "      <td>mara</td>\n",
       "      <td>20</td>\n",
       "      <td>2</td>\n",
       "      <td>serengeti</td>\n",
       "      <td>natta</td>\n",
       "      <td>280</td>\n",
       "      <td>&lt;NA&gt;</td>\n",
       "    </tr>\n",
       "    <tr>\n",
       "      <th>2</th>\n",
       "      <td>34310</td>\n",
       "      <td>25.0</td>\n",
       "      <td>2013-02-25</td>\n",
       "      <td>lottery club</td>\n",
       "      <td>686</td>\n",
       "      <td>world vision</td>\n",
       "      <td>37.460664</td>\n",
       "      <td>-3.821329</td>\n",
       "      <td>kwa mahundi</td>\n",
       "      <td>0</td>\n",
       "      <td>pangani</td>\n",
       "      <td>majengo</td>\n",
       "      <td>manyara</td>\n",
       "      <td>21</td>\n",
       "      <td>4</td>\n",
       "      <td>simanjiro</td>\n",
       "      <td>ngorika</td>\n",
       "      <td>250</td>\n",
       "      <td>True</td>\n",
       "    </tr>\n",
       "    <tr>\n",
       "      <th>3</th>\n",
       "      <td>67743</td>\n",
       "      <td>0.0</td>\n",
       "      <td>2013-01-28</td>\n",
       "      <td>unicef</td>\n",
       "      <td>263</td>\n",
       "      <td>unicef</td>\n",
       "      <td>38.486161</td>\n",
       "      <td>-11.155298</td>\n",
       "      <td>zahanati ya nanyumbu</td>\n",
       "      <td>0</td>\n",
       "      <td>ruvuma / southern coast</td>\n",
       "      <td>mahakamani</td>\n",
       "      <td>mtwara</td>\n",
       "      <td>90</td>\n",
       "      <td>63</td>\n",
       "      <td>nanyumbu</td>\n",
       "      <td>nanyumbu</td>\n",
       "      <td>58</td>\n",
       "      <td>True</td>\n",
       "    </tr>\n",
       "    <tr>\n",
       "      <th>4</th>\n",
       "      <td>19728</td>\n",
       "      <td>0.0</td>\n",
       "      <td>2011-07-13</td>\n",
       "      <td>action in a</td>\n",
       "      <td>0</td>\n",
       "      <td>artisan</td>\n",
       "      <td>31.130847</td>\n",
       "      <td>-1.825359</td>\n",
       "      <td>shuleni</td>\n",
       "      <td>0</td>\n",
       "      <td>lake victoria</td>\n",
       "      <td>kyanyamisa</td>\n",
       "      <td>kagera</td>\n",
       "      <td>18</td>\n",
       "      <td>1</td>\n",
       "      <td>karagwe</td>\n",
       "      <td>nyakasimbi</td>\n",
       "      <td>0</td>\n",
       "      <td>True</td>\n",
       "    </tr>\n",
       "    <tr>\n",
       "      <th>...</th>\n",
       "      <td>...</td>\n",
       "      <td>...</td>\n",
       "      <td>...</td>\n",
       "      <td>...</td>\n",
       "      <td>...</td>\n",
       "      <td>...</td>\n",
       "      <td>...</td>\n",
       "      <td>...</td>\n",
       "      <td>...</td>\n",
       "      <td>...</td>\n",
       "      <td>...</td>\n",
       "      <td>...</td>\n",
       "      <td>...</td>\n",
       "      <td>...</td>\n",
       "      <td>...</td>\n",
       "      <td>...</td>\n",
       "      <td>...</td>\n",
       "      <td>...</td>\n",
       "      <td>...</td>\n",
       "    </tr>\n",
       "    <tr>\n",
       "      <th>59395</th>\n",
       "      <td>60739</td>\n",
       "      <td>10.0</td>\n",
       "      <td>2013-05-03</td>\n",
       "      <td>germany republi</td>\n",
       "      <td>1210</td>\n",
       "      <td>ces</td>\n",
       "      <td>37.169807</td>\n",
       "      <td>-3.253847</td>\n",
       "      <td>area three namba 27</td>\n",
       "      <td>0</td>\n",
       "      <td>pangani</td>\n",
       "      <td>kiduruni</td>\n",
       "      <td>kilimanjaro</td>\n",
       "      <td>3</td>\n",
       "      <td>5</td>\n",
       "      <td>hai</td>\n",
       "      <td>masama magharibi</td>\n",
       "      <td>125</td>\n",
       "      <td>True</td>\n",
       "    </tr>\n",
       "    <tr>\n",
       "      <th>59396</th>\n",
       "      <td>27263</td>\n",
       "      <td>4700.0</td>\n",
       "      <td>2011-05-07</td>\n",
       "      <td>cefa-njombe</td>\n",
       "      <td>1212</td>\n",
       "      <td>cefa</td>\n",
       "      <td>35.249991</td>\n",
       "      <td>-9.070629</td>\n",
       "      <td>kwa yahona kuvala</td>\n",
       "      <td>0</td>\n",
       "      <td>rufiji</td>\n",
       "      <td>igumbilo</td>\n",
       "      <td>iringa</td>\n",
       "      <td>11</td>\n",
       "      <td>4</td>\n",
       "      <td>njombe</td>\n",
       "      <td>ikondo</td>\n",
       "      <td>56</td>\n",
       "      <td>True</td>\n",
       "    </tr>\n",
       "    <tr>\n",
       "      <th>59397</th>\n",
       "      <td>37057</td>\n",
       "      <td>0.0</td>\n",
       "      <td>2011-04-11</td>\n",
       "      <td>not known</td>\n",
       "      <td>0</td>\n",
       "      <td>not known</td>\n",
       "      <td>34.017087</td>\n",
       "      <td>-8.750434</td>\n",
       "      <td>mashine</td>\n",
       "      <td>0</td>\n",
       "      <td>rufiji</td>\n",
       "      <td>madungulu</td>\n",
       "      <td>mbeya</td>\n",
       "      <td>12</td>\n",
       "      <td>7</td>\n",
       "      <td>mbarali</td>\n",
       "      <td>chimala</td>\n",
       "      <td>0</td>\n",
       "      <td>True</td>\n",
       "    </tr>\n",
       "    <tr>\n",
       "      <th>59398</th>\n",
       "      <td>31282</td>\n",
       "      <td>0.0</td>\n",
       "      <td>2011-03-08</td>\n",
       "      <td>malec</td>\n",
       "      <td>0</td>\n",
       "      <td>musa</td>\n",
       "      <td>35.861315</td>\n",
       "      <td>-6.378573</td>\n",
       "      <td>mshoro</td>\n",
       "      <td>0</td>\n",
       "      <td>rufiji</td>\n",
       "      <td>mwinyi</td>\n",
       "      <td>dodoma</td>\n",
       "      <td>1</td>\n",
       "      <td>4</td>\n",
       "      <td>chamwino</td>\n",
       "      <td>mvumi makulu</td>\n",
       "      <td>0</td>\n",
       "      <td>True</td>\n",
       "    </tr>\n",
       "    <tr>\n",
       "      <th>59399</th>\n",
       "      <td>26348</td>\n",
       "      <td>0.0</td>\n",
       "      <td>2011-03-23</td>\n",
       "      <td>world bank</td>\n",
       "      <td>191</td>\n",
       "      <td>world</td>\n",
       "      <td>38.104048</td>\n",
       "      <td>-6.747464</td>\n",
       "      <td>kwa mzee lugawa</td>\n",
       "      <td>0</td>\n",
       "      <td>wami / ruvu</td>\n",
       "      <td>kikatanyemba</td>\n",
       "      <td>morogoro</td>\n",
       "      <td>5</td>\n",
       "      <td>2</td>\n",
       "      <td>morogoro rural</td>\n",
       "      <td>ngerengere</td>\n",
       "      <td>150</td>\n",
       "      <td>True</td>\n",
       "    </tr>\n",
       "  </tbody>\n",
       "</table>\n",
       "<p>59398 rows × 19 columns</p>\n",
       "</div>"
      ],
      "text/plain": [
       "          id  amount_tsh date_recorded           funder  gps_height  \\\n",
       "0      69572      6000.0    2011-03-14            roman        1390   \n",
       "1       8776         0.0    2013-03-06          grumeti        1399   \n",
       "2      34310        25.0    2013-02-25     lottery club         686   \n",
       "3      67743         0.0    2013-01-28           unicef         263   \n",
       "4      19728         0.0    2011-07-13      action in a           0   \n",
       "...      ...         ...           ...              ...         ...   \n",
       "59395  60739        10.0    2013-05-03  germany republi        1210   \n",
       "59396  27263      4700.0    2011-05-07      cefa-njombe        1212   \n",
       "59397  37057         0.0    2011-04-11        not known           0   \n",
       "59398  31282         0.0    2011-03-08            malec           0   \n",
       "59399  26348         0.0    2011-03-23       world bank         191   \n",
       "\n",
       "          installer  longitude   latitude              wpt_name  num_private  \\\n",
       "0             roman  34.938093  -9.856322                  none            0   \n",
       "1           grumeti  34.698766  -2.147466              zahanati            0   \n",
       "2      world vision  37.460664  -3.821329           kwa mahundi            0   \n",
       "3            unicef  38.486161 -11.155298  zahanati ya nanyumbu            0   \n",
       "4           artisan  31.130847  -1.825359               shuleni            0   \n",
       "...             ...        ...        ...                   ...          ...   \n",
       "59395           ces  37.169807  -3.253847   area three namba 27            0   \n",
       "59396          cefa  35.249991  -9.070629     kwa yahona kuvala            0   \n",
       "59397     not known  34.017087  -8.750434               mashine            0   \n",
       "59398          musa  35.861315  -6.378573                mshoro            0   \n",
       "59399         world  38.104048  -6.747464       kwa mzee lugawa            0   \n",
       "\n",
       "                         basin    subvillage       region  region_code  \\\n",
       "0                   lake nyasa      mnyusi b       iringa           11   \n",
       "1                lake victoria       nyamara         mara           20   \n",
       "2                      pangani       majengo      manyara           21   \n",
       "3      ruvuma / southern coast    mahakamani       mtwara           90   \n",
       "4                lake victoria    kyanyamisa       kagera           18   \n",
       "...                        ...           ...          ...          ...   \n",
       "59395                  pangani      kiduruni  kilimanjaro            3   \n",
       "59396                   rufiji      igumbilo       iringa           11   \n",
       "59397                   rufiji     madungulu        mbeya           12   \n",
       "59398                   rufiji        mwinyi       dodoma            1   \n",
       "59399              wami / ruvu  kikatanyemba     morogoro            5   \n",
       "\n",
       "       district_code             lga              ward  population  \\\n",
       "0                  5          ludewa          mundindi         109   \n",
       "1                  2       serengeti             natta         280   \n",
       "2                  4       simanjiro           ngorika         250   \n",
       "3                 63        nanyumbu          nanyumbu          58   \n",
       "4                  1         karagwe        nyakasimbi           0   \n",
       "...              ...             ...               ...         ...   \n",
       "59395              5             hai  masama magharibi         125   \n",
       "59396              4          njombe            ikondo          56   \n",
       "59397              7         mbarali           chimala           0   \n",
       "59398              4        chamwino      mvumi makulu           0   \n",
       "59399              2  morogoro rural        ngerengere         150   \n",
       "\n",
       "       public_meeting  \n",
       "0                True  \n",
       "1                <NA>  \n",
       "2                True  \n",
       "3                True  \n",
       "4                True  \n",
       "...               ...  \n",
       "59395            True  \n",
       "59396            True  \n",
       "59397            True  \n",
       "59398            True  \n",
       "59399            True  \n",
       "\n",
       "[59398 rows x 19 columns]"
      ]
     },
     "execution_count": 435,
     "metadata": {},
     "output_type": "execute_result"
    }
   ],
   "source": [
    "cleaned_df"
   ]
  },
  {
   "cell_type": "code",
   "execution_count": 436,
   "metadata": {},
   "outputs": [],
   "source": [
    "# Analyse rows with null values in subvillage\n",
    "filter_subvillage_null = cleaned_df[cleaned_df.subvillage.isna()]"
   ]
  },
  {
   "cell_type": "code",
   "execution_count": 437,
   "metadata": {},
   "outputs": [
    {
     "data": {
      "text/plain": [
       "region  subvillage\n",
       "dodoma  <NA>          361\n",
       "mwanza  <NA>           10\n",
       "Name: count, dtype: int64"
      ]
     },
     "execution_count": 437,
     "metadata": {},
     "output_type": "execute_result"
    }
   ],
   "source": [
    "filter_subvillage_null[['region', 'subvillage']].value_counts(dropna=False)"
   ]
  },
  {
   "cell_type": "code",
   "execution_count": 438,
   "metadata": {},
   "outputs": [
    {
     "data": {
      "text/plain": [
       "subvillage  region   \n",
       "dodoma      mtwara       17\n",
       "            lindi        12\n",
       "            ruvuma        9\n",
       "            singida       5\n",
       "            shinyanga     3\n",
       "            kagera        2\n",
       "            mara          2\n",
       "            rukwa         2\n",
       "mwanza      morogoro      4\n",
       "            mwanza        3\n",
       "            shinyanga     2\n",
       "            mtwara        1\n",
       "Name: count, dtype: int64"
      ]
     },
     "execution_count": 438,
     "metadata": {},
     "output_type": "execute_result"
    }
   ],
   "source": [
    "cleaned_df[cleaned_df.subvillage.isin(['dodoma', 'mwanza'])].groupby(['subvillage'])['region'].value_counts()"
   ]
  },
  {
   "cell_type": "code",
   "execution_count": 439,
   "metadata": {},
   "outputs": [
    {
     "data": {
      "text/plain": [
       "region     subvillage  lga             \n",
       "dodoma     <NA>        kongwa              361\n",
       "kagera     dodoma      chato                 2\n",
       "lindi      dodoma      ruangwa              10\n",
       "                       lindi rural           1\n",
       "                       nachingwea            1\n",
       "mara       dodoma      bunda                 2\n",
       "morogoro   mwanza      ulanga                4\n",
       "mtwara     dodoma      masasi                7\n",
       "                       newala                5\n",
       "                       tandahimba            2\n",
       "                       mtwara rural          2\n",
       "                       nanyumbu              1\n",
       "           mwanza      masasi                1\n",
       "mwanza     mwanza      geita                 3\n",
       "           <NA>        ukerewe              10\n",
       "rukwa      dodoma      sumbawanga rural      2\n",
       "ruvuma     dodoma      songea rural          5\n",
       "                       namtumbo              4\n",
       "shinyanga  dodoma      kishapu               2\n",
       "                       maswa                 1\n",
       "           mwanza      bukombe               2\n",
       "singida    dodoma      singida rural         3\n",
       "                       iramba                2\n",
       "Name: count, dtype: int64"
      ]
     },
     "execution_count": 439,
     "metadata": {},
     "output_type": "execute_result"
    }
   ],
   "source": [
    "# Check for any pattern with other columns\n",
    "cleaned_df[cleaned_df.subvillage.isin(['dodoma', 'mwanza',pd.NA])].groupby(['region', 'subvillage'], dropna=False)[['lga']].value_counts(dropna=False)"
   ]
  },
  {
   "cell_type": "code",
   "execution_count": 440,
   "metadata": {},
   "outputs": [
    {
     "name": "stdout",
     "output_type": "stream",
     "text": [
      "region  ward          subvillage  lga    \n",
      "dodoma  chamkoroma    <NA>        kongwa     41\n",
      "        hogoro        <NA>        kongwa     25\n",
      "        iduo          <NA>        kongwa     16\n",
      "        kibaigwa      <NA>        kongwa      7\n",
      "        kongwa urban  <NA>        kongwa     19\n",
      "        mkoka         <NA>        kongwa     26\n",
      "        mlali         <NA>        kongwa     41\n",
      "        mtanana       <NA>        kongwa     19\n",
      "        njoge         <NA>        kongwa     23\n",
      "        pandambili    <NA>        kongwa     46\n",
      "        sagara        <NA>        kongwa     22\n",
      "        sejeli        <NA>        kongwa     34\n",
      "        ugogoni       <NA>        kongwa     26\n",
      "        zoissa        <NA>        kongwa     16\n",
      "mwanza  bukanda       <NA>        ukerewe     1\n",
      "        bukiko        <NA>        ukerewe     3\n",
      "        bukindo       <NA>        ukerewe     1\n",
      "        bwiro         <NA>        ukerewe     1\n",
      "        bwisya        <NA>        ukerewe     2\n",
      "        murutunguru   <NA>        ukerewe     1\n",
      "        namilembe     <NA>        ukerewe     1\n",
      "        nyang'hwale   mwanza      geita       3\n",
      "Name: count, dtype: int64\n"
     ]
    }
   ],
   "source": [
    "print(cleaned_df[(cleaned_df.region.isin(['dodoma', 'mwanza'])) & (cleaned_df.subvillage.isin(['dodoma', 'mwanza',pd.NA]))].groupby(['region', 'ward'])[[\"subvillage\", \"lga\"]].value_counts(dropna=False))\n",
    "dodoma_ward_list = cleaned_df[(cleaned_df.region=='dodoma') & (cleaned_df.subvillage.isin(['dodoma', 'mwanza',pd.NA]))][\"ward\"].unique()\n",
    "mwanza_ward_list = cleaned_df[(cleaned_df.region=='mwanza') & (cleaned_df.subvillage.isin(['dodoma', 'mwanza',pd.NA]))][\"ward\"].unique()"
   ]
  },
  {
   "cell_type": "code",
   "execution_count": 441,
   "metadata": {},
   "outputs": [
    {
     "data": {
      "text/plain": [
       "lga      subvillage\n",
       "kongwa   <NA>          361\n",
       "ukerewe  kabakara       13\n",
       "         <NA>           10\n",
       "         center          9\n",
       "         buyoga          7\n",
       "                      ... \n",
       "         apembe          1\n",
       "         azimio a        1\n",
       "         umoja           1\n",
       "         uwanjani        1\n",
       "         zamu a          1\n",
       "Name: count, Length: 185, dtype: int64"
      ]
     },
     "execution_count": 441,
     "metadata": {},
     "output_type": "execute_result"
    }
   ],
   "source": [
    "cleaned_df[cleaned_df.lga.isin(['kongwa', 'ukerewe'])].groupby(['lga'])[['subvillage']].value_counts(dropna=False)"
   ]
  },
  {
   "cell_type": "code",
   "execution_count": 442,
   "metadata": {},
   "outputs": [
    {
     "data": {
      "text/plain": [
       "region  ward         subvillage\n",
       "mwanza  bukanda      kwaya         5\n",
       "                     hamkuno       3\n",
       "                     ubungeni      2\n",
       "                     mwaloni       2\n",
       "                     mkuyuni       2\n",
       "                                  ..\n",
       "        nyang'hwale  n/center      1\n",
       "                     isengwa       1\n",
       "                     igalula       1\n",
       "                     center        1\n",
       "                     ikwendele     1\n",
       "Name: count, Length: 113, dtype: int64"
      ]
     },
     "execution_count": 442,
     "metadata": {},
     "output_type": "execute_result"
    }
   ],
   "source": [
    "# cleaned_df[(cleaned_df.region=='dodoma') & (cleaned_df.subvillage.isin(['dodoma', 'mwanza',pd.NA]))]\n",
    "# cleaned_df[(cleaned_df.region.isin(['dodoma'])) & (cleaned_df.ward.isin(dodoma_ward_list))].groupby(['region', 'ward'])[['subvillage']].value_counts(dropna=False)\n",
    "cleaned_df[(cleaned_df.region.isin(['mwanza'])) & (cleaned_df.ward.isin(mwanza_ward_list))].groupby(['region', 'ward'])[['subvillage']].value_counts(dropna=False)"
   ]
  },
  {
   "cell_type": "markdown",
   "metadata": {},
   "source": [
    "From this analysis, we see that `dodoma` and `mwanza` are valid subvillage values and the missing values have regions as same value for both these values. Therefore, we can impute the missing values in subvillage with region value.\n",
    "\n",
    "> Note: We could have dropped these rows as we have sufficient data points but I plan to group categories with less number\n",
    "of values togeter, so imputation might be useful."
   ]
  },
  {
   "cell_type": "code",
   "execution_count": 443,
   "metadata": {},
   "outputs": [],
   "source": [
    "cleaned_df['subvillage'] = cleaned_df['subvillage'].fillna(cleaned_df['region'])"
   ]
  },
  {
   "cell_type": "code",
   "execution_count": 444,
   "metadata": {},
   "outputs": [
    {
     "data": {
      "text/plain": [
       "id                   0\n",
       "amount_tsh           0\n",
       "date_recorded        0\n",
       "funder               0\n",
       "gps_height           0\n",
       "installer            0\n",
       "longitude            0\n",
       "latitude             0\n",
       "wpt_name             0\n",
       "num_private          0\n",
       "basin                0\n",
       "subvillage           0\n",
       "region               0\n",
       "region_code          0\n",
       "district_code        0\n",
       "lga                  0\n",
       "ward                 0\n",
       "population           0\n",
       "public_meeting    3334\n",
       "dtype: int64"
      ]
     },
     "execution_count": 444,
     "metadata": {},
     "output_type": "execute_result"
    }
   ],
   "source": [
    "cleaned_df.isna().sum()"
   ]
  },
  {
   "cell_type": "markdown",
   "metadata": {},
   "source": [
    "#### Column Analysis - public_meeting"
   ]
  },
  {
   "cell_type": "code",
   "execution_count": 445,
   "metadata": {},
   "outputs": [
    {
     "data": {
      "text/plain": [
       "public_meeting\n",
       "True     51009\n",
       "False     5055\n",
       "<NA>      3334\n",
       "Name: count, dtype: Int64"
      ]
     },
     "execution_count": 445,
     "metadata": {},
     "output_type": "execute_result"
    }
   ],
   "source": [
    "cleaned_df.public_meeting.value_counts(dropna=False)"
   ]
  },
  {
   "cell_type": "code",
   "execution_count": 446,
   "metadata": {},
   "outputs": [
    {
     "data": {
      "text/html": [
       "<div>\n",
       "<style scoped>\n",
       "    .dataframe tbody tr th:only-of-type {\n",
       "        vertical-align: middle;\n",
       "    }\n",
       "\n",
       "    .dataframe tbody tr th {\n",
       "        vertical-align: top;\n",
       "    }\n",
       "\n",
       "    .dataframe thead th {\n",
       "        text-align: right;\n",
       "    }\n",
       "</style>\n",
       "<table border=\"1\" class=\"dataframe\">\n",
       "  <thead>\n",
       "    <tr style=\"text-align: right;\">\n",
       "      <th></th>\n",
       "      <th>id</th>\n",
       "      <th>amount_tsh</th>\n",
       "      <th>date_recorded</th>\n",
       "      <th>funder</th>\n",
       "      <th>gps_height</th>\n",
       "      <th>installer</th>\n",
       "      <th>longitude</th>\n",
       "      <th>latitude</th>\n",
       "      <th>wpt_name</th>\n",
       "      <th>num_private</th>\n",
       "      <th>basin</th>\n",
       "      <th>subvillage</th>\n",
       "      <th>region</th>\n",
       "      <th>region_code</th>\n",
       "      <th>district_code</th>\n",
       "      <th>lga</th>\n",
       "      <th>ward</th>\n",
       "      <th>population</th>\n",
       "      <th>public_meeting</th>\n",
       "    </tr>\n",
       "  </thead>\n",
       "  <tbody>\n",
       "    <tr>\n",
       "      <th>1</th>\n",
       "      <td>8776</td>\n",
       "      <td>0.0</td>\n",
       "      <td>2013-03-06</td>\n",
       "      <td>grumeti</td>\n",
       "      <td>1399</td>\n",
       "      <td>grumeti</td>\n",
       "      <td>34.698766</td>\n",
       "      <td>-2.147466</td>\n",
       "      <td>zahanati</td>\n",
       "      <td>0</td>\n",
       "      <td>lake victoria</td>\n",
       "      <td>nyamara</td>\n",
       "      <td>mara</td>\n",
       "      <td>20</td>\n",
       "      <td>2</td>\n",
       "      <td>serengeti</td>\n",
       "      <td>natta</td>\n",
       "      <td>280</td>\n",
       "      <td>&lt;NA&gt;</td>\n",
       "    </tr>\n",
       "    <tr>\n",
       "      <th>18</th>\n",
       "      <td>34169</td>\n",
       "      <td>0.0</td>\n",
       "      <td>2011-07-22</td>\n",
       "      <td>hesawa</td>\n",
       "      <td>1162</td>\n",
       "      <td>dwe</td>\n",
       "      <td>32.920154</td>\n",
       "      <td>-1.947868</td>\n",
       "      <td>ngomee</td>\n",
       "      <td>0</td>\n",
       "      <td>lake victoria</td>\n",
       "      <td>center</td>\n",
       "      <td>mwanza</td>\n",
       "      <td>19</td>\n",
       "      <td>1</td>\n",
       "      <td>ukerewe</td>\n",
       "      <td>ilangala</td>\n",
       "      <td>1000</td>\n",
       "      <td>&lt;NA&gt;</td>\n",
       "    </tr>\n",
       "    <tr>\n",
       "      <th>21</th>\n",
       "      <td>6091</td>\n",
       "      <td>0.0</td>\n",
       "      <td>2013-02-10</td>\n",
       "      <td>dwsp</td>\n",
       "      <td>0</td>\n",
       "      <td>dwe</td>\n",
       "      <td>0.0</td>\n",
       "      <td>-0.0</td>\n",
       "      <td>muungano</td>\n",
       "      <td>0</td>\n",
       "      <td>lake victoria</td>\n",
       "      <td>ibabachegu</td>\n",
       "      <td>shinyanga</td>\n",
       "      <td>17</td>\n",
       "      <td>1</td>\n",
       "      <td>bariadi</td>\n",
       "      <td>ikungulyabashashi</td>\n",
       "      <td>0</td>\n",
       "      <td>&lt;NA&gt;</td>\n",
       "    </tr>\n",
       "    <tr>\n",
       "      <th>58</th>\n",
       "      <td>24593</td>\n",
       "      <td>0.0</td>\n",
       "      <td>2013-01-22</td>\n",
       "      <td>kkkt</td>\n",
       "      <td>1703</td>\n",
       "      <td>kkkt</td>\n",
       "      <td>35.561346</td>\n",
       "      <td>-3.806879</td>\n",
       "      <td>kwa iyora mgirigisi</td>\n",
       "      <td>0</td>\n",
       "      <td>internal</td>\n",
       "      <td>ants b</td>\n",
       "      <td>manyara</td>\n",
       "      <td>21</td>\n",
       "      <td>3</td>\n",
       "      <td>mbulu</td>\n",
       "      <td>bargish</td>\n",
       "      <td>456</td>\n",
       "      <td>&lt;NA&gt;</td>\n",
       "    </tr>\n",
       "    <tr>\n",
       "      <th>73</th>\n",
       "      <td>35715</td>\n",
       "      <td>0.0</td>\n",
       "      <td>2013-02-27</td>\n",
       "      <td>hesawa</td>\n",
       "      <td>1565</td>\n",
       "      <td>hesawa</td>\n",
       "      <td>34.657034</td>\n",
       "      <td>-1.88802</td>\n",
       "      <td>machumbe</td>\n",
       "      <td>0</td>\n",
       "      <td>lake victoria</td>\n",
       "      <td>mtakuja</td>\n",
       "      <td>mara</td>\n",
       "      <td>20</td>\n",
       "      <td>2</td>\n",
       "      <td>serengeti</td>\n",
       "      <td>manchira</td>\n",
       "      <td>200</td>\n",
       "      <td>&lt;NA&gt;</td>\n",
       "    </tr>\n",
       "    <tr>\n",
       "      <th>...</th>\n",
       "      <td>...</td>\n",
       "      <td>...</td>\n",
       "      <td>...</td>\n",
       "      <td>...</td>\n",
       "      <td>...</td>\n",
       "      <td>...</td>\n",
       "      <td>...</td>\n",
       "      <td>...</td>\n",
       "      <td>...</td>\n",
       "      <td>...</td>\n",
       "      <td>...</td>\n",
       "      <td>...</td>\n",
       "      <td>...</td>\n",
       "      <td>...</td>\n",
       "      <td>...</td>\n",
       "      <td>...</td>\n",
       "      <td>...</td>\n",
       "      <td>...</td>\n",
       "      <td>...</td>\n",
       "    </tr>\n",
       "    <tr>\n",
       "      <th>59306</th>\n",
       "      <td>71419</td>\n",
       "      <td>0.0</td>\n",
       "      <td>2013-01-16</td>\n",
       "      <td>cocern</td>\n",
       "      <td>1296</td>\n",
       "      <td>twesa</td>\n",
       "      <td>30.930385</td>\n",
       "      <td>-3.300592</td>\n",
       "      <td>kwa mhunda</td>\n",
       "      <td>0</td>\n",
       "      <td>lake tanganyika</td>\n",
       "      <td>nguvu kazi a</td>\n",
       "      <td>kigoma</td>\n",
       "      <td>16</td>\n",
       "      <td>1</td>\n",
       "      <td>kibondo</td>\n",
       "      <td>kakonko</td>\n",
       "      <td>1</td>\n",
       "      <td>&lt;NA&gt;</td>\n",
       "    </tr>\n",
       "    <tr>\n",
       "      <th>59310</th>\n",
       "      <td>32815</td>\n",
       "      <td>0.0</td>\n",
       "      <td>2013-04-04</td>\n",
       "      <td>tasaf</td>\n",
       "      <td>892</td>\n",
       "      <td>tasaf</td>\n",
       "      <td>37.74409</td>\n",
       "      <td>-4.062296</td>\n",
       "      <td>ward office</td>\n",
       "      <td>0</td>\n",
       "      <td>pangani</td>\n",
       "      <td>same</td>\n",
       "      <td>kilimanjaro</td>\n",
       "      <td>3</td>\n",
       "      <td>3</td>\n",
       "      <td>same</td>\n",
       "      <td>same urban</td>\n",
       "      <td>65</td>\n",
       "      <td>&lt;NA&gt;</td>\n",
       "    </tr>\n",
       "    <tr>\n",
       "      <th>59324</th>\n",
       "      <td>748</td>\n",
       "      <td>0.0</td>\n",
       "      <td>2013-01-22</td>\n",
       "      <td>world vision</td>\n",
       "      <td>0</td>\n",
       "      <td>world vision</td>\n",
       "      <td>0.0</td>\n",
       "      <td>-0.0</td>\n",
       "      <td>mwazwilo</td>\n",
       "      <td>0</td>\n",
       "      <td>lake victoria</td>\n",
       "      <td>mbita</td>\n",
       "      <td>shinyanga</td>\n",
       "      <td>17</td>\n",
       "      <td>1</td>\n",
       "      <td>bariadi</td>\n",
       "      <td>mbita</td>\n",
       "      <td>0</td>\n",
       "      <td>&lt;NA&gt;</td>\n",
       "    </tr>\n",
       "    <tr>\n",
       "      <th>59344</th>\n",
       "      <td>6450</td>\n",
       "      <td>0.0</td>\n",
       "      <td>2013-10-03</td>\n",
       "      <td>not known</td>\n",
       "      <td>1303</td>\n",
       "      <td>not known</td>\n",
       "      <td>36.900911</td>\n",
       "      <td>-3.111477</td>\n",
       "      <td>pentecoste swidish</td>\n",
       "      <td>0</td>\n",
       "      <td>internal</td>\n",
       "      <td>madukani</td>\n",
       "      <td>arusha</td>\n",
       "      <td>2</td>\n",
       "      <td>7</td>\n",
       "      <td>meru</td>\n",
       "      <td>ngarenanyuki</td>\n",
       "      <td>230</td>\n",
       "      <td>&lt;NA&gt;</td>\n",
       "    </tr>\n",
       "    <tr>\n",
       "      <th>59387</th>\n",
       "      <td>26640</td>\n",
       "      <td>100.0</td>\n",
       "      <td>2013-03-12</td>\n",
       "      <td>0</td>\n",
       "      <td>25</td>\n",
       "      <td>0</td>\n",
       "      <td>39.17648</td>\n",
       "      <td>-6.957098</td>\n",
       "      <td>kwa maliba</td>\n",
       "      <td>0</td>\n",
       "      <td>wami / ruvu</td>\n",
       "      <td>mtaa wa yangeyange</td>\n",
       "      <td>dar es salaam</td>\n",
       "      <td>7</td>\n",
       "      <td>2</td>\n",
       "      <td>ilala</td>\n",
       "      <td>msongola</td>\n",
       "      <td>100</td>\n",
       "      <td>&lt;NA&gt;</td>\n",
       "    </tr>\n",
       "  </tbody>\n",
       "</table>\n",
       "<p>3334 rows × 19 columns</p>\n",
       "</div>"
      ],
      "text/plain": [
       "          id  amount_tsh date_recorded        funder  gps_height  \\\n",
       "1       8776         0.0    2013-03-06       grumeti        1399   \n",
       "18     34169         0.0    2011-07-22        hesawa        1162   \n",
       "21      6091         0.0    2013-02-10          dwsp           0   \n",
       "58     24593         0.0    2013-01-22          kkkt        1703   \n",
       "73     35715         0.0    2013-02-27        hesawa        1565   \n",
       "...      ...         ...           ...           ...         ...   \n",
       "59306  71419         0.0    2013-01-16        cocern        1296   \n",
       "59310  32815         0.0    2013-04-04         tasaf         892   \n",
       "59324    748         0.0    2013-01-22  world vision           0   \n",
       "59344   6450         0.0    2013-10-03     not known        1303   \n",
       "59387  26640       100.0    2013-03-12             0          25   \n",
       "\n",
       "          installer  longitude  latitude             wpt_name  num_private  \\\n",
       "1           grumeti  34.698766 -2.147466             zahanati            0   \n",
       "18              dwe  32.920154 -1.947868               ngomee            0   \n",
       "21              dwe        0.0      -0.0             muungano            0   \n",
       "58             kkkt  35.561346 -3.806879  kwa iyora mgirigisi            0   \n",
       "73           hesawa  34.657034  -1.88802             machumbe            0   \n",
       "...             ...        ...       ...                  ...          ...   \n",
       "59306         twesa  30.930385 -3.300592           kwa mhunda            0   \n",
       "59310         tasaf   37.74409 -4.062296          ward office            0   \n",
       "59324  world vision        0.0      -0.0             mwazwilo            0   \n",
       "59344     not known  36.900911 -3.111477   pentecoste swidish            0   \n",
       "59387             0   39.17648 -6.957098           kwa maliba            0   \n",
       "\n",
       "                 basin          subvillage         region  region_code  \\\n",
       "1        lake victoria             nyamara           mara           20   \n",
       "18       lake victoria              center         mwanza           19   \n",
       "21       lake victoria          ibabachegu      shinyanga           17   \n",
       "58            internal              ants b        manyara           21   \n",
       "73       lake victoria             mtakuja           mara           20   \n",
       "...                ...                 ...            ...          ...   \n",
       "59306  lake tanganyika        nguvu kazi a         kigoma           16   \n",
       "59310          pangani                same    kilimanjaro            3   \n",
       "59324    lake victoria               mbita      shinyanga           17   \n",
       "59344         internal            madukani         arusha            2   \n",
       "59387      wami / ruvu  mtaa wa yangeyange  dar es salaam            7   \n",
       "\n",
       "       district_code        lga               ward  population  public_meeting  \n",
       "1                  2  serengeti              natta         280            <NA>  \n",
       "18                 1    ukerewe           ilangala        1000            <NA>  \n",
       "21                 1    bariadi  ikungulyabashashi           0            <NA>  \n",
       "58                 3      mbulu            bargish         456            <NA>  \n",
       "73                 2  serengeti           manchira         200            <NA>  \n",
       "...              ...        ...                ...         ...             ...  \n",
       "59306              1    kibondo            kakonko           1            <NA>  \n",
       "59310              3       same         same urban          65            <NA>  \n",
       "59324              1    bariadi              mbita           0            <NA>  \n",
       "59344              7       meru       ngarenanyuki         230            <NA>  \n",
       "59387              2      ilala           msongola         100            <NA>  \n",
       "\n",
       "[3334 rows x 19 columns]"
      ]
     },
     "execution_count": 446,
     "metadata": {},
     "output_type": "execute_result"
    }
   ],
   "source": [
    "cleaned_df[cleaned_df.public_meeting.isna()]"
   ]
  },
  {
   "cell_type": "code",
   "execution_count": 447,
   "metadata": {},
   "outputs": [
    {
     "data": {
      "text/plain": [
       "district_code\n",
       "3                1015\n",
       "2                1012\n",
       "1                 486\n",
       "7                 288\n",
       "5                 141\n",
       "4                 108\n",
       "13                 79\n",
       "43                 73\n",
       "6                  59\n",
       "53                 28\n",
       "33                 23\n",
       "8                  15\n",
       "63                  2\n",
       "23                  2\n",
       "80                  2\n",
       "30                  1\n",
       "Name: count, dtype: int64"
      ]
     },
     "execution_count": 447,
     "metadata": {},
     "output_type": "execute_result"
    }
   ],
   "source": [
    "# Analyze null rows\n",
    "cleaned_df[cleaned_df.public_meeting.isna()][[\"district_code\"]].value_counts(dropna=False)"
   ]
  },
  {
   "cell_type": "markdown",
   "metadata": {},
   "source": [
    "We don't have enough information to impute the `public_meeting` column. Therefore we will drop the rows with null values."
   ]
  },
  {
   "cell_type": "code",
   "execution_count": 448,
   "metadata": {},
   "outputs": [],
   "source": [
    "cleaned_df = cleaned_df.dropna(subset=['public_meeting'])"
   ]
  },
  {
   "cell_type": "code",
   "execution_count": 449,
   "metadata": {},
   "outputs": [
    {
     "data": {
      "text/plain": [
       "(56064, 19)"
      ]
     },
     "execution_count": 449,
     "metadata": {},
     "output_type": "execute_result"
    }
   ],
   "source": [
    "cleaned_df.shape"
   ]
  },
  {
   "cell_type": "code",
   "execution_count": 450,
   "metadata": {},
   "outputs": [
    {
     "data": {
      "text/plain": [
       "id                0\n",
       "amount_tsh        0\n",
       "date_recorded     0\n",
       "funder            0\n",
       "gps_height        0\n",
       "installer         0\n",
       "longitude         0\n",
       "latitude          0\n",
       "wpt_name          0\n",
       "num_private       0\n",
       "basin             0\n",
       "subvillage        0\n",
       "region            0\n",
       "region_code       0\n",
       "district_code     0\n",
       "lga               0\n",
       "ward              0\n",
       "population        0\n",
       "public_meeting    0\n",
       "dtype: int64"
      ]
     },
     "execution_count": 450,
     "metadata": {},
     "output_type": "execute_result"
    }
   ],
   "source": [
    "cleaned_df.isna().sum()"
   ]
  },
  {
   "cell_type": "markdown",
   "metadata": {},
   "source": [
    "### Categorical data cleaning"
   ]
  },
  {
   "cell_type": "code",
   "execution_count": 451,
   "metadata": {},
   "outputs": [
    {
     "data": {
      "text/plain": [
       "(56064, 19)"
      ]
     },
     "execution_count": 451,
     "metadata": {},
     "output_type": "execute_result"
    }
   ],
   "source": [
    "combined_cols = []\n",
    "cleaned_df.shape"
   ]
  },
  {
   "cell_type": "code",
   "execution_count": 452,
   "metadata": {},
   "outputs": [
    {
     "data": {
      "text/plain": [
       "Index(['funder', 'installer', 'wpt_name', 'basin', 'subvillage', 'region',\n",
       "       'lga', 'ward'],\n",
       "      dtype='object')"
      ]
     },
     "execution_count": 452,
     "metadata": {},
     "output_type": "execute_result"
    }
   ],
   "source": [
    "# Print all categorical columns\n",
    "cleaned_df.select_dtypes('string').columns"
   ]
  },
  {
   "cell_type": "code",
   "execution_count": 453,
   "metadata": {},
   "outputs": [],
   "source": [
    "#Helper Function\n",
    "def combine_categories(data, column, thresh=5):\n",
    "    series_count = pd.value_counts(data[column])\n",
    "    mask = ((series_count / series_count.sum())*100).lt(thresh)\n",
    "    grouped_cat = series_count[mask].index.tolist()\n",
    "    data = data.assign(**{f'{column}_combined':data[column].apply(lambda x: 'Other' if x in grouped_cat else x).values})\n",
    "    if column not in combined_cols:\n",
    "        combined_cols.append(column)\n",
    "    print(f\"Combined Columns List: {combined_cols}\")\n",
    "    return data"
   ]
  },
  {
   "cell_type": "markdown",
   "metadata": {},
   "source": [
    "#### Column Analysis - Funder"
   ]
  },
  {
   "cell_type": "code",
   "execution_count": 454,
   "metadata": {},
   "outputs": [
    {
     "data": {
      "text/plain": [
       "funder\n",
       "government of tanzania    8666\n",
       "not known                 3466\n",
       "danida                    2924\n",
       "hesawa                    1986\n",
       "kkkt                      1282\n",
       "                          ... \n",
       "kaaya                        1\n",
       "kalitesi                     1\n",
       "sun-ja na                    1\n",
       "twice                        1\n",
       "rwi                          1\n",
       "Name: count, Length: 1754, dtype: Int64"
      ]
     },
     "execution_count": 454,
     "metadata": {},
     "output_type": "execute_result"
    }
   ],
   "source": [
    "cleaned_df.funder.value_counts()"
   ]
  },
  {
   "cell_type": "markdown",
   "metadata": {},
   "source": [
    "We have `1754` unique values in column funder with almost 18% values in one category. We can assign the funder with very low frequency to be `Other` as this will help reduce the complexity of model without loosing too much information. We will combine all the categories with frequency less than 1%."
   ]
  },
  {
   "cell_type": "code",
   "execution_count": 455,
   "metadata": {},
   "outputs": [
    {
     "name": "stdout",
     "output_type": "stream",
     "text": [
      "Combined Columns List: ['funder']\n"
     ]
    },
    {
     "data": {
      "text/plain": [
       "funder_combined\n",
       "Other                     26636\n",
       "government of tanzania     8666\n",
       "not known                  3466\n",
       "danida                     2924\n",
       "hesawa                     1986\n",
       "kkkt                       1282\n",
       "world bank                 1273\n",
       "rwssp                      1256\n",
       "world vision               1172\n",
       "unicef                     1031\n",
       "dhv                         828\n",
       "tasaf                       821\n",
       "district council            818\n",
       "private individual          792\n",
       "norad                       760\n",
       "germany republi             610\n",
       "tcrs                        594\n",
       "water                       583\n",
       "ministry of water           566\n",
       "Name: count, dtype: int64"
      ]
     },
     "execution_count": 455,
     "metadata": {},
     "output_type": "execute_result"
    }
   ],
   "source": [
    "cleaned_df = combine_categories(cleaned_df, 'funder', 1)\n",
    "cleaned_df.funder_combined.value_counts()"
   ]
  },
  {
   "cell_type": "markdown",
   "metadata": {},
   "source": [
    "#### Column Analysis - Installer"
   ]
  },
  {
   "cell_type": "code",
   "execution_count": 456,
   "metadata": {},
   "outputs": [
    {
     "data": {
      "text/plain": [
       "installer\n",
       "dwe                     16683\n",
       "not known                3484\n",
       "government               1541\n",
       "rwe                      1190\n",
       "hesawa                   1178\n",
       "                        ...  \n",
       "halimashauli                1\n",
       "rudri                       1\n",
       "alex moyela                 1\n",
       "centra government           1\n",
       "compasion internatio        1\n",
       "Name: count, Length: 1779, dtype: Int64"
      ]
     },
     "execution_count": 456,
     "metadata": {},
     "output_type": "execute_result"
    }
   ],
   "source": [
    "cleaned_df.installer.value_counts()"
   ]
  },
  {
   "cell_type": "markdown",
   "metadata": {},
   "source": [
    "Similarly, we have too many unique values with low frequencies. Therefore, we will combine them"
   ]
  },
  {
   "cell_type": "code",
   "execution_count": 457,
   "metadata": {},
   "outputs": [
    {
     "name": "stdout",
     "output_type": "stream",
     "text": [
      "Combined Columns List: ['funder', 'installer']\n"
     ]
    },
    {
     "data": {
      "text/plain": [
       "installer_combined\n",
       "Other                 24885\n",
       "dwe                   16683\n",
       "not known              3484\n",
       "government             1541\n",
       "rwe                    1190\n",
       "hesawa                 1178\n",
       "commu                  1064\n",
       "district council        950\n",
       "kkkt                    905\n",
       "danida                  863\n",
       "central government      757\n",
       "tcrs                    697\n",
       "world vision            633\n",
       "danid                   624\n",
       "ces                     610\n",
       "Name: count, dtype: int64"
      ]
     },
     "execution_count": 457,
     "metadata": {},
     "output_type": "execute_result"
    }
   ],
   "source": [
    "cleaned_df = combine_categories(cleaned_df, 'installer', 1)\n",
    "cleaned_df.installer_combined.value_counts()"
   ]
  },
  {
   "cell_type": "markdown",
   "metadata": {},
   "source": [
    "#### Column Analysis - wpt_name"
   ]
  },
  {
   "cell_type": "code",
   "execution_count": 458,
   "metadata": {},
   "outputs": [
    {
     "data": {
      "text/plain": [
       "wpt_name\n",
       "none                 3517\n",
       "shuleni              1602\n",
       "zahanati              765\n",
       "msikitini             520\n",
       "kanisani              313\n",
       "                     ... \n",
       "riata                   1\n",
       "kwa eliot masawa        1\n",
       "kwa james siai          1\n",
       "kwa doritha             1\n",
       "shuleni kwalakama       1\n",
       "Name: count, Length: 35497, dtype: Int64"
      ]
     },
     "execution_count": 458,
     "metadata": {},
     "output_type": "execute_result"
    }
   ],
   "source": [
    "cleaned_df.wpt_name.value_counts()"
   ]
  },
  {
   "cell_type": "markdown",
   "metadata": {},
   "source": [
    "Similarly,we combine categories with frequency less than 1%"
   ]
  },
  {
   "cell_type": "code",
   "execution_count": 459,
   "metadata": {},
   "outputs": [
    {
     "name": "stdout",
     "output_type": "stream",
     "text": [
      "Combined Columns List: ['funder', 'installer', 'wpt_name']\n"
     ]
    },
    {
     "data": {
      "text/plain": [
       "wpt_name_combined\n",
       "Other       50180\n",
       "none         3517\n",
       "shuleni      1602\n",
       "zahanati      765\n",
       "Name: count, dtype: int64"
      ]
     },
     "execution_count": 459,
     "metadata": {},
     "output_type": "execute_result"
    }
   ],
   "source": [
    "cleaned_df = combine_categories(cleaned_df, 'wpt_name', 1)\n",
    "cleaned_df.wpt_name_combined.value_counts()"
   ]
  },
  {
   "cell_type": "markdown",
   "metadata": {},
   "source": [
    "#### Column Analysis - Basin"
   ]
  },
  {
   "cell_type": "code",
   "execution_count": 460,
   "metadata": {},
   "outputs": [
    {
     "data": {
      "text/plain": [
       "basin\n",
       "pangani                    8902\n",
       "lake victoria              8856\n",
       "rufiji                     7949\n",
       "internal                   7465\n",
       "lake tanganyika            6143\n",
       "wami / ruvu                5506\n",
       "lake nyasa                 4694\n",
       "ruvuma / southern coast    4137\n",
       "lake rukwa                 2412\n",
       "Name: count, dtype: Int64"
      ]
     },
     "execution_count": 460,
     "metadata": {},
     "output_type": "execute_result"
    }
   ],
   "source": [
    "cleaned_df.basin.value_counts()"
   ]
  },
  {
   "cell_type": "markdown",
   "metadata": {},
   "source": [
    "No transformation needed."
   ]
  },
  {
   "cell_type": "markdown",
   "metadata": {},
   "source": [
    "#### Column Analysis - Subvillage"
   ]
  },
  {
   "cell_type": "code",
   "execution_count": 461,
   "metadata": {},
   "outputs": [
    {
     "data": {
      "text/plain": [
       "subvillage\n",
       "shuleni         492\n",
       "majengo         490\n",
       "madukani        453\n",
       "dodoma          409\n",
       "kati            359\n",
       "               ... \n",
       "kwamvuma          1\n",
       "malesela          1\n",
       "miembe dekwa      1\n",
       "lung'uda          1\n",
       "mbanja b          1\n",
       "Name: count, Length: 18367, dtype: Int64"
      ]
     },
     "execution_count": 461,
     "metadata": {},
     "output_type": "execute_result"
    }
   ],
   "source": [
    "cleaned_df.subvillage.value_counts()"
   ]
  },
  {
   "cell_type": "markdown",
   "metadata": {},
   "source": [
    "We have a lot of categories with low frequencies. Therefore we will combine categories with less than 0.5% frequency."
   ]
  },
  {
   "cell_type": "code",
   "execution_count": 462,
   "metadata": {},
   "outputs": [
    {
     "name": "stdout",
     "output_type": "stream",
     "text": [
      "Combined Columns List: ['funder', 'installer', 'wpt_name', 'subvillage']\n"
     ]
    },
    {
     "data": {
      "text/plain": [
       "subvillage_combined\n",
       "Other       53861\n",
       "shuleni       492\n",
       "majengo       490\n",
       "madukani      453\n",
       "dodoma        409\n",
       "kati          359\n",
       "Name: count, dtype: int64"
      ]
     },
     "execution_count": 462,
     "metadata": {},
     "output_type": "execute_result"
    }
   ],
   "source": [
    "cleaned_df = combine_categories(cleaned_df, 'subvillage', 0.5)\n",
    "cleaned_df.subvillage_combined.value_counts()"
   ]
  },
  {
   "cell_type": "markdown",
   "metadata": {},
   "source": [
    "#### Column Analysis - Region"
   ]
  },
  {
   "cell_type": "code",
   "execution_count": 463,
   "metadata": {},
   "outputs": [
    {
     "data": {
      "text/plain": [
       "region\n",
       "iringa           5292\n",
       "mbeya            4617\n",
       "kilimanjaro      4358\n",
       "shinyanga        4335\n",
       "morogoro         3974\n",
       "kagera           3316\n",
       "arusha           3312\n",
       "mwanza           2814\n",
       "kigoma           2785\n",
       "pwani            2628\n",
       "tanga            2544\n",
       "dodoma           2200\n",
       "ruvuma           2118\n",
       "singida          1968\n",
       "tabora           1902\n",
       "rukwa            1755\n",
       "mtwara           1698\n",
       "manyara          1537\n",
       "lindi            1365\n",
       "mara             1201\n",
       "dar es salaam     345\n",
       "Name: count, dtype: Int64"
      ]
     },
     "execution_count": 463,
     "metadata": {},
     "output_type": "execute_result"
    }
   ],
   "source": [
    "cleaned_df.region.value_counts()"
   ]
  },
  {
   "cell_type": "code",
   "execution_count": 464,
   "metadata": {},
   "outputs": [
    {
     "name": "stdout",
     "output_type": "stream",
     "text": [
      "Combined Columns List: ['funder', 'installer', 'wpt_name', 'subvillage', 'region']\n"
     ]
    },
    {
     "data": {
      "text/plain": [
       "region_combined\n",
       "iringa         5292\n",
       "mbeya          4617\n",
       "Other          4448\n",
       "kilimanjaro    4358\n",
       "shinyanga      4335\n",
       "morogoro       3974\n",
       "kagera         3316\n",
       "arusha         3312\n",
       "mwanza         2814\n",
       "kigoma         2785\n",
       "pwani          2628\n",
       "tanga          2544\n",
       "dodoma         2200\n",
       "ruvuma         2118\n",
       "singida        1968\n",
       "tabora         1902\n",
       "rukwa          1755\n",
       "mtwara         1698\n",
       "Name: count, dtype: int64"
      ]
     },
     "execution_count": 464,
     "metadata": {},
     "output_type": "execute_result"
    }
   ],
   "source": [
    "cleaned_df = combine_categories(cleaned_df, 'region', 3)\n",
    "cleaned_df.region_combined.value_counts()"
   ]
  },
  {
   "cell_type": "markdown",
   "metadata": {},
   "source": [
    "#### Column Analysis - LGA"
   ]
  },
  {
   "cell_type": "code",
   "execution_count": 465,
   "metadata": {},
   "outputs": [
    {
     "data": {
      "text/plain": [
       "lga\n",
       "njombe          2503\n",
       "arusha rural    1248\n",
       "moshi rural     1234\n",
       "rungwe          1089\n",
       "kilosa          1070\n",
       "                ... \n",
       "kigoma urban      69\n",
       "arusha urban      63\n",
       "ilala             37\n",
       "lindi urban       21\n",
       "nyamagana          1\n",
       "Name: count, Length: 125, dtype: Int64"
      ]
     },
     "execution_count": 465,
     "metadata": {},
     "output_type": "execute_result"
    }
   ],
   "source": [
    "cleaned_df.lga.value_counts()"
   ]
  },
  {
   "cell_type": "code",
   "execution_count": 466,
   "metadata": {},
   "outputs": [
    {
     "name": "stdout",
     "output_type": "stream",
     "text": [
      "Combined Columns List: ['funder', 'installer', 'wpt_name', 'subvillage', 'region', 'lga']\n"
     ]
    },
    {
     "data": {
      "text/plain": [
       "lga_combined\n",
       "Other              25436\n",
       "njombe              2503\n",
       "arusha rural        1248\n",
       "moshi rural         1234\n",
       "rungwe              1089\n",
       "kilosa              1070\n",
       "kasulu              1045\n",
       "mbozi               1029\n",
       "bagamoyo             993\n",
       "meru                 990\n",
       "kilombero            956\n",
       "singida rural        880\n",
       "same                 874\n",
       "bariadi              871\n",
       "kyela                859\n",
       "kibondo              853\n",
       "kigoma rural         818\n",
       "maswa                800\n",
       "karagwe              771\n",
       "magu                 769\n",
       "iringa rural         728\n",
       "kahama               720\n",
       "lushoto              694\n",
       "songea rural         692\n",
       "mvomero              671\n",
       "namtumbo             671\n",
       "ngara                669\n",
       "mpanda               669\n",
       "ulanga               660\n",
       "makete               629\n",
       "mbarali              626\n",
       "hai                  625\n",
       "kwimba               607\n",
       "rombo                594\n",
       "shinyanga rural      585\n",
       "nzega                573\n",
       "ludewa               563\n",
       "Name: count, dtype: int64"
      ]
     },
     "execution_count": 466,
     "metadata": {},
     "output_type": "execute_result"
    }
   ],
   "source": [
    "cleaned_df = combine_categories(cleaned_df, 'lga', 1)\n",
    "cleaned_df.lga_combined.value_counts()"
   ]
  },
  {
   "cell_type": "markdown",
   "metadata": {},
   "source": [
    "#### Column Analysis - Ward"
   ]
  },
  {
   "cell_type": "code",
   "execution_count": 467,
   "metadata": {},
   "outputs": [
    {
     "data": {
      "text/plain": [
       "ward\n",
       "igosi           307\n",
       "imalinyi        252\n",
       "siha kati       232\n",
       "mdandu          231\n",
       "nduruma         216\n",
       "               ... \n",
       "chinugulu         1\n",
       "kinungu           1\n",
       "ifinga            1\n",
       "thawi             1\n",
       "mbinga urban      1\n",
       "Name: count, Length: 2049, dtype: Int64"
      ]
     },
     "execution_count": 467,
     "metadata": {},
     "output_type": "execute_result"
    }
   ],
   "source": [
    "cleaned_df.ward.value_counts()"
   ]
  },
  {
   "cell_type": "code",
   "execution_count": 468,
   "metadata": {},
   "outputs": [
    {
     "name": "stdout",
     "output_type": "stream",
     "text": [
      "Combined Columns List: ['funder', 'installer', 'wpt_name', 'subvillage', 'region', 'lga', 'ward']\n"
     ]
    },
    {
     "data": {
      "text/plain": [
       "ward_combined\n",
       "Other        55042\n",
       "igosi          307\n",
       "imalinyi       252\n",
       "siha kati      232\n",
       "mdandu         231\n",
       "Name: count, dtype: int64"
      ]
     },
     "execution_count": 468,
     "metadata": {},
     "output_type": "execute_result"
    }
   ],
   "source": [
    "cleaned_df = combine_categories(cleaned_df, 'ward', 0.4)\n",
    "cleaned_df.ward_combined.value_counts()"
   ]
  },
  {
   "cell_type": "markdown",
   "metadata": {},
   "source": [
    "#### Drop altered columns"
   ]
  },
  {
   "cell_type": "code",
   "execution_count": 406,
   "metadata": {},
   "outputs": [],
   "source": [
    "cleaned_first_20_df = cleaned_df.drop(combined_cols, axis=1)\n",
    "cleaned_first_20_df = cleaned_first_20_df.convert_dtypes()"
   ]
  },
  {
   "cell_type": "code",
   "execution_count": 407,
   "metadata": {},
   "outputs": [
    {
     "name": "stdout",
     "output_type": "stream",
     "text": [
      "<class 'pandas.core.frame.DataFrame'>\n",
      "Index: 56064 entries, 0 to 59399\n",
      "Data columns (total 19 columns):\n",
      " #   Column               Non-Null Count  Dtype         \n",
      "---  ------               --------------  -----         \n",
      " 0   id                   56064 non-null  Int64         \n",
      " 1   amount_tsh           56064 non-null  Float64       \n",
      " 2   date_recorded        56064 non-null  datetime64[ns]\n",
      " 3   gps_height           56064 non-null  Int64         \n",
      " 4   longitude            56064 non-null  Float64       \n",
      " 5   latitude             56064 non-null  Float64       \n",
      " 6   num_private          56064 non-null  Int64         \n",
      " 7   basin                56064 non-null  string        \n",
      " 8   region_code          56064 non-null  Int64         \n",
      " 9   district_code        56064 non-null  Int64         \n",
      " 10  population           56064 non-null  Int64         \n",
      " 11  public_meeting       56064 non-null  boolean       \n",
      " 12  funder_combined      56064 non-null  string        \n",
      " 13  installer_combined   56064 non-null  string        \n",
      " 14  wpt_name_combined    56064 non-null  string        \n",
      " 15  subvillage_combined  56064 non-null  string        \n",
      " 16  region_combined      56064 non-null  string        \n",
      " 17  lga_combined         56064 non-null  string        \n",
      " 18  ward_combined        56064 non-null  string        \n",
      "dtypes: Float64(3), Int64(6), boolean(1), datetime64[ns](1), string(8)\n",
      "memory usage: 8.7 MB\n"
     ]
    }
   ],
   "source": [
    "cleaned_first_20_df.info()"
   ]
  },
  {
   "cell_type": "markdown",
   "metadata": {},
   "source": [
    "#### Numerical Column Analysis"
   ]
  },
  {
   "cell_type": "code",
   "execution_count": 489,
   "metadata": {},
   "outputs": [
    {
     "data": {
      "text/plain": [
       "['id',\n",
       " 'district_code',\n",
       " 'region_code',\n",
       " 'public_meeting',\n",
       " 'gps_height',\n",
       " 'date_recorded',\n",
       " 'longitude',\n",
       " 'population',\n",
       " 'latitude',\n",
       " 'num_private',\n",
       " 'amount_tsh']"
      ]
     },
     "execution_count": 489,
     "metadata": {},
     "output_type": "execute_result"
    }
   ],
   "source": [
    "drop_numerical_cols = []\n",
    "list(set(cleaned_df.columns).difference(set(cleaned_df.select_dtypes(['string','object']))))"
   ]
  },
  {
   "cell_type": "markdown",
   "metadata": {},
   "source": [
    "We can drop id as it has all unique elements"
   ]
  },
  {
   "cell_type": "code",
   "execution_count": 490,
   "metadata": {},
   "outputs": [
    {
     "name": "stdout",
     "output_type": "stream",
     "text": [
      "id : 56064\n",
      "amount_tsh : 94\n",
      "date_recorded : 354\n",
      "funder : 1754\n",
      "gps_height : 2428\n",
      "installer : 1779\n",
      "longitude : 54564\n",
      "latitude : 54565\n",
      "wpt_name : 35497\n",
      "num_private : 62\n",
      "basin : 9\n",
      "subvillage : 18367\n",
      "region : 21\n",
      "region_code : 27\n",
      "district_code : 20\n",
      "lga : 125\n",
      "ward : 2049\n",
      "population : 1026\n",
      "public_meeting : 2\n",
      "funder_combined : 19\n",
      "installer_combined : 15\n",
      "wpt_name_combined : 4\n",
      "subvillage_combined : 6\n",
      "region_combined : 18\n",
      "lga_combined : 37\n",
      "ward_combined : 5\n"
     ]
    }
   ],
   "source": [
    "for col in cleaned_df.columns:\n",
    "    print(f\"{col} : {len(cleaned_df[col].unique())}\")"
   ]
  },
  {
   "cell_type": "markdown",
   "metadata": {},
   "source": [
    "#### Column Analysis - District Code"
   ]
  },
  {
   "cell_type": "code",
   "execution_count": 476,
   "metadata": {},
   "outputs": [
    {
     "data": {
      "text/plain": [
       "district_code  region_code\n",
       "4              11             2473\n",
       "3              17             1282\n",
       "4              3              1208\n",
       "2              2              1202\n",
       "               16             1156\n",
       "                              ... \n",
       "6              6                26\n",
       "0              1                23\n",
       "80             17               10\n",
       "67             60                6\n",
       "43             40                1\n",
       "Name: count, Length: 130, dtype: int64"
      ]
     },
     "execution_count": 476,
     "metadata": {},
     "output_type": "execute_result"
    }
   ],
   "source": [
    "cleaned_df[['district_code', 'region_code']].value_counts()"
   ]
  },
  {
   "cell_type": "markdown",
   "metadata": {},
   "source": [
    "#### Column Analysis - Region Code"
   ]
  },
  {
   "cell_type": "markdown",
   "metadata": {},
   "source": [
    "#### Column Analysis - Public Meeting"
   ]
  },
  {
   "cell_type": "markdown",
   "metadata": {},
   "source": [
    "#### Column Analysis - GPS Height"
   ]
  },
  {
   "cell_type": "markdown",
   "metadata": {},
   "source": [
    "#### Column Analysis - Date Recorded"
   ]
  },
  {
   "cell_type": "markdown",
   "metadata": {},
   "source": [
    "#### Column Analysis - Population"
   ]
  },
  {
   "cell_type": "markdown",
   "metadata": {},
   "source": [
    "#### Column Analysis - Num Private"
   ]
  },
  {
   "cell_type": "markdown",
   "metadata": {},
   "source": [
    "#### Column Analysis - Amount TSH"
   ]
  },
  {
   "cell_type": "markdown",
   "metadata": {},
   "source": []
  }
 ],
 "metadata": {
  "kernelspec": {
   "display_name": "pump-it",
   "language": "python",
   "name": "python3"
  },
  "language_info": {
   "codemirror_mode": {
    "name": "ipython",
    "version": 3
   },
   "file_extension": ".py",
   "mimetype": "text/x-python",
   "name": "python",
   "nbconvert_exporter": "python",
   "pygments_lexer": "ipython3",
   "version": "3.11.4"
  },
  "orig_nbformat": 4
 },
 "nbformat": 4,
 "nbformat_minor": 2
}
