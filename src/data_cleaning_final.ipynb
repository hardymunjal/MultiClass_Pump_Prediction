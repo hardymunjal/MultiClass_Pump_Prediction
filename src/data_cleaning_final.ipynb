{
 "cells": [
  {
   "cell_type": "markdown",
   "metadata": {},
   "source": [
    "# Data Cleaning Pipeline"
   ]
  },
  {
   "cell_type": "code",
   "execution_count": 5,
   "metadata": {},
   "outputs": [
    {
     "name": "stdout",
     "output_type": "stream",
     "text": [
      "Root Folder location: /workspaces/MultiClass_Pump_Prediction\n"
     ]
    }
   ],
   "source": [
    "# Import Libraries\n",
    "import pandas as pd\n",
    "from helper_file import ROOT_PATH"
   ]
  },
  {
   "cell_type": "code",
   "execution_count": 2,
   "metadata": {},
   "outputs": [
    {
     "name": "stdout",
     "output_type": "stream",
     "text": [
      "Initial Output Rows: 60\n",
      "Updated Output Rows: 60\n"
     ]
    }
   ],
   "source": [
    "# Edit Configuration \n",
    "print(\"Initial Output Rows:\", pd.options.display.max_rows)\n",
    "pd.options.display.max_rows = 60\n",
    "print(\"Updated Output Rows:\", pd.options.display.max_rows)"
   ]
  },
  {
   "cell_type": "markdown",
   "metadata": {},
   "source": [
    "## Load Data"
   ]
  },
  {
   "cell_type": "code",
   "execution_count": 3,
   "metadata": {},
   "outputs": [
    {
     "name": "stdout",
     "output_type": "stream",
     "text": [
      "Pump Data Values Shape: \n",
      "\n",
      "(59400, 40)\n",
      "\n",
      "Pump Data Labels Shape: \n",
      "\n",
      "(59400, 2)\n"
     ]
    }
   ],
   "source": [
    "pump_data_val = pd.read_csv(f\"{ROOT_PATH}/data/training_set_values.csv\")\n",
    "pump_data_lab = pd.read_csv(f\"{ROOT_PATH}/data/training_set_labels.csv\")\n",
    "\n",
    "print(\"Pump Data Values Shape: \\n\")\n",
    "print(pump_data_val.shape)\n",
    "\n",
    "print(\"\\nPump Data Labels Shape: \\n\")\n",
    "print(pump_data_lab.shape)"
   ]
  },
  {
   "cell_type": "code",
   "execution_count": 4,
   "metadata": {},
   "outputs": [
    {
     "data": {
      "text/html": [
       "<div>\n",
       "<style scoped>\n",
       "    .dataframe tbody tr th:only-of-type {\n",
       "        vertical-align: middle;\n",
       "    }\n",
       "\n",
       "    .dataframe tbody tr th {\n",
       "        vertical-align: top;\n",
       "    }\n",
       "\n",
       "    .dataframe thead th {\n",
       "        text-align: right;\n",
       "    }\n",
       "</style>\n",
       "<table border=\"1\" class=\"dataframe\">\n",
       "  <thead>\n",
       "    <tr style=\"text-align: right;\">\n",
       "      <th></th>\n",
       "      <th>id</th>\n",
       "      <th>amount_tsh</th>\n",
       "      <th>date_recorded</th>\n",
       "      <th>funder</th>\n",
       "      <th>gps_height</th>\n",
       "      <th>installer</th>\n",
       "      <th>longitude</th>\n",
       "      <th>latitude</th>\n",
       "      <th>wpt_name</th>\n",
       "      <th>num_private</th>\n",
       "      <th>...</th>\n",
       "      <th>payment_type</th>\n",
       "      <th>water_quality</th>\n",
       "      <th>quality_group</th>\n",
       "      <th>quantity</th>\n",
       "      <th>quantity_group</th>\n",
       "      <th>source</th>\n",
       "      <th>source_type</th>\n",
       "      <th>source_class</th>\n",
       "      <th>waterpoint_type</th>\n",
       "      <th>waterpoint_type_group</th>\n",
       "    </tr>\n",
       "  </thead>\n",
       "  <tbody>\n",
       "    <tr>\n",
       "      <th>0</th>\n",
       "      <td>69572</td>\n",
       "      <td>6000.0</td>\n",
       "      <td>2011-03-14</td>\n",
       "      <td>Roman</td>\n",
       "      <td>1390</td>\n",
       "      <td>Roman</td>\n",
       "      <td>34.938093</td>\n",
       "      <td>-9.856322</td>\n",
       "      <td>none</td>\n",
       "      <td>0</td>\n",
       "      <td>...</td>\n",
       "      <td>annually</td>\n",
       "      <td>soft</td>\n",
       "      <td>good</td>\n",
       "      <td>enough</td>\n",
       "      <td>enough</td>\n",
       "      <td>spring</td>\n",
       "      <td>spring</td>\n",
       "      <td>groundwater</td>\n",
       "      <td>communal standpipe</td>\n",
       "      <td>communal standpipe</td>\n",
       "    </tr>\n",
       "    <tr>\n",
       "      <th>1</th>\n",
       "      <td>8776</td>\n",
       "      <td>0.0</td>\n",
       "      <td>2013-03-06</td>\n",
       "      <td>Grumeti</td>\n",
       "      <td>1399</td>\n",
       "      <td>GRUMETI</td>\n",
       "      <td>34.698766</td>\n",
       "      <td>-2.147466</td>\n",
       "      <td>Zahanati</td>\n",
       "      <td>0</td>\n",
       "      <td>...</td>\n",
       "      <td>never pay</td>\n",
       "      <td>soft</td>\n",
       "      <td>good</td>\n",
       "      <td>insufficient</td>\n",
       "      <td>insufficient</td>\n",
       "      <td>rainwater harvesting</td>\n",
       "      <td>rainwater harvesting</td>\n",
       "      <td>surface</td>\n",
       "      <td>communal standpipe</td>\n",
       "      <td>communal standpipe</td>\n",
       "    </tr>\n",
       "    <tr>\n",
       "      <th>2</th>\n",
       "      <td>34310</td>\n",
       "      <td>25.0</td>\n",
       "      <td>2013-02-25</td>\n",
       "      <td>Lottery Club</td>\n",
       "      <td>686</td>\n",
       "      <td>World vision</td>\n",
       "      <td>37.460664</td>\n",
       "      <td>-3.821329</td>\n",
       "      <td>Kwa Mahundi</td>\n",
       "      <td>0</td>\n",
       "      <td>...</td>\n",
       "      <td>per bucket</td>\n",
       "      <td>soft</td>\n",
       "      <td>good</td>\n",
       "      <td>enough</td>\n",
       "      <td>enough</td>\n",
       "      <td>dam</td>\n",
       "      <td>dam</td>\n",
       "      <td>surface</td>\n",
       "      <td>communal standpipe multiple</td>\n",
       "      <td>communal standpipe</td>\n",
       "    </tr>\n",
       "    <tr>\n",
       "      <th>3</th>\n",
       "      <td>67743</td>\n",
       "      <td>0.0</td>\n",
       "      <td>2013-01-28</td>\n",
       "      <td>Unicef</td>\n",
       "      <td>263</td>\n",
       "      <td>UNICEF</td>\n",
       "      <td>38.486161</td>\n",
       "      <td>-11.155298</td>\n",
       "      <td>Zahanati Ya Nanyumbu</td>\n",
       "      <td>0</td>\n",
       "      <td>...</td>\n",
       "      <td>never pay</td>\n",
       "      <td>soft</td>\n",
       "      <td>good</td>\n",
       "      <td>dry</td>\n",
       "      <td>dry</td>\n",
       "      <td>machine dbh</td>\n",
       "      <td>borehole</td>\n",
       "      <td>groundwater</td>\n",
       "      <td>communal standpipe multiple</td>\n",
       "      <td>communal standpipe</td>\n",
       "    </tr>\n",
       "    <tr>\n",
       "      <th>4</th>\n",
       "      <td>19728</td>\n",
       "      <td>0.0</td>\n",
       "      <td>2011-07-13</td>\n",
       "      <td>Action In A</td>\n",
       "      <td>0</td>\n",
       "      <td>Artisan</td>\n",
       "      <td>31.130847</td>\n",
       "      <td>-1.825359</td>\n",
       "      <td>Shuleni</td>\n",
       "      <td>0</td>\n",
       "      <td>...</td>\n",
       "      <td>never pay</td>\n",
       "      <td>soft</td>\n",
       "      <td>good</td>\n",
       "      <td>seasonal</td>\n",
       "      <td>seasonal</td>\n",
       "      <td>rainwater harvesting</td>\n",
       "      <td>rainwater harvesting</td>\n",
       "      <td>surface</td>\n",
       "      <td>communal standpipe</td>\n",
       "      <td>communal standpipe</td>\n",
       "    </tr>\n",
       "  </tbody>\n",
       "</table>\n",
       "<p>5 rows × 40 columns</p>\n",
       "</div>"
      ],
      "text/plain": [
       "      id  amount_tsh date_recorded        funder  gps_height     installer  \\\n",
       "0  69572      6000.0    2011-03-14         Roman        1390         Roman   \n",
       "1   8776         0.0    2013-03-06       Grumeti        1399       GRUMETI   \n",
       "2  34310        25.0    2013-02-25  Lottery Club         686  World vision   \n",
       "3  67743         0.0    2013-01-28        Unicef         263        UNICEF   \n",
       "4  19728         0.0    2011-07-13   Action In A           0       Artisan   \n",
       "\n",
       "   longitude   latitude              wpt_name  num_private  ... payment_type  \\\n",
       "0  34.938093  -9.856322                  none            0  ...     annually   \n",
       "1  34.698766  -2.147466              Zahanati            0  ...    never pay   \n",
       "2  37.460664  -3.821329           Kwa Mahundi            0  ...   per bucket   \n",
       "3  38.486161 -11.155298  Zahanati Ya Nanyumbu            0  ...    never pay   \n",
       "4  31.130847  -1.825359               Shuleni            0  ...    never pay   \n",
       "\n",
       "  water_quality quality_group      quantity  quantity_group  \\\n",
       "0          soft          good        enough          enough   \n",
       "1          soft          good  insufficient    insufficient   \n",
       "2          soft          good        enough          enough   \n",
       "3          soft          good           dry             dry   \n",
       "4          soft          good      seasonal        seasonal   \n",
       "\n",
       "                 source           source_type  source_class  \\\n",
       "0                spring                spring   groundwater   \n",
       "1  rainwater harvesting  rainwater harvesting       surface   \n",
       "2                   dam                   dam       surface   \n",
       "3           machine dbh              borehole   groundwater   \n",
       "4  rainwater harvesting  rainwater harvesting       surface   \n",
       "\n",
       "               waterpoint_type waterpoint_type_group  \n",
       "0           communal standpipe    communal standpipe  \n",
       "1           communal standpipe    communal standpipe  \n",
       "2  communal standpipe multiple    communal standpipe  \n",
       "3  communal standpipe multiple    communal standpipe  \n",
       "4           communal standpipe    communal standpipe  \n",
       "\n",
       "[5 rows x 40 columns]"
      ]
     },
     "execution_count": 4,
     "metadata": {},
     "output_type": "execute_result"
    }
   ],
   "source": [
    "pump_data_val.head()"
   ]
  },
  {
   "cell_type": "code",
   "execution_count": 5,
   "metadata": {},
   "outputs": [
    {
     "data": {
      "text/html": [
       "<div>\n",
       "<style scoped>\n",
       "    .dataframe tbody tr th:only-of-type {\n",
       "        vertical-align: middle;\n",
       "    }\n",
       "\n",
       "    .dataframe tbody tr th {\n",
       "        vertical-align: top;\n",
       "    }\n",
       "\n",
       "    .dataframe thead th {\n",
       "        text-align: right;\n",
       "    }\n",
       "</style>\n",
       "<table border=\"1\" class=\"dataframe\">\n",
       "  <thead>\n",
       "    <tr style=\"text-align: right;\">\n",
       "      <th></th>\n",
       "      <th>id</th>\n",
       "      <th>status_group</th>\n",
       "    </tr>\n",
       "  </thead>\n",
       "  <tbody>\n",
       "    <tr>\n",
       "      <th>0</th>\n",
       "      <td>69572</td>\n",
       "      <td>functional</td>\n",
       "    </tr>\n",
       "    <tr>\n",
       "      <th>1</th>\n",
       "      <td>8776</td>\n",
       "      <td>functional</td>\n",
       "    </tr>\n",
       "    <tr>\n",
       "      <th>2</th>\n",
       "      <td>34310</td>\n",
       "      <td>functional</td>\n",
       "    </tr>\n",
       "    <tr>\n",
       "      <th>3</th>\n",
       "      <td>67743</td>\n",
       "      <td>non functional</td>\n",
       "    </tr>\n",
       "    <tr>\n",
       "      <th>4</th>\n",
       "      <td>19728</td>\n",
       "      <td>functional</td>\n",
       "    </tr>\n",
       "  </tbody>\n",
       "</table>\n",
       "</div>"
      ],
      "text/plain": [
       "      id    status_group\n",
       "0  69572      functional\n",
       "1   8776      functional\n",
       "2  34310      functional\n",
       "3  67743  non functional\n",
       "4  19728      functional"
      ]
     },
     "execution_count": 5,
     "metadata": {},
     "output_type": "execute_result"
    }
   ],
   "source": [
    "pump_data_lab.head()"
   ]
  },
  {
   "cell_type": "code",
   "execution_count": 6,
   "metadata": {},
   "outputs": [
    {
     "name": "stdout",
     "output_type": "stream",
     "text": [
      "Check class Imbalance: \n",
      "status_group\n",
      "functional                 32259\n",
      "non functional             22824\n",
      "functional needs repair     4317\n",
      "Name: count, dtype: int64\n"
     ]
    }
   ],
   "source": [
    "print(\"Check class Imbalance: \")\n",
    "print(pump_data_lab.status_group.value_counts())"
   ]
  },
  {
   "cell_type": "markdown",
   "metadata": {},
   "source": [
    "## Data Cleaning - First 20 Features"
   ]
  },
  {
   "cell_type": "code",
   "execution_count": 7,
   "metadata": {},
   "outputs": [
    {
     "data": {
      "text/html": [
       "<div>\n",
       "<style scoped>\n",
       "    .dataframe tbody tr th:only-of-type {\n",
       "        vertical-align: middle;\n",
       "    }\n",
       "\n",
       "    .dataframe tbody tr th {\n",
       "        vertical-align: top;\n",
       "    }\n",
       "\n",
       "    .dataframe thead th {\n",
       "        text-align: right;\n",
       "    }\n",
       "</style>\n",
       "<table border=\"1\" class=\"dataframe\">\n",
       "  <thead>\n",
       "    <tr style=\"text-align: right;\">\n",
       "      <th></th>\n",
       "      <th>id</th>\n",
       "      <th>amount_tsh</th>\n",
       "      <th>date_recorded</th>\n",
       "      <th>funder</th>\n",
       "      <th>gps_height</th>\n",
       "      <th>installer</th>\n",
       "      <th>longitude</th>\n",
       "      <th>latitude</th>\n",
       "      <th>wpt_name</th>\n",
       "      <th>num_private</th>\n",
       "      <th>basin</th>\n",
       "      <th>subvillage</th>\n",
       "      <th>region</th>\n",
       "      <th>region_code</th>\n",
       "      <th>district_code</th>\n",
       "      <th>lga</th>\n",
       "      <th>ward</th>\n",
       "      <th>population</th>\n",
       "      <th>public_meeting</th>\n",
       "      <th>recorded_by</th>\n",
       "    </tr>\n",
       "  </thead>\n",
       "  <tbody>\n",
       "    <tr>\n",
       "      <th>0</th>\n",
       "      <td>69572</td>\n",
       "      <td>6000.0</td>\n",
       "      <td>2011-03-14</td>\n",
       "      <td>Roman</td>\n",
       "      <td>1390</td>\n",
       "      <td>Roman</td>\n",
       "      <td>34.938093</td>\n",
       "      <td>-9.856322</td>\n",
       "      <td>none</td>\n",
       "      <td>0</td>\n",
       "      <td>Lake Nyasa</td>\n",
       "      <td>Mnyusi B</td>\n",
       "      <td>Iringa</td>\n",
       "      <td>11</td>\n",
       "      <td>5</td>\n",
       "      <td>Ludewa</td>\n",
       "      <td>Mundindi</td>\n",
       "      <td>109</td>\n",
       "      <td>True</td>\n",
       "      <td>GeoData Consultants Ltd</td>\n",
       "    </tr>\n",
       "    <tr>\n",
       "      <th>1</th>\n",
       "      <td>8776</td>\n",
       "      <td>0.0</td>\n",
       "      <td>2013-03-06</td>\n",
       "      <td>Grumeti</td>\n",
       "      <td>1399</td>\n",
       "      <td>GRUMETI</td>\n",
       "      <td>34.698766</td>\n",
       "      <td>-2.147466</td>\n",
       "      <td>Zahanati</td>\n",
       "      <td>0</td>\n",
       "      <td>Lake Victoria</td>\n",
       "      <td>Nyamara</td>\n",
       "      <td>Mara</td>\n",
       "      <td>20</td>\n",
       "      <td>2</td>\n",
       "      <td>Serengeti</td>\n",
       "      <td>Natta</td>\n",
       "      <td>280</td>\n",
       "      <td>NaN</td>\n",
       "      <td>GeoData Consultants Ltd</td>\n",
       "    </tr>\n",
       "    <tr>\n",
       "      <th>2</th>\n",
       "      <td>34310</td>\n",
       "      <td>25.0</td>\n",
       "      <td>2013-02-25</td>\n",
       "      <td>Lottery Club</td>\n",
       "      <td>686</td>\n",
       "      <td>World vision</td>\n",
       "      <td>37.460664</td>\n",
       "      <td>-3.821329</td>\n",
       "      <td>Kwa Mahundi</td>\n",
       "      <td>0</td>\n",
       "      <td>Pangani</td>\n",
       "      <td>Majengo</td>\n",
       "      <td>Manyara</td>\n",
       "      <td>21</td>\n",
       "      <td>4</td>\n",
       "      <td>Simanjiro</td>\n",
       "      <td>Ngorika</td>\n",
       "      <td>250</td>\n",
       "      <td>True</td>\n",
       "      <td>GeoData Consultants Ltd</td>\n",
       "    </tr>\n",
       "    <tr>\n",
       "      <th>3</th>\n",
       "      <td>67743</td>\n",
       "      <td>0.0</td>\n",
       "      <td>2013-01-28</td>\n",
       "      <td>Unicef</td>\n",
       "      <td>263</td>\n",
       "      <td>UNICEF</td>\n",
       "      <td>38.486161</td>\n",
       "      <td>-11.155298</td>\n",
       "      <td>Zahanati Ya Nanyumbu</td>\n",
       "      <td>0</td>\n",
       "      <td>Ruvuma / Southern Coast</td>\n",
       "      <td>Mahakamani</td>\n",
       "      <td>Mtwara</td>\n",
       "      <td>90</td>\n",
       "      <td>63</td>\n",
       "      <td>Nanyumbu</td>\n",
       "      <td>Nanyumbu</td>\n",
       "      <td>58</td>\n",
       "      <td>True</td>\n",
       "      <td>GeoData Consultants Ltd</td>\n",
       "    </tr>\n",
       "    <tr>\n",
       "      <th>4</th>\n",
       "      <td>19728</td>\n",
       "      <td>0.0</td>\n",
       "      <td>2011-07-13</td>\n",
       "      <td>Action In A</td>\n",
       "      <td>0</td>\n",
       "      <td>Artisan</td>\n",
       "      <td>31.130847</td>\n",
       "      <td>-1.825359</td>\n",
       "      <td>Shuleni</td>\n",
       "      <td>0</td>\n",
       "      <td>Lake Victoria</td>\n",
       "      <td>Kyanyamisa</td>\n",
       "      <td>Kagera</td>\n",
       "      <td>18</td>\n",
       "      <td>1</td>\n",
       "      <td>Karagwe</td>\n",
       "      <td>Nyakasimbi</td>\n",
       "      <td>0</td>\n",
       "      <td>True</td>\n",
       "      <td>GeoData Consultants Ltd</td>\n",
       "    </tr>\n",
       "  </tbody>\n",
       "</table>\n",
       "</div>"
      ],
      "text/plain": [
       "      id  amount_tsh date_recorded        funder  gps_height     installer  \\\n",
       "0  69572      6000.0    2011-03-14         Roman        1390         Roman   \n",
       "1   8776         0.0    2013-03-06       Grumeti        1399       GRUMETI   \n",
       "2  34310        25.0    2013-02-25  Lottery Club         686  World vision   \n",
       "3  67743         0.0    2013-01-28        Unicef         263        UNICEF   \n",
       "4  19728         0.0    2011-07-13   Action In A           0       Artisan   \n",
       "\n",
       "   longitude   latitude              wpt_name  num_private  \\\n",
       "0  34.938093  -9.856322                  none            0   \n",
       "1  34.698766  -2.147466              Zahanati            0   \n",
       "2  37.460664  -3.821329           Kwa Mahundi            0   \n",
       "3  38.486161 -11.155298  Zahanati Ya Nanyumbu            0   \n",
       "4  31.130847  -1.825359               Shuleni            0   \n",
       "\n",
       "                     basin  subvillage   region  region_code  district_code  \\\n",
       "0               Lake Nyasa    Mnyusi B   Iringa           11              5   \n",
       "1            Lake Victoria     Nyamara     Mara           20              2   \n",
       "2                  Pangani     Majengo  Manyara           21              4   \n",
       "3  Ruvuma / Southern Coast  Mahakamani   Mtwara           90             63   \n",
       "4            Lake Victoria  Kyanyamisa   Kagera           18              1   \n",
       "\n",
       "         lga        ward  population public_meeting              recorded_by  \n",
       "0     Ludewa    Mundindi         109           True  GeoData Consultants Ltd  \n",
       "1  Serengeti       Natta         280            NaN  GeoData Consultants Ltd  \n",
       "2  Simanjiro     Ngorika         250           True  GeoData Consultants Ltd  \n",
       "3   Nanyumbu    Nanyumbu          58           True  GeoData Consultants Ltd  \n",
       "4    Karagwe  Nyakasimbi           0           True  GeoData Consultants Ltd  "
      ]
     },
     "execution_count": 7,
     "metadata": {},
     "output_type": "execute_result"
    }
   ],
   "source": [
    "first_20_features = pump_data_val.iloc[:,:20]\n",
    "first_20_features.head()"
   ]
  },
  {
   "cell_type": "code",
   "execution_count": 8,
   "metadata": {},
   "outputs": [
    {
     "name": "stdout",
     "output_type": "stream",
     "text": [
      "<class 'pandas.core.frame.DataFrame'>\n",
      "RangeIndex: 59400 entries, 0 to 59399\n",
      "Data columns (total 20 columns):\n",
      " #   Column          Non-Null Count  Dtype  \n",
      "---  ------          --------------  -----  \n",
      " 0   id              59400 non-null  int64  \n",
      " 1   amount_tsh      59400 non-null  float64\n",
      " 2   date_recorded   59400 non-null  object \n",
      " 3   funder          55763 non-null  object \n",
      " 4   gps_height      59400 non-null  int64  \n",
      " 5   installer       55745 non-null  object \n",
      " 6   longitude       59400 non-null  float64\n",
      " 7   latitude        59400 non-null  float64\n",
      " 8   wpt_name        59398 non-null  object \n",
      " 9   num_private     59400 non-null  int64  \n",
      " 10  basin           59400 non-null  object \n",
      " 11  subvillage      59029 non-null  object \n",
      " 12  region          59400 non-null  object \n",
      " 13  region_code     59400 non-null  int64  \n",
      " 14  district_code   59400 non-null  int64  \n",
      " 15  lga             59400 non-null  object \n",
      " 16  ward            59400 non-null  object \n",
      " 17  population      59400 non-null  int64  \n",
      " 18  public_meeting  56066 non-null  object \n",
      " 19  recorded_by     59400 non-null  object \n",
      "dtypes: float64(3), int64(6), object(11)\n",
      "memory usage: 9.1+ MB\n"
     ]
    }
   ],
   "source": [
    "first_20_features.info()"
   ]
  },
  {
   "cell_type": "markdown",
   "metadata": {},
   "source": [
    "### Datatype Analysis"
   ]
  },
  {
   "cell_type": "code",
   "execution_count": 9,
   "metadata": {},
   "outputs": [
    {
     "name": "stdout",
     "output_type": "stream",
     "text": [
      "<class 'pandas.core.frame.DataFrame'>\n",
      "RangeIndex: 59400 entries, 0 to 59399\n",
      "Data columns (total 20 columns):\n",
      " #   Column          Non-Null Count  Dtype  \n",
      "---  ------          --------------  -----  \n",
      " 0   id              59400 non-null  Int64  \n",
      " 1   amount_tsh      59400 non-null  Float64\n",
      " 2   date_recorded   59400 non-null  string \n",
      " 3   funder          55763 non-null  string \n",
      " 4   gps_height      59400 non-null  Int64  \n",
      " 5   installer       55745 non-null  string \n",
      " 6   longitude       59400 non-null  Float64\n",
      " 7   latitude        59400 non-null  Float64\n",
      " 8   wpt_name        59398 non-null  string \n",
      " 9   num_private     59400 non-null  Int64  \n",
      " 10  basin           59400 non-null  string \n",
      " 11  subvillage      59029 non-null  string \n",
      " 12  region          59400 non-null  string \n",
      " 13  region_code     59400 non-null  Int64  \n",
      " 14  district_code   59400 non-null  Int64  \n",
      " 15  lga             59400 non-null  string \n",
      " 16  ward            59400 non-null  string \n",
      " 17  population      59400 non-null  Int64  \n",
      " 18  public_meeting  56066 non-null  boolean\n",
      " 19  recorded_by     59400 non-null  string \n",
      "dtypes: Float64(3), Int64(6), boolean(1), string(10)\n",
      "memory usage: 9.2 MB\n"
     ]
    }
   ],
   "source": [
    "# Convert to best possible datatype\n",
    "first_20_features = first_20_features.convert_dtypes()\n",
    "first_20_features.info()"
   ]
  },
  {
   "cell_type": "markdown",
   "metadata": {},
   "source": [
    "All the datatypes seem correct from domain knowledge exccept `date_recorded`. We can convert it manually."
   ]
  },
  {
   "cell_type": "code",
   "execution_count": 10,
   "metadata": {},
   "outputs": [],
   "source": [
    "first_20_features['date_recorded'] = first_20_features['date_recorded'].astype('datetime64[ns]')"
   ]
  },
  {
   "cell_type": "code",
   "execution_count": 11,
   "metadata": {},
   "outputs": [
    {
     "name": "stdout",
     "output_type": "stream",
     "text": [
      "<class 'pandas.core.frame.DataFrame'>\n",
      "RangeIndex: 59400 entries, 0 to 59399\n",
      "Data columns (total 20 columns):\n",
      " #   Column          Non-Null Count  Dtype         \n",
      "---  ------          --------------  -----         \n",
      " 0   id              59400 non-null  Int64         \n",
      " 1   amount_tsh      59400 non-null  Float64       \n",
      " 2   date_recorded   59400 non-null  datetime64[ns]\n",
      " 3   funder          55763 non-null  string        \n",
      " 4   gps_height      59400 non-null  Int64         \n",
      " 5   installer       55745 non-null  string        \n",
      " 6   longitude       59400 non-null  Float64       \n",
      " 7   latitude        59400 non-null  Float64       \n",
      " 8   wpt_name        59398 non-null  string        \n",
      " 9   num_private     59400 non-null  Int64         \n",
      " 10  basin           59400 non-null  string        \n",
      " 11  subvillage      59029 non-null  string        \n",
      " 12  region          59400 non-null  string        \n",
      " 13  region_code     59400 non-null  Int64         \n",
      " 14  district_code   59400 non-null  Int64         \n",
      " 15  lga             59400 non-null  string        \n",
      " 16  ward            59400 non-null  string        \n",
      " 17  population      59400 non-null  Int64         \n",
      " 18  public_meeting  56066 non-null  boolean       \n",
      " 19  recorded_by     59400 non-null  string        \n",
      "dtypes: Float64(3), Int64(6), boolean(1), datetime64[ns](1), string(9)\n",
      "memory usage: 9.2 MB\n"
     ]
    }
   ],
   "source": [
    "first_20_features.info()"
   ]
  },
  {
   "cell_type": "markdown",
   "metadata": {},
   "source": [
    "### Uniform String Data across DataFrame"
   ]
  },
  {
   "cell_type": "code",
   "execution_count": 12,
   "metadata": {},
   "outputs": [],
   "source": [
    "# Lowercase all the data and remove trailing whitespaces\n",
    "string_cols = first_20_features.select_dtypes('string').columns\n",
    "first_20_features[string_cols] = first_20_features[string_cols].apply(lambda x: x.str.lower().str.strip())"
   ]
  },
  {
   "cell_type": "markdown",
   "metadata": {},
   "source": [
    "### Check for Zero-Variance Column\n",
    "\n",
    "The columns with a single value do not add any purpose to the modeling, so let's check and remove it."
   ]
  },
  {
   "cell_type": "code",
   "execution_count": 13,
   "metadata": {},
   "outputs": [],
   "source": [
    "def check_cero_var_columns(data):\n",
    "    count_cols = data.nunique()\n",
    "    zero_var_cols = []\n",
    "    for col, count in count_cols.items():\n",
    "        if count == 1:\n",
    "            zero_var_cols.append(col)\n",
    "    return zero_var_cols"
   ]
  },
  {
   "cell_type": "code",
   "execution_count": 14,
   "metadata": {},
   "outputs": [
    {
     "name": "stdout",
     "output_type": "stream",
     "text": [
      "Zero-Variance Columns: ['recorded_by']\n"
     ]
    }
   ],
   "source": [
    "\n",
    "col_list = check_cero_var_columns(first_20_features)\n",
    "print(f\"Zero-Variance Columns: {col_list}\")\n"
   ]
  },
  {
   "cell_type": "markdown",
   "metadata": {},
   "source": [
    "As we can see the column - `recorded_by` contains only a single value, let's verify this and drop it from column list."
   ]
  },
  {
   "cell_type": "code",
   "execution_count": 15,
   "metadata": {},
   "outputs": [
    {
     "data": {
      "text/plain": [
       "recorded_by\n",
       "geodata consultants ltd    59400\n",
       "Name: count, dtype: Int64"
      ]
     },
     "execution_count": 15,
     "metadata": {},
     "output_type": "execute_result"
    }
   ],
   "source": [
    "# Optional Step\n",
    "first_20_features.recorded_by.value_counts()"
   ]
  },
  {
   "cell_type": "code",
   "execution_count": 16,
   "metadata": {},
   "outputs": [],
   "source": [
    "cleaned_df = first_20_features.drop(col_list, axis=1)"
   ]
  },
  {
   "cell_type": "markdown",
   "metadata": {},
   "source": [
    "### Check Duplicate Rows"
   ]
  },
  {
   "cell_type": "code",
   "execution_count": 17,
   "metadata": {},
   "outputs": [
    {
     "data": {
      "text/plain": [
       "0"
      ]
     },
     "execution_count": 17,
     "metadata": {},
     "output_type": "execute_result"
    }
   ],
   "source": [
    "cleaned_df.duplicated().sum()"
   ]
  },
  {
   "cell_type": "markdown",
   "metadata": {},
   "source": [
    "No duplicate rows in the dataset"
   ]
  },
  {
   "cell_type": "markdown",
   "metadata": {},
   "source": [
    "### Missing Value Analysis"
   ]
  },
  {
   "cell_type": "code",
   "execution_count": 18,
   "metadata": {},
   "outputs": [
    {
     "name": "stdout",
     "output_type": "stream",
     "text": [
      "Column: funder contains 3637 null values\n",
      "Column: installer contains 3655 null values\n",
      "Column: wpt_name contains 2 null values\n",
      "Column: subvillage contains 371 null values\n",
      "Column: public_meeting contains 3334 null values\n"
     ]
    }
   ],
   "source": [
    "# Check for null values\n",
    "null_count = cleaned_df.isna().sum()\n",
    "for col, count in null_count.items():\n",
    "    if count > 0:\n",
    "        print(f\"Column: {col} contains {count} null values\")\n"
   ]
  },
  {
   "cell_type": "markdown",
   "metadata": {},
   "source": [
    "#### Column Analysis - Funder and Installer"
   ]
  },
  {
   "cell_type": "code",
   "execution_count": 19,
   "metadata": {},
   "outputs": [
    {
     "data": {
      "text/plain": [
       "funder\n",
       "government of tanzania     9084\n",
       "<NA>                       3637\n",
       "danida                     3114\n",
       "hesawa                     2202\n",
       "rwssp                      1374\n",
       "                           ... \n",
       "ms-danish                     1\n",
       "juma                          1\n",
       "paulo sange                   1\n",
       "magul                         1\n",
       "internal drainage basin       1\n",
       "Name: count, Length: 1897, dtype: Int64"
      ]
     },
     "execution_count": 19,
     "metadata": {},
     "output_type": "execute_result"
    }
   ],
   "source": [
    "# Check who are the different entities that fund the pumps\n",
    "cleaned_df[\"funder\"].value_counts(dropna=False)"
   ]
  },
  {
   "cell_type": "code",
   "execution_count": 20,
   "metadata": {},
   "outputs": [
    {
     "data": {
      "text/plain": [
       "installer\n",
       "dwe                         17405\n",
       "<NA>                         3655\n",
       "government                   1891\n",
       "hesawa                       1395\n",
       "rwe                          1206\n",
       "                            ...  \n",
       "upendo group                    1\n",
       "insititutiona                   1\n",
       "tukware enterp                  1\n",
       "wizara  ya maji                 1\n",
       "bingo foundation germany        1\n",
       "Name: count, Length: 1936, dtype: Int64"
      ]
     },
     "execution_count": 20,
     "metadata": {},
     "output_type": "execute_result"
    }
   ],
   "source": [
    "# Check who are the different entities that fund the pumps\n",
    "cleaned_df[\"installer\"].value_counts(dropna=False)"
   ]
  },
  {
   "cell_type": "code",
   "execution_count": 21,
   "metadata": {},
   "outputs": [
    {
     "data": {
      "text/plain": [
       "installer  funder                        \n",
       "<NA>       <NA>                              3584\n",
       "           world bank                          11\n",
       "           world vision                         7\n",
       "           hesawa                               5\n",
       "           ministry of water                    4\n",
       "           government of tanzania               4\n",
       "           rural water supply and sanitat       4\n",
       "           community                            3\n",
       "           ggm                                  2\n",
       "           wfp                                  2\n",
       "           district council                     1\n",
       "           aar                                  1\n",
       "           abddwe                               1\n",
       "           bhws                                 1\n",
       "           bgssws                               1\n",
       "           donor                                1\n",
       "           jica                                 1\n",
       "           maro kyariga                         1\n",
       "           koica and tanzania government        1\n",
       "           gg                                   1\n",
       "           fredked conservation                 1\n",
       "           grazie grouppo padre fiorentin       1\n",
       "           dw                                   1\n",
       "           norad                                1\n",
       "           ms-danish                            1\n",
       "           ministry of agricultura              1\n",
       "           member o                             1\n",
       "           lga                                  1\n",
       "           not known                            1\n",
       "           rc church                            1\n",
       "           one desk one chair                   1\n",
       "           solidarm                             1\n",
       "           shipo                                1\n",
       "           rwssp                                1\n",
       "           rundu man                            1\n",
       "           tasaf                                1\n",
       "           tcrs                                 1\n",
       "           worldvision                          1\n",
       "           wsdp                                 1\n",
       "Name: count, dtype: int64"
      ]
     },
     "execution_count": 21,
     "metadata": {},
     "output_type": "execute_result"
    }
   ],
   "source": [
    "# Check the funder of pump with no installer\n",
    "cleaned_df.loc[cleaned_df[\"installer\"].isna()==True, [\"installer\", \"funder\"]].value_counts(dropna=False)"
   ]
  },
  {
   "cell_type": "markdown",
   "metadata": {},
   "source": [
    "Most of the pumps with no installer information have no information on the funder. Let's check whether the pumps with no installer information but having funder information have common installers. "
   ]
  },
  {
   "cell_type": "code",
   "execution_count": 22,
   "metadata": {},
   "outputs": [
    {
     "name": "stdout",
     "output_type": "stream",
     "text": [
      "funder                  installer  \n",
      "government of tanzania  dwe            4256\n",
      "                        government     1637\n",
      "hesawa                  dwe            1296\n",
      "rwssp                   dwe             914\n",
      "hesawa                  hesawa          850\n",
      "                                       ... \n",
      "community               atisan            1\n",
      "                        comunity          1\n",
      "                        dmdd              1\n",
      "district council        humfreys co       1\n",
      "                        mtuwasa           1\n",
      "Name: count, Length: 549, dtype: int64\n"
     ]
    }
   ],
   "source": [
    "# Get the list of funders for pumps with no installation info as list\n",
    "no_installer_with_funder_list = cleaned_df[(cleaned_df.installer.isna()==True) & (cleaned_df.funder.isna()!=True)]['funder'].unique()\n",
    "\n",
    "# Get the dataframe with all rows from the previous funders list\n",
    "specific_funders_data = cleaned_df[cleaned_df.funder.isin(no_installer_with_funder_list)]\n",
    "specific_funders_data\n",
    "\n",
    "# Check what are the unique values for investors these funders\n",
    "print(specific_funders_data[[\"funder\", \"installer\"]].value_counts(dropna=False))\n",
    "\n",
    "# Build a table of funders and installer\n",
    "# pd.crosstab(specific_funders_data.funder, specific_funders_data.installer)"
   ]
  },
  {
   "cell_type": "markdown",
   "metadata": {},
   "source": [
    "There are multiple installers for same funders, therefore it is difficult to impute values without more domain knowledge. But we also observe there is a `not known` value in funders and installers, therefore we can replace the null values in both these columns to `not known`."
   ]
  },
  {
   "cell_type": "code",
   "execution_count": 23,
   "metadata": {},
   "outputs": [],
   "source": [
    "cleaned_df[['funder', 'installer']] = cleaned_df[['funder', 'installer']].fillna('not known')"
   ]
  },
  {
   "cell_type": "markdown",
   "metadata": {},
   "source": [
    "#### Column Analysis - wpt_name"
   ]
  },
  {
   "cell_type": "code",
   "execution_count": 24,
   "metadata": {},
   "outputs": [
    {
     "data": {
      "text/html": [
       "<div>\n",
       "<style scoped>\n",
       "    .dataframe tbody tr th:only-of-type {\n",
       "        vertical-align: middle;\n",
       "    }\n",
       "\n",
       "    .dataframe tbody tr th {\n",
       "        vertical-align: top;\n",
       "    }\n",
       "\n",
       "    .dataframe thead th {\n",
       "        text-align: right;\n",
       "    }\n",
       "</style>\n",
       "<table border=\"1\" class=\"dataframe\">\n",
       "  <thead>\n",
       "    <tr style=\"text-align: right;\">\n",
       "      <th></th>\n",
       "      <th>id</th>\n",
       "      <th>amount_tsh</th>\n",
       "      <th>date_recorded</th>\n",
       "      <th>funder</th>\n",
       "      <th>gps_height</th>\n",
       "      <th>installer</th>\n",
       "      <th>longitude</th>\n",
       "      <th>latitude</th>\n",
       "      <th>wpt_name</th>\n",
       "      <th>num_private</th>\n",
       "      <th>basin</th>\n",
       "      <th>subvillage</th>\n",
       "      <th>region</th>\n",
       "      <th>region_code</th>\n",
       "      <th>district_code</th>\n",
       "      <th>lga</th>\n",
       "      <th>ward</th>\n",
       "      <th>population</th>\n",
       "      <th>public_meeting</th>\n",
       "    </tr>\n",
       "  </thead>\n",
       "  <tbody>\n",
       "    <tr>\n",
       "      <th>14595</th>\n",
       "      <td>31756</td>\n",
       "      <td>0.0</td>\n",
       "      <td>2012-10-22</td>\n",
       "      <td>wsdp</td>\n",
       "      <td>0</td>\n",
       "      <td>aquarman drillers</td>\n",
       "      <td>34.107893</td>\n",
       "      <td>-3.417657</td>\n",
       "      <td>&lt;NA&gt;</td>\n",
       "      <td>0</td>\n",
       "      <td>internal</td>\n",
       "      <td>majengo</td>\n",
       "      <td>shinyanga</td>\n",
       "      <td>17</td>\n",
       "      <td>6</td>\n",
       "      <td>meatu</td>\n",
       "      <td>itinje</td>\n",
       "      <td>0</td>\n",
       "      <td>True</td>\n",
       "    </tr>\n",
       "    <tr>\n",
       "      <th>42935</th>\n",
       "      <td>16208</td>\n",
       "      <td>0.0</td>\n",
       "      <td>2013-03-15</td>\n",
       "      <td>lawatefuka water supply</td>\n",
       "      <td>1540</td>\n",
       "      <td>lawatefuka water sup</td>\n",
       "      <td>37.110999</td>\n",
       "      <td>-3.158049</td>\n",
       "      <td>&lt;NA&gt;</td>\n",
       "      <td>0</td>\n",
       "      <td>pangani</td>\n",
       "      <td>maini</td>\n",
       "      <td>kilimanjaro</td>\n",
       "      <td>3</td>\n",
       "      <td>7</td>\n",
       "      <td>siha</td>\n",
       "      <td>siha kaskazini</td>\n",
       "      <td>1</td>\n",
       "      <td>True</td>\n",
       "    </tr>\n",
       "  </tbody>\n",
       "</table>\n",
       "</div>"
      ],
      "text/plain": [
       "          id  amount_tsh date_recorded                   funder  gps_height  \\\n",
       "14595  31756         0.0    2012-10-22                     wsdp           0   \n",
       "42935  16208         0.0    2013-03-15  lawatefuka water supply        1540   \n",
       "\n",
       "                  installer  longitude  latitude wpt_name  num_private  \\\n",
       "14595     aquarman drillers  34.107893 -3.417657     <NA>            0   \n",
       "42935  lawatefuka water sup  37.110999 -3.158049     <NA>            0   \n",
       "\n",
       "          basin subvillage       region  region_code  district_code    lga  \\\n",
       "14595  internal    majengo    shinyanga           17              6  meatu   \n",
       "42935   pangani      maini  kilimanjaro            3              7   siha   \n",
       "\n",
       "                 ward  population  public_meeting  \n",
       "14595          itinje           0            True  \n",
       "42935  siha kaskazini           1            True  "
      ]
     },
     "execution_count": 24,
     "metadata": {},
     "output_type": "execute_result"
    }
   ],
   "source": [
    "# Check who the funders and installers are for the pumps with no wpt_name\n",
    "cleaned_df.loc[cleaned_df[\"wpt_name\"].isna()==True, [\"funder\", \"installer\", \"wpt_name\"]].value_counts(dropna=False)\n",
    "\n",
    "# Check if there are pther wpt_name for the same combination of funder and installer\n",
    "specific_wpt_data = cleaned_df[(cleaned_df.funder.isin(['lawatefuka water supply', 'wsdp'])) | (cleaned_df.installer.isin(['lawatefuka water sup', 'aquarman drillers']))]\n",
    "# specific_wpt_data[[\"funder\", \"installer\", \"wpt_name\"]].value_counts(dropna=False)\n",
    "\n",
    "# Investigate rows with null values\n",
    "specific_wpt_data[specific_wpt_data.wpt_name.isna()]"
   ]
  },
  {
   "cell_type": "markdown",
   "metadata": {},
   "source": [
    "No pattern in `wpt_name`, therefore any sort of imputation might introduce bias in the data. Also, considering only 2 row have missing data, we can drop these rows."
   ]
  },
  {
   "cell_type": "code",
   "execution_count": 25,
   "metadata": {},
   "outputs": [],
   "source": [
    "cleaned_df = cleaned_df.dropna(subset=['wpt_name'])"
   ]
  },
  {
   "cell_type": "code",
   "execution_count": 26,
   "metadata": {},
   "outputs": [
    {
     "data": {
      "text/plain": [
       "(59398, 19)"
      ]
     },
     "execution_count": 26,
     "metadata": {},
     "output_type": "execute_result"
    }
   ],
   "source": [
    "cleaned_df.shape"
   ]
  },
  {
   "cell_type": "markdown",
   "metadata": {},
   "source": [
    "#### Column Analysis - Subvillage"
   ]
  },
  {
   "cell_type": "code",
   "execution_count": 27,
   "metadata": {},
   "outputs": [],
   "source": [
    "# Analyse rows with null values in subvillage\n",
    "filter_subvillage_null = cleaned_df[cleaned_df.subvillage.isna()]"
   ]
  },
  {
   "cell_type": "code",
   "execution_count": 28,
   "metadata": {},
   "outputs": [
    {
     "data": {
      "text/plain": [
       "region  subvillage\n",
       "dodoma  <NA>          361\n",
       "mwanza  <NA>           10\n",
       "Name: count, dtype: int64"
      ]
     },
     "execution_count": 28,
     "metadata": {},
     "output_type": "execute_result"
    }
   ],
   "source": [
    "filter_subvillage_null[['region', 'subvillage']].value_counts(dropna=False)"
   ]
  },
  {
   "cell_type": "code",
   "execution_count": 29,
   "metadata": {},
   "outputs": [
    {
     "data": {
      "text/plain": [
       "subvillage  region   \n",
       "dodoma      mtwara       17\n",
       "            lindi        12\n",
       "            ruvuma        9\n",
       "            singida       5\n",
       "            shinyanga     3\n",
       "            kagera        2\n",
       "            mara          2\n",
       "            rukwa         2\n",
       "mwanza      morogoro      4\n",
       "            mwanza        3\n",
       "            shinyanga     2\n",
       "            mtwara        1\n",
       "Name: count, dtype: int64"
      ]
     },
     "execution_count": 29,
     "metadata": {},
     "output_type": "execute_result"
    }
   ],
   "source": [
    "cleaned_df[cleaned_df.subvillage.isin(['dodoma', 'mwanza'])].groupby(['subvillage'])['region'].value_counts()"
   ]
  },
  {
   "cell_type": "code",
   "execution_count": 30,
   "metadata": {},
   "outputs": [
    {
     "data": {
      "text/plain": [
       "region     subvillage  lga             \n",
       "dodoma     <NA>        kongwa              361\n",
       "kagera     dodoma      chato                 2\n",
       "lindi      dodoma      ruangwa              10\n",
       "                       lindi rural           1\n",
       "                       nachingwea            1\n",
       "mara       dodoma      bunda                 2\n",
       "morogoro   mwanza      ulanga                4\n",
       "mtwara     dodoma      masasi                7\n",
       "                       newala                5\n",
       "                       tandahimba            2\n",
       "                       mtwara rural          2\n",
       "                       nanyumbu              1\n",
       "           mwanza      masasi                1\n",
       "mwanza     mwanza      geita                 3\n",
       "           <NA>        ukerewe              10\n",
       "rukwa      dodoma      sumbawanga rural      2\n",
       "ruvuma     dodoma      songea rural          5\n",
       "                       namtumbo              4\n",
       "shinyanga  dodoma      kishapu               2\n",
       "                       maswa                 1\n",
       "           mwanza      bukombe               2\n",
       "singida    dodoma      singida rural         3\n",
       "                       iramba                2\n",
       "Name: count, dtype: int64"
      ]
     },
     "execution_count": 30,
     "metadata": {},
     "output_type": "execute_result"
    }
   ],
   "source": [
    "# Check for any pattern with other columns\n",
    "cleaned_df[cleaned_df.subvillage.isin(['dodoma', 'mwanza',pd.NA])].groupby(['region', 'subvillage'], dropna=False)[['lga']].value_counts(dropna=False)"
   ]
  },
  {
   "cell_type": "code",
   "execution_count": 31,
   "metadata": {},
   "outputs": [
    {
     "name": "stdout",
     "output_type": "stream",
     "text": [
      "region  ward          subvillage  lga    \n",
      "dodoma  chamkoroma    <NA>        kongwa     41\n",
      "        hogoro        <NA>        kongwa     25\n",
      "        iduo          <NA>        kongwa     16\n",
      "        kibaigwa      <NA>        kongwa      7\n",
      "        kongwa urban  <NA>        kongwa     19\n",
      "        mkoka         <NA>        kongwa     26\n",
      "        mlali         <NA>        kongwa     41\n",
      "        mtanana       <NA>        kongwa     19\n",
      "        njoge         <NA>        kongwa     23\n",
      "        pandambili    <NA>        kongwa     46\n",
      "        sagara        <NA>        kongwa     22\n",
      "        sejeli        <NA>        kongwa     34\n",
      "        ugogoni       <NA>        kongwa     26\n",
      "        zoissa        <NA>        kongwa     16\n",
      "mwanza  bukanda       <NA>        ukerewe     1\n",
      "        bukiko        <NA>        ukerewe     3\n",
      "        bukindo       <NA>        ukerewe     1\n",
      "        bwiro         <NA>        ukerewe     1\n",
      "        bwisya        <NA>        ukerewe     2\n",
      "        murutunguru   <NA>        ukerewe     1\n",
      "        namilembe     <NA>        ukerewe     1\n",
      "        nyang'hwale   mwanza      geita       3\n",
      "Name: count, dtype: int64\n"
     ]
    }
   ],
   "source": [
    "print(cleaned_df[(cleaned_df.region.isin(['dodoma', 'mwanza'])) & (cleaned_df.subvillage.isin(['dodoma', 'mwanza',pd.NA]))].groupby(['region', 'ward'])[[\"subvillage\", \"lga\"]].value_counts(dropna=False))\n",
    "dodoma_ward_list = cleaned_df[(cleaned_df.region=='dodoma') & (cleaned_df.subvillage.isin(['dodoma', 'mwanza',pd.NA]))][\"ward\"].unique()\n",
    "mwanza_ward_list = cleaned_df[(cleaned_df.region=='mwanza') & (cleaned_df.subvillage.isin(['dodoma', 'mwanza',pd.NA]))][\"ward\"].unique()"
   ]
  },
  {
   "cell_type": "code",
   "execution_count": 32,
   "metadata": {},
   "outputs": [
    {
     "data": {
      "text/plain": [
       "lga      subvillage\n",
       "kongwa   <NA>          361\n",
       "ukerewe  kabakara       13\n",
       "         <NA>           10\n",
       "         center          9\n",
       "         buyoga          7\n",
       "                      ... \n",
       "         apembe          1\n",
       "         azimio a        1\n",
       "         umoja           1\n",
       "         uwanjani        1\n",
       "         zamu a          1\n",
       "Name: count, Length: 185, dtype: int64"
      ]
     },
     "execution_count": 32,
     "metadata": {},
     "output_type": "execute_result"
    }
   ],
   "source": [
    "cleaned_df[cleaned_df.lga.isin(['kongwa', 'ukerewe'])].groupby(['lga'])[['subvillage']].value_counts(dropna=False)"
   ]
  },
  {
   "cell_type": "code",
   "execution_count": 33,
   "metadata": {},
   "outputs": [
    {
     "data": {
      "text/plain": [
       "region  ward         subvillage\n",
       "mwanza  bukanda      kwaya         5\n",
       "                     hamkuno       3\n",
       "                     ubungeni      2\n",
       "                     mwaloni       2\n",
       "                     mkuyuni       2\n",
       "                                  ..\n",
       "        nyang'hwale  n/center      1\n",
       "                     isengwa       1\n",
       "                     igalula       1\n",
       "                     center        1\n",
       "                     ikwendele     1\n",
       "Name: count, Length: 113, dtype: int64"
      ]
     },
     "execution_count": 33,
     "metadata": {},
     "output_type": "execute_result"
    }
   ],
   "source": [
    "# cleaned_df[(cleaned_df.region=='dodoma') & (cleaned_df.subvillage.isin(['dodoma', 'mwanza',pd.NA]))]\n",
    "# cleaned_df[(cleaned_df.region.isin(['dodoma'])) & (cleaned_df.ward.isin(dodoma_ward_list))].groupby(['region', 'ward'])[['subvillage']].value_counts(dropna=False)\n",
    "cleaned_df[(cleaned_df.region.isin(['mwanza'])) & (cleaned_df.ward.isin(mwanza_ward_list))].groupby(['region', 'ward'])[['subvillage']].value_counts(dropna=False)"
   ]
  },
  {
   "cell_type": "markdown",
   "metadata": {},
   "source": [
    "From this analysis, we see that `dodoma` and `mwanza` are valid subvillage values and the missing values have regions as same value for both these values. Therefore, we can impute the missing values in subvillage with region value.\n",
    "\n",
    "> Note: We could have dropped these rows as we have sufficient data points but I plan to group categories with less number\n",
    "of values togeter, so imputation might be useful."
   ]
  },
  {
   "cell_type": "code",
   "execution_count": 34,
   "metadata": {},
   "outputs": [],
   "source": [
    "cleaned_df['subvillage'] = cleaned_df['subvillage'].fillna(cleaned_df['region'])"
   ]
  },
  {
   "cell_type": "code",
   "execution_count": 35,
   "metadata": {},
   "outputs": [
    {
     "data": {
      "text/plain": [
       "id                   0\n",
       "amount_tsh           0\n",
       "date_recorded        0\n",
       "funder               0\n",
       "gps_height           0\n",
       "installer            0\n",
       "longitude            0\n",
       "latitude             0\n",
       "wpt_name             0\n",
       "num_private          0\n",
       "basin                0\n",
       "subvillage           0\n",
       "region               0\n",
       "region_code          0\n",
       "district_code        0\n",
       "lga                  0\n",
       "ward                 0\n",
       "population           0\n",
       "public_meeting    3334\n",
       "dtype: int64"
      ]
     },
     "execution_count": 35,
     "metadata": {},
     "output_type": "execute_result"
    }
   ],
   "source": [
    "cleaned_df.isna().sum()"
   ]
  },
  {
   "cell_type": "markdown",
   "metadata": {},
   "source": [
    "#### Column Analysis - public_meeting"
   ]
  },
  {
   "cell_type": "code",
   "execution_count": 36,
   "metadata": {},
   "outputs": [
    {
     "data": {
      "text/plain": [
       "public_meeting\n",
       "True     51009\n",
       "False     5055\n",
       "<NA>      3334\n",
       "Name: count, dtype: Int64"
      ]
     },
     "execution_count": 36,
     "metadata": {},
     "output_type": "execute_result"
    }
   ],
   "source": [
    "cleaned_df.public_meeting.value_counts(dropna=False)"
   ]
  },
  {
   "cell_type": "code",
   "execution_count": 37,
   "metadata": {},
   "outputs": [
    {
     "data": {
      "text/html": [
       "<div>\n",
       "<style scoped>\n",
       "    .dataframe tbody tr th:only-of-type {\n",
       "        vertical-align: middle;\n",
       "    }\n",
       "\n",
       "    .dataframe tbody tr th {\n",
       "        vertical-align: top;\n",
       "    }\n",
       "\n",
       "    .dataframe thead th {\n",
       "        text-align: right;\n",
       "    }\n",
       "</style>\n",
       "<table border=\"1\" class=\"dataframe\">\n",
       "  <thead>\n",
       "    <tr style=\"text-align: right;\">\n",
       "      <th></th>\n",
       "      <th>id</th>\n",
       "      <th>amount_tsh</th>\n",
       "      <th>date_recorded</th>\n",
       "      <th>funder</th>\n",
       "      <th>gps_height</th>\n",
       "      <th>installer</th>\n",
       "      <th>longitude</th>\n",
       "      <th>latitude</th>\n",
       "      <th>wpt_name</th>\n",
       "      <th>num_private</th>\n",
       "      <th>basin</th>\n",
       "      <th>subvillage</th>\n",
       "      <th>region</th>\n",
       "      <th>region_code</th>\n",
       "      <th>district_code</th>\n",
       "      <th>lga</th>\n",
       "      <th>ward</th>\n",
       "      <th>population</th>\n",
       "      <th>public_meeting</th>\n",
       "    </tr>\n",
       "  </thead>\n",
       "  <tbody>\n",
       "    <tr>\n",
       "      <th>1</th>\n",
       "      <td>8776</td>\n",
       "      <td>0.0</td>\n",
       "      <td>2013-03-06</td>\n",
       "      <td>grumeti</td>\n",
       "      <td>1399</td>\n",
       "      <td>grumeti</td>\n",
       "      <td>34.698766</td>\n",
       "      <td>-2.147466</td>\n",
       "      <td>zahanati</td>\n",
       "      <td>0</td>\n",
       "      <td>lake victoria</td>\n",
       "      <td>nyamara</td>\n",
       "      <td>mara</td>\n",
       "      <td>20</td>\n",
       "      <td>2</td>\n",
       "      <td>serengeti</td>\n",
       "      <td>natta</td>\n",
       "      <td>280</td>\n",
       "      <td>&lt;NA&gt;</td>\n",
       "    </tr>\n",
       "    <tr>\n",
       "      <th>18</th>\n",
       "      <td>34169</td>\n",
       "      <td>0.0</td>\n",
       "      <td>2011-07-22</td>\n",
       "      <td>hesawa</td>\n",
       "      <td>1162</td>\n",
       "      <td>dwe</td>\n",
       "      <td>32.920154</td>\n",
       "      <td>-1.947868</td>\n",
       "      <td>ngomee</td>\n",
       "      <td>0</td>\n",
       "      <td>lake victoria</td>\n",
       "      <td>center</td>\n",
       "      <td>mwanza</td>\n",
       "      <td>19</td>\n",
       "      <td>1</td>\n",
       "      <td>ukerewe</td>\n",
       "      <td>ilangala</td>\n",
       "      <td>1000</td>\n",
       "      <td>&lt;NA&gt;</td>\n",
       "    </tr>\n",
       "    <tr>\n",
       "      <th>21</th>\n",
       "      <td>6091</td>\n",
       "      <td>0.0</td>\n",
       "      <td>2013-02-10</td>\n",
       "      <td>dwsp</td>\n",
       "      <td>0</td>\n",
       "      <td>dwe</td>\n",
       "      <td>0.0</td>\n",
       "      <td>-0.0</td>\n",
       "      <td>muungano</td>\n",
       "      <td>0</td>\n",
       "      <td>lake victoria</td>\n",
       "      <td>ibabachegu</td>\n",
       "      <td>shinyanga</td>\n",
       "      <td>17</td>\n",
       "      <td>1</td>\n",
       "      <td>bariadi</td>\n",
       "      <td>ikungulyabashashi</td>\n",
       "      <td>0</td>\n",
       "      <td>&lt;NA&gt;</td>\n",
       "    </tr>\n",
       "    <tr>\n",
       "      <th>58</th>\n",
       "      <td>24593</td>\n",
       "      <td>0.0</td>\n",
       "      <td>2013-01-22</td>\n",
       "      <td>kkkt</td>\n",
       "      <td>1703</td>\n",
       "      <td>kkkt</td>\n",
       "      <td>35.561346</td>\n",
       "      <td>-3.806879</td>\n",
       "      <td>kwa iyora mgirigisi</td>\n",
       "      <td>0</td>\n",
       "      <td>internal</td>\n",
       "      <td>ants b</td>\n",
       "      <td>manyara</td>\n",
       "      <td>21</td>\n",
       "      <td>3</td>\n",
       "      <td>mbulu</td>\n",
       "      <td>bargish</td>\n",
       "      <td>456</td>\n",
       "      <td>&lt;NA&gt;</td>\n",
       "    </tr>\n",
       "    <tr>\n",
       "      <th>73</th>\n",
       "      <td>35715</td>\n",
       "      <td>0.0</td>\n",
       "      <td>2013-02-27</td>\n",
       "      <td>hesawa</td>\n",
       "      <td>1565</td>\n",
       "      <td>hesawa</td>\n",
       "      <td>34.657034</td>\n",
       "      <td>-1.88802</td>\n",
       "      <td>machumbe</td>\n",
       "      <td>0</td>\n",
       "      <td>lake victoria</td>\n",
       "      <td>mtakuja</td>\n",
       "      <td>mara</td>\n",
       "      <td>20</td>\n",
       "      <td>2</td>\n",
       "      <td>serengeti</td>\n",
       "      <td>manchira</td>\n",
       "      <td>200</td>\n",
       "      <td>&lt;NA&gt;</td>\n",
       "    </tr>\n",
       "    <tr>\n",
       "      <th>...</th>\n",
       "      <td>...</td>\n",
       "      <td>...</td>\n",
       "      <td>...</td>\n",
       "      <td>...</td>\n",
       "      <td>...</td>\n",
       "      <td>...</td>\n",
       "      <td>...</td>\n",
       "      <td>...</td>\n",
       "      <td>...</td>\n",
       "      <td>...</td>\n",
       "      <td>...</td>\n",
       "      <td>...</td>\n",
       "      <td>...</td>\n",
       "      <td>...</td>\n",
       "      <td>...</td>\n",
       "      <td>...</td>\n",
       "      <td>...</td>\n",
       "      <td>...</td>\n",
       "      <td>...</td>\n",
       "    </tr>\n",
       "    <tr>\n",
       "      <th>59306</th>\n",
       "      <td>71419</td>\n",
       "      <td>0.0</td>\n",
       "      <td>2013-01-16</td>\n",
       "      <td>cocern</td>\n",
       "      <td>1296</td>\n",
       "      <td>twesa</td>\n",
       "      <td>30.930385</td>\n",
       "      <td>-3.300592</td>\n",
       "      <td>kwa mhunda</td>\n",
       "      <td>0</td>\n",
       "      <td>lake tanganyika</td>\n",
       "      <td>nguvu kazi a</td>\n",
       "      <td>kigoma</td>\n",
       "      <td>16</td>\n",
       "      <td>1</td>\n",
       "      <td>kibondo</td>\n",
       "      <td>kakonko</td>\n",
       "      <td>1</td>\n",
       "      <td>&lt;NA&gt;</td>\n",
       "    </tr>\n",
       "    <tr>\n",
       "      <th>59310</th>\n",
       "      <td>32815</td>\n",
       "      <td>0.0</td>\n",
       "      <td>2013-04-04</td>\n",
       "      <td>tasaf</td>\n",
       "      <td>892</td>\n",
       "      <td>tasaf</td>\n",
       "      <td>37.74409</td>\n",
       "      <td>-4.062296</td>\n",
       "      <td>ward office</td>\n",
       "      <td>0</td>\n",
       "      <td>pangani</td>\n",
       "      <td>same</td>\n",
       "      <td>kilimanjaro</td>\n",
       "      <td>3</td>\n",
       "      <td>3</td>\n",
       "      <td>same</td>\n",
       "      <td>same urban</td>\n",
       "      <td>65</td>\n",
       "      <td>&lt;NA&gt;</td>\n",
       "    </tr>\n",
       "    <tr>\n",
       "      <th>59324</th>\n",
       "      <td>748</td>\n",
       "      <td>0.0</td>\n",
       "      <td>2013-01-22</td>\n",
       "      <td>world vision</td>\n",
       "      <td>0</td>\n",
       "      <td>world vision</td>\n",
       "      <td>0.0</td>\n",
       "      <td>-0.0</td>\n",
       "      <td>mwazwilo</td>\n",
       "      <td>0</td>\n",
       "      <td>lake victoria</td>\n",
       "      <td>mbita</td>\n",
       "      <td>shinyanga</td>\n",
       "      <td>17</td>\n",
       "      <td>1</td>\n",
       "      <td>bariadi</td>\n",
       "      <td>mbita</td>\n",
       "      <td>0</td>\n",
       "      <td>&lt;NA&gt;</td>\n",
       "    </tr>\n",
       "    <tr>\n",
       "      <th>59344</th>\n",
       "      <td>6450</td>\n",
       "      <td>0.0</td>\n",
       "      <td>2013-10-03</td>\n",
       "      <td>not known</td>\n",
       "      <td>1303</td>\n",
       "      <td>not known</td>\n",
       "      <td>36.900911</td>\n",
       "      <td>-3.111477</td>\n",
       "      <td>pentecoste swidish</td>\n",
       "      <td>0</td>\n",
       "      <td>internal</td>\n",
       "      <td>madukani</td>\n",
       "      <td>arusha</td>\n",
       "      <td>2</td>\n",
       "      <td>7</td>\n",
       "      <td>meru</td>\n",
       "      <td>ngarenanyuki</td>\n",
       "      <td>230</td>\n",
       "      <td>&lt;NA&gt;</td>\n",
       "    </tr>\n",
       "    <tr>\n",
       "      <th>59387</th>\n",
       "      <td>26640</td>\n",
       "      <td>100.0</td>\n",
       "      <td>2013-03-12</td>\n",
       "      <td>0</td>\n",
       "      <td>25</td>\n",
       "      <td>0</td>\n",
       "      <td>39.17648</td>\n",
       "      <td>-6.957098</td>\n",
       "      <td>kwa maliba</td>\n",
       "      <td>0</td>\n",
       "      <td>wami / ruvu</td>\n",
       "      <td>mtaa wa yangeyange</td>\n",
       "      <td>dar es salaam</td>\n",
       "      <td>7</td>\n",
       "      <td>2</td>\n",
       "      <td>ilala</td>\n",
       "      <td>msongola</td>\n",
       "      <td>100</td>\n",
       "      <td>&lt;NA&gt;</td>\n",
       "    </tr>\n",
       "  </tbody>\n",
       "</table>\n",
       "<p>3334 rows × 19 columns</p>\n",
       "</div>"
      ],
      "text/plain": [
       "          id  amount_tsh date_recorded        funder  gps_height  \\\n",
       "1       8776         0.0    2013-03-06       grumeti        1399   \n",
       "18     34169         0.0    2011-07-22        hesawa        1162   \n",
       "21      6091         0.0    2013-02-10          dwsp           0   \n",
       "58     24593         0.0    2013-01-22          kkkt        1703   \n",
       "73     35715         0.0    2013-02-27        hesawa        1565   \n",
       "...      ...         ...           ...           ...         ...   \n",
       "59306  71419         0.0    2013-01-16        cocern        1296   \n",
       "59310  32815         0.0    2013-04-04         tasaf         892   \n",
       "59324    748         0.0    2013-01-22  world vision           0   \n",
       "59344   6450         0.0    2013-10-03     not known        1303   \n",
       "59387  26640       100.0    2013-03-12             0          25   \n",
       "\n",
       "          installer  longitude  latitude             wpt_name  num_private  \\\n",
       "1           grumeti  34.698766 -2.147466             zahanati            0   \n",
       "18              dwe  32.920154 -1.947868               ngomee            0   \n",
       "21              dwe        0.0      -0.0             muungano            0   \n",
       "58             kkkt  35.561346 -3.806879  kwa iyora mgirigisi            0   \n",
       "73           hesawa  34.657034  -1.88802             machumbe            0   \n",
       "...             ...        ...       ...                  ...          ...   \n",
       "59306         twesa  30.930385 -3.300592           kwa mhunda            0   \n",
       "59310         tasaf   37.74409 -4.062296          ward office            0   \n",
       "59324  world vision        0.0      -0.0             mwazwilo            0   \n",
       "59344     not known  36.900911 -3.111477   pentecoste swidish            0   \n",
       "59387             0   39.17648 -6.957098           kwa maliba            0   \n",
       "\n",
       "                 basin          subvillage         region  region_code  \\\n",
       "1        lake victoria             nyamara           mara           20   \n",
       "18       lake victoria              center         mwanza           19   \n",
       "21       lake victoria          ibabachegu      shinyanga           17   \n",
       "58            internal              ants b        manyara           21   \n",
       "73       lake victoria             mtakuja           mara           20   \n",
       "...                ...                 ...            ...          ...   \n",
       "59306  lake tanganyika        nguvu kazi a         kigoma           16   \n",
       "59310          pangani                same    kilimanjaro            3   \n",
       "59324    lake victoria               mbita      shinyanga           17   \n",
       "59344         internal            madukani         arusha            2   \n",
       "59387      wami / ruvu  mtaa wa yangeyange  dar es salaam            7   \n",
       "\n",
       "       district_code        lga               ward  population  public_meeting  \n",
       "1                  2  serengeti              natta         280            <NA>  \n",
       "18                 1    ukerewe           ilangala        1000            <NA>  \n",
       "21                 1    bariadi  ikungulyabashashi           0            <NA>  \n",
       "58                 3      mbulu            bargish         456            <NA>  \n",
       "73                 2  serengeti           manchira         200            <NA>  \n",
       "...              ...        ...                ...         ...             ...  \n",
       "59306              1    kibondo            kakonko           1            <NA>  \n",
       "59310              3       same         same urban          65            <NA>  \n",
       "59324              1    bariadi              mbita           0            <NA>  \n",
       "59344              7       meru       ngarenanyuki         230            <NA>  \n",
       "59387              2      ilala           msongola         100            <NA>  \n",
       "\n",
       "[3334 rows x 19 columns]"
      ]
     },
     "execution_count": 37,
     "metadata": {},
     "output_type": "execute_result"
    }
   ],
   "source": [
    "cleaned_df[cleaned_df.public_meeting.isna()]"
   ]
  },
  {
   "cell_type": "code",
   "execution_count": 38,
   "metadata": {},
   "outputs": [
    {
     "data": {
      "text/plain": [
       "district_code\n",
       "3                1015\n",
       "2                1012\n",
       "1                 486\n",
       "7                 288\n",
       "5                 141\n",
       "4                 108\n",
       "13                 79\n",
       "43                 73\n",
       "6                  59\n",
       "53                 28\n",
       "33                 23\n",
       "8                  15\n",
       "63                  2\n",
       "23                  2\n",
       "80                  2\n",
       "30                  1\n",
       "Name: count, dtype: int64"
      ]
     },
     "execution_count": 38,
     "metadata": {},
     "output_type": "execute_result"
    }
   ],
   "source": [
    "# Analyze null rows\n",
    "cleaned_df[cleaned_df.public_meeting.isna()][[\"district_code\"]].value_counts(dropna=False)"
   ]
  },
  {
   "cell_type": "markdown",
   "metadata": {},
   "source": [
    "We don't have enough information to impute the `public_meeting` column. Therefore we will drop the rows with null values."
   ]
  },
  {
   "cell_type": "code",
   "execution_count": 39,
   "metadata": {},
   "outputs": [],
   "source": [
    "cleaned_df = cleaned_df.dropna(subset=['public_meeting'])"
   ]
  },
  {
   "cell_type": "code",
   "execution_count": 40,
   "metadata": {},
   "outputs": [
    {
     "data": {
      "text/plain": [
       "(56064, 19)"
      ]
     },
     "execution_count": 40,
     "metadata": {},
     "output_type": "execute_result"
    }
   ],
   "source": [
    "cleaned_df.shape"
   ]
  },
  {
   "cell_type": "code",
   "execution_count": 41,
   "metadata": {},
   "outputs": [
    {
     "data": {
      "text/plain": [
       "id                0\n",
       "amount_tsh        0\n",
       "date_recorded     0\n",
       "funder            0\n",
       "gps_height        0\n",
       "installer         0\n",
       "longitude         0\n",
       "latitude          0\n",
       "wpt_name          0\n",
       "num_private       0\n",
       "basin             0\n",
       "subvillage        0\n",
       "region            0\n",
       "region_code       0\n",
       "district_code     0\n",
       "lga               0\n",
       "ward              0\n",
       "population        0\n",
       "public_meeting    0\n",
       "dtype: int64"
      ]
     },
     "execution_count": 41,
     "metadata": {},
     "output_type": "execute_result"
    }
   ],
   "source": [
    "cleaned_df.isna().sum()"
   ]
  },
  {
   "cell_type": "markdown",
   "metadata": {},
   "source": [
    "### Categorical data cleaning"
   ]
  },
  {
   "cell_type": "code",
   "execution_count": 42,
   "metadata": {},
   "outputs": [
    {
     "data": {
      "text/plain": [
       "(56064, 19)"
      ]
     },
     "execution_count": 42,
     "metadata": {},
     "output_type": "execute_result"
    }
   ],
   "source": [
    "combined_cols = []\n",
    "cleaned_df.shape"
   ]
  },
  {
   "cell_type": "code",
   "execution_count": 43,
   "metadata": {},
   "outputs": [
    {
     "data": {
      "text/plain": [
       "Index(['funder', 'installer', 'wpt_name', 'basin', 'subvillage', 'region',\n",
       "       'lga', 'ward'],\n",
       "      dtype='object')"
      ]
     },
     "execution_count": 43,
     "metadata": {},
     "output_type": "execute_result"
    }
   ],
   "source": [
    "# Print all categorical columns\n",
    "cleaned_df.select_dtypes('string').columns"
   ]
  },
  {
   "cell_type": "code",
   "execution_count": 44,
   "metadata": {},
   "outputs": [],
   "source": [
    "#Helper Function\n",
    "def combine_categories(data, column, thresh=5, category_name='Other'):\n",
    "    series_count = pd.value_counts(data[column])\n",
    "    mask = ((series_count / series_count.sum())*100).lt(thresh)\n",
    "    grouped_cat = series_count[mask].index.tolist()\n",
    "    data = data.assign(**{f'{column}_combined':data[column].apply(lambda x: category_name if x in grouped_cat else x).values})\n",
    "    if column not in combined_cols:\n",
    "        combined_cols.append(column)\n",
    "    print(f\"Combined Columns List: {combined_cols}\")\n",
    "    return data"
   ]
  },
  {
   "cell_type": "markdown",
   "metadata": {},
   "source": [
    "#### Column Analysis - Funder"
   ]
  },
  {
   "cell_type": "code",
   "execution_count": 45,
   "metadata": {},
   "outputs": [
    {
     "data": {
      "text/plain": [
       "funder\n",
       "government of tanzania    8666\n",
       "not known                 3466\n",
       "danida                    2924\n",
       "hesawa                    1986\n",
       "kkkt                      1282\n",
       "                          ... \n",
       "kaaya                        1\n",
       "kalitesi                     1\n",
       "sun-ja na                    1\n",
       "twice                        1\n",
       "rwi                          1\n",
       "Name: count, Length: 1754, dtype: Int64"
      ]
     },
     "execution_count": 45,
     "metadata": {},
     "output_type": "execute_result"
    }
   ],
   "source": [
    "cleaned_df.funder.value_counts()"
   ]
  },
  {
   "cell_type": "markdown",
   "metadata": {},
   "source": [
    "We have `1754` unique values in column funder with almost 18% values in one category. We can assign the funder with very low frequency to be `Other` as this will help reduce the complexity of model without loosing too much information. We will combine all the categories with frequency less than 1%."
   ]
  },
  {
   "cell_type": "code",
   "execution_count": 46,
   "metadata": {},
   "outputs": [
    {
     "name": "stdout",
     "output_type": "stream",
     "text": [
      "Combined Columns List: ['funder']\n"
     ]
    },
    {
     "data": {
      "text/plain": [
       "funder_combined\n",
       "Other                     26636\n",
       "government of tanzania     8666\n",
       "not known                  3466\n",
       "danida                     2924\n",
       "hesawa                     1986\n",
       "kkkt                       1282\n",
       "world bank                 1273\n",
       "rwssp                      1256\n",
       "world vision               1172\n",
       "unicef                     1031\n",
       "dhv                         828\n",
       "tasaf                       821\n",
       "district council            818\n",
       "private individual          792\n",
       "norad                       760\n",
       "germany republi             610\n",
       "tcrs                        594\n",
       "water                       583\n",
       "ministry of water           566\n",
       "Name: count, dtype: int64"
      ]
     },
     "execution_count": 46,
     "metadata": {},
     "output_type": "execute_result"
    }
   ],
   "source": [
    "cleaned_df = combine_categories(cleaned_df, 'funder', 1)\n",
    "cleaned_df.funder_combined.value_counts()"
   ]
  },
  {
   "cell_type": "markdown",
   "metadata": {},
   "source": [
    "#### Column Analysis - Installer"
   ]
  },
  {
   "cell_type": "code",
   "execution_count": 47,
   "metadata": {},
   "outputs": [
    {
     "data": {
      "text/plain": [
       "installer\n",
       "dwe                     16683\n",
       "not known                3484\n",
       "government               1541\n",
       "rwe                      1190\n",
       "hesawa                   1178\n",
       "                        ...  \n",
       "halimashauli                1\n",
       "rudri                       1\n",
       "alex moyela                 1\n",
       "centra government           1\n",
       "compasion internatio        1\n",
       "Name: count, Length: 1779, dtype: Int64"
      ]
     },
     "execution_count": 47,
     "metadata": {},
     "output_type": "execute_result"
    }
   ],
   "source": [
    "cleaned_df.installer.value_counts()"
   ]
  },
  {
   "cell_type": "markdown",
   "metadata": {},
   "source": [
    "Similarly, we have too many unique values with low frequencies. Therefore, we will combine them"
   ]
  },
  {
   "cell_type": "code",
   "execution_count": 48,
   "metadata": {},
   "outputs": [
    {
     "name": "stdout",
     "output_type": "stream",
     "text": [
      "Combined Columns List: ['funder', 'installer']\n"
     ]
    },
    {
     "data": {
      "text/plain": [
       "installer_combined\n",
       "Other                 24885\n",
       "dwe                   16683\n",
       "not known              3484\n",
       "government             1541\n",
       "rwe                    1190\n",
       "hesawa                 1178\n",
       "commu                  1064\n",
       "district council        950\n",
       "kkkt                    905\n",
       "danida                  863\n",
       "central government      757\n",
       "tcrs                    697\n",
       "world vision            633\n",
       "danid                   624\n",
       "ces                     610\n",
       "Name: count, dtype: int64"
      ]
     },
     "execution_count": 48,
     "metadata": {},
     "output_type": "execute_result"
    }
   ],
   "source": [
    "cleaned_df = combine_categories(cleaned_df, 'installer', 1)\n",
    "cleaned_df.installer_combined.value_counts()"
   ]
  },
  {
   "cell_type": "markdown",
   "metadata": {},
   "source": [
    "#### Column Analysis - wpt_name"
   ]
  },
  {
   "cell_type": "code",
   "execution_count": 49,
   "metadata": {},
   "outputs": [
    {
     "data": {
      "text/plain": [
       "wpt_name\n",
       "none                 3517\n",
       "shuleni              1602\n",
       "zahanati              765\n",
       "msikitini             520\n",
       "kanisani              313\n",
       "                     ... \n",
       "riata                   1\n",
       "kwa eliot masawa        1\n",
       "kwa james siai          1\n",
       "kwa doritha             1\n",
       "shuleni kwalakama       1\n",
       "Name: count, Length: 35497, dtype: Int64"
      ]
     },
     "execution_count": 49,
     "metadata": {},
     "output_type": "execute_result"
    }
   ],
   "source": [
    "cleaned_df.wpt_name.value_counts()"
   ]
  },
  {
   "cell_type": "markdown",
   "metadata": {},
   "source": [
    "Similarly,we combine categories with frequency less than 1%"
   ]
  },
  {
   "cell_type": "code",
   "execution_count": 50,
   "metadata": {},
   "outputs": [
    {
     "name": "stdout",
     "output_type": "stream",
     "text": [
      "Combined Columns List: ['funder', 'installer', 'wpt_name']\n"
     ]
    },
    {
     "data": {
      "text/plain": [
       "wpt_name_combined\n",
       "Other       50180\n",
       "none         3517\n",
       "shuleni      1602\n",
       "zahanati      765\n",
       "Name: count, dtype: int64"
      ]
     },
     "execution_count": 50,
     "metadata": {},
     "output_type": "execute_result"
    }
   ],
   "source": [
    "cleaned_df = combine_categories(cleaned_df, 'wpt_name', 1)\n",
    "cleaned_df.wpt_name_combined.value_counts()"
   ]
  },
  {
   "cell_type": "markdown",
   "metadata": {},
   "source": [
    "#### Column Analysis - Basin"
   ]
  },
  {
   "cell_type": "code",
   "execution_count": 51,
   "metadata": {},
   "outputs": [
    {
     "data": {
      "text/plain": [
       "basin\n",
       "pangani                    8902\n",
       "lake victoria              8856\n",
       "rufiji                     7949\n",
       "internal                   7465\n",
       "lake tanganyika            6143\n",
       "wami / ruvu                5506\n",
       "lake nyasa                 4694\n",
       "ruvuma / southern coast    4137\n",
       "lake rukwa                 2412\n",
       "Name: count, dtype: Int64"
      ]
     },
     "execution_count": 51,
     "metadata": {},
     "output_type": "execute_result"
    }
   ],
   "source": [
    "cleaned_df.basin.value_counts()"
   ]
  },
  {
   "cell_type": "markdown",
   "metadata": {},
   "source": [
    "No transformation needed."
   ]
  },
  {
   "cell_type": "markdown",
   "metadata": {},
   "source": [
    "#### Column Analysis - Subvillage"
   ]
  },
  {
   "cell_type": "code",
   "execution_count": 52,
   "metadata": {},
   "outputs": [
    {
     "data": {
      "text/plain": [
       "subvillage\n",
       "shuleni         492\n",
       "majengo         490\n",
       "madukani        453\n",
       "dodoma          409\n",
       "kati            359\n",
       "               ... \n",
       "kwamvuma          1\n",
       "malesela          1\n",
       "miembe dekwa      1\n",
       "lung'uda          1\n",
       "mbanja b          1\n",
       "Name: count, Length: 18367, dtype: Int64"
      ]
     },
     "execution_count": 52,
     "metadata": {},
     "output_type": "execute_result"
    }
   ],
   "source": [
    "cleaned_df.subvillage.value_counts()"
   ]
  },
  {
   "cell_type": "markdown",
   "metadata": {},
   "source": [
    "We have a lot of categories with low frequencies. Therefore we will combine categories with less than 0.5% frequency."
   ]
  },
  {
   "cell_type": "code",
   "execution_count": 53,
   "metadata": {},
   "outputs": [
    {
     "name": "stdout",
     "output_type": "stream",
     "text": [
      "Combined Columns List: ['funder', 'installer', 'wpt_name', 'subvillage']\n"
     ]
    },
    {
     "data": {
      "text/plain": [
       "subvillage_combined\n",
       "Other       53861\n",
       "shuleni       492\n",
       "majengo       490\n",
       "madukani      453\n",
       "dodoma        409\n",
       "kati          359\n",
       "Name: count, dtype: int64"
      ]
     },
     "execution_count": 53,
     "metadata": {},
     "output_type": "execute_result"
    }
   ],
   "source": [
    "cleaned_df = combine_categories(cleaned_df, 'subvillage', 0.5)\n",
    "cleaned_df.subvillage_combined.value_counts()"
   ]
  },
  {
   "cell_type": "markdown",
   "metadata": {},
   "source": [
    "#### Column Analysis - Region"
   ]
  },
  {
   "cell_type": "code",
   "execution_count": 54,
   "metadata": {},
   "outputs": [
    {
     "data": {
      "text/plain": [
       "region\n",
       "iringa           5292\n",
       "mbeya            4617\n",
       "kilimanjaro      4358\n",
       "shinyanga        4335\n",
       "morogoro         3974\n",
       "kagera           3316\n",
       "arusha           3312\n",
       "mwanza           2814\n",
       "kigoma           2785\n",
       "pwani            2628\n",
       "tanga            2544\n",
       "dodoma           2200\n",
       "ruvuma           2118\n",
       "singida          1968\n",
       "tabora           1902\n",
       "rukwa            1755\n",
       "mtwara           1698\n",
       "manyara          1537\n",
       "lindi            1365\n",
       "mara             1201\n",
       "dar es salaam     345\n",
       "Name: count, dtype: Int64"
      ]
     },
     "execution_count": 54,
     "metadata": {},
     "output_type": "execute_result"
    }
   ],
   "source": [
    "cleaned_df.region.value_counts()"
   ]
  },
  {
   "cell_type": "code",
   "execution_count": 55,
   "metadata": {},
   "outputs": [
    {
     "name": "stdout",
     "output_type": "stream",
     "text": [
      "Combined Columns List: ['funder', 'installer', 'wpt_name', 'subvillage', 'region']\n"
     ]
    },
    {
     "data": {
      "text/plain": [
       "region_combined\n",
       "iringa         5292\n",
       "mbeya          4617\n",
       "Other          4448\n",
       "kilimanjaro    4358\n",
       "shinyanga      4335\n",
       "morogoro       3974\n",
       "kagera         3316\n",
       "arusha         3312\n",
       "mwanza         2814\n",
       "kigoma         2785\n",
       "pwani          2628\n",
       "tanga          2544\n",
       "dodoma         2200\n",
       "ruvuma         2118\n",
       "singida        1968\n",
       "tabora         1902\n",
       "rukwa          1755\n",
       "mtwara         1698\n",
       "Name: count, dtype: int64"
      ]
     },
     "execution_count": 55,
     "metadata": {},
     "output_type": "execute_result"
    }
   ],
   "source": [
    "cleaned_df = combine_categories(cleaned_df, 'region', 3)\n",
    "cleaned_df.region_combined.value_counts()"
   ]
  },
  {
   "cell_type": "markdown",
   "metadata": {},
   "source": [
    "#### Column Analysis - LGA"
   ]
  },
  {
   "cell_type": "code",
   "execution_count": 56,
   "metadata": {},
   "outputs": [
    {
     "data": {
      "text/plain": [
       "lga\n",
       "njombe          2503\n",
       "arusha rural    1248\n",
       "moshi rural     1234\n",
       "rungwe          1089\n",
       "kilosa          1070\n",
       "                ... \n",
       "kigoma urban      69\n",
       "arusha urban      63\n",
       "ilala             37\n",
       "lindi urban       21\n",
       "nyamagana          1\n",
       "Name: count, Length: 125, dtype: Int64"
      ]
     },
     "execution_count": 56,
     "metadata": {},
     "output_type": "execute_result"
    }
   ],
   "source": [
    "cleaned_df.lga.value_counts()"
   ]
  },
  {
   "cell_type": "code",
   "execution_count": 57,
   "metadata": {},
   "outputs": [
    {
     "name": "stdout",
     "output_type": "stream",
     "text": [
      "Combined Columns List: ['funder', 'installer', 'wpt_name', 'subvillage', 'region', 'lga']\n"
     ]
    },
    {
     "data": {
      "text/plain": [
       "lga_combined\n",
       "Other              25436\n",
       "njombe              2503\n",
       "arusha rural        1248\n",
       "moshi rural         1234\n",
       "rungwe              1089\n",
       "kilosa              1070\n",
       "kasulu              1045\n",
       "mbozi               1029\n",
       "bagamoyo             993\n",
       "meru                 990\n",
       "kilombero            956\n",
       "singida rural        880\n",
       "same                 874\n",
       "bariadi              871\n",
       "kyela                859\n",
       "kibondo              853\n",
       "kigoma rural         818\n",
       "maswa                800\n",
       "karagwe              771\n",
       "magu                 769\n",
       "iringa rural         728\n",
       "kahama               720\n",
       "lushoto              694\n",
       "songea rural         692\n",
       "mvomero              671\n",
       "namtumbo             671\n",
       "ngara                669\n",
       "mpanda               669\n",
       "ulanga               660\n",
       "makete               629\n",
       "mbarali              626\n",
       "hai                  625\n",
       "kwimba               607\n",
       "rombo                594\n",
       "shinyanga rural      585\n",
       "nzega                573\n",
       "ludewa               563\n",
       "Name: count, dtype: int64"
      ]
     },
     "execution_count": 57,
     "metadata": {},
     "output_type": "execute_result"
    }
   ],
   "source": [
    "cleaned_df = combine_categories(cleaned_df, 'lga', 1)\n",
    "cleaned_df.lga_combined.value_counts()"
   ]
  },
  {
   "cell_type": "markdown",
   "metadata": {},
   "source": [
    "#### Column Analysis - Ward"
   ]
  },
  {
   "cell_type": "code",
   "execution_count": 58,
   "metadata": {},
   "outputs": [
    {
     "data": {
      "text/plain": [
       "ward\n",
       "igosi           307\n",
       "imalinyi        252\n",
       "siha kati       232\n",
       "mdandu          231\n",
       "nduruma         216\n",
       "               ... \n",
       "chinugulu         1\n",
       "kinungu           1\n",
       "ifinga            1\n",
       "thawi             1\n",
       "mbinga urban      1\n",
       "Name: count, Length: 2049, dtype: Int64"
      ]
     },
     "execution_count": 58,
     "metadata": {},
     "output_type": "execute_result"
    }
   ],
   "source": [
    "cleaned_df.ward.value_counts()"
   ]
  },
  {
   "cell_type": "code",
   "execution_count": 59,
   "metadata": {},
   "outputs": [
    {
     "name": "stdout",
     "output_type": "stream",
     "text": [
      "Combined Columns List: ['funder', 'installer', 'wpt_name', 'subvillage', 'region', 'lga', 'ward']\n"
     ]
    },
    {
     "data": {
      "text/plain": [
       "ward_combined\n",
       "Other        55042\n",
       "igosi          307\n",
       "imalinyi       252\n",
       "siha kati      232\n",
       "mdandu         231\n",
       "Name: count, dtype: int64"
      ]
     },
     "execution_count": 59,
     "metadata": {},
     "output_type": "execute_result"
    }
   ],
   "source": [
    "cleaned_df = combine_categories(cleaned_df, 'ward', 0.4)\n",
    "cleaned_df.ward_combined.value_counts()"
   ]
  },
  {
   "cell_type": "markdown",
   "metadata": {},
   "source": [
    "### Numerical Column Analysis"
   ]
  },
  {
   "cell_type": "code",
   "execution_count": 60,
   "metadata": {},
   "outputs": [
    {
     "data": {
      "text/plain": [
       "['longitude',\n",
       " 'district_code',\n",
       " 'gps_height',\n",
       " 'public_meeting',\n",
       " 'num_private',\n",
       " 'latitude',\n",
       " 'population',\n",
       " 'date_recorded',\n",
       " 'region_code',\n",
       " 'id',\n",
       " 'amount_tsh']"
      ]
     },
     "execution_count": 60,
     "metadata": {},
     "output_type": "execute_result"
    }
   ],
   "source": [
    "drop_numerical_cols = []\n",
    "list(set(cleaned_df.columns).difference(set(cleaned_df.select_dtypes(['string','object']))))"
   ]
  },
  {
   "cell_type": "code",
   "execution_count": 61,
   "metadata": {},
   "outputs": [
    {
     "name": "stdout",
     "output_type": "stream",
     "text": [
      "id : 56064\n",
      "amount_tsh : 94\n",
      "date_recorded : 354\n",
      "funder : 1754\n",
      "gps_height : 2428\n",
      "installer : 1779\n",
      "longitude : 54564\n",
      "latitude : 54565\n",
      "wpt_name : 35497\n",
      "num_private : 62\n",
      "basin : 9\n",
      "subvillage : 18367\n",
      "region : 21\n",
      "region_code : 27\n",
      "district_code : 20\n",
      "lga : 125\n",
      "ward : 2049\n",
      "population : 1026\n",
      "public_meeting : 2\n",
      "funder_combined : 19\n",
      "installer_combined : 15\n",
      "wpt_name_combined : 4\n",
      "subvillage_combined : 6\n",
      "region_combined : 18\n",
      "lga_combined : 37\n",
      "ward_combined : 5\n"
     ]
    }
   ],
   "source": [
    "for col in cleaned_df.columns:\n",
    "    print(f\"{col} : {len(cleaned_df[col].unique())}\")"
   ]
  },
  {
   "cell_type": "markdown",
   "metadata": {},
   "source": [
    "#### Column Analysis - District Code"
   ]
  },
  {
   "cell_type": "code",
   "execution_count": 62,
   "metadata": {},
   "outputs": [
    {
     "data": {
      "text/plain": [
       "district_code\n",
       "1                11717\n",
       "2                10161\n",
       "3                 8983\n",
       "4                 8891\n",
       "5                 4215\n",
       "6                 4014\n",
       "7                 3054\n",
       "8                 1028\n",
       "30                 994\n",
       "33                 851\n",
       "53                 717\n",
       "43                 432\n",
       "13                 312\n",
       "23                 291\n",
       "63                 193\n",
       "62                 109\n",
       "60                  63\n",
       "0                   23\n",
       "80                  10\n",
       "67                   6\n",
       "Name: count, dtype: int64"
      ]
     },
     "execution_count": 62,
     "metadata": {},
     "output_type": "execute_result"
    }
   ],
   "source": [
    "cleaned_df[['district_code']].value_counts()"
   ]
  },
  {
   "cell_type": "markdown",
   "metadata": {},
   "source": [
    "District code doesn't seem to have relation with any location feature, so we will keep it for now."
   ]
  },
  {
   "cell_type": "markdown",
   "metadata": {},
   "source": [
    "#### Column Analysis - Region Code"
   ]
  },
  {
   "cell_type": "code",
   "execution_count": 63,
   "metadata": {},
   "outputs": [
    {
     "data": {
      "text/plain": [
       "region_code  region_combined\n",
       "1            dodoma             2200\n",
       "2            arusha             2987\n",
       "3            kilimanjaro        4358\n",
       "4            tanga              2510\n",
       "5            morogoro           3974\n",
       "             tanga                34\n",
       "6            pwani              1605\n",
       "7            Other               345\n",
       "8            Other               298\n",
       "9            mtwara              389\n",
       "10           ruvuma             2118\n",
       "11           iringa             5292\n",
       "             shinyanga             3\n",
       "12           mbeya              4617\n",
       "13           singida            1968\n",
       "14           tabora             1902\n",
       "             shinyanga            20\n",
       "15           rukwa              1755\n",
       "16           kigoma             2785\n",
       "17           shinyanga          4312\n",
       "             mwanza                3\n",
       "18           kagera             3316\n",
       "             Other                 8\n",
       "19           mwanza             2811\n",
       "20           Other              1201\n",
       "21           Other              1537\n",
       "24           arusha              325\n",
       "40           pwani                 1\n",
       "60           pwani              1022\n",
       "80           Other              1059\n",
       "90           mtwara              892\n",
       "99           mtwara              417\n",
       "Name: count, dtype: int64"
      ]
     },
     "execution_count": 63,
     "metadata": {},
     "output_type": "execute_result"
    }
   ],
   "source": [
    "cleaned_df.groupby('region')[['region_code']].value_counts()\n",
    "cleaned_df.groupby('region_code')[['region_combined']].value_counts()"
   ]
  },
  {
   "cell_type": "markdown",
   "metadata": {},
   "source": [
    "We observe that each region code might have multiple regions within which means we can remove either of these columns. We can remove `region_code`. "
   ]
  },
  {
   "cell_type": "code",
   "execution_count": 64,
   "metadata": {},
   "outputs": [
    {
     "data": {
      "text/plain": [
       "['region_code']"
      ]
     },
     "execution_count": 64,
     "metadata": {},
     "output_type": "execute_result"
    }
   ],
   "source": [
    "drop_numerical_cols.append('region_code')\n",
    "drop_numerical_cols"
   ]
  },
  {
   "cell_type": "markdown",
   "metadata": {},
   "source": [
    "#### Column Analysis - Public Meeting"
   ]
  },
  {
   "cell_type": "code",
   "execution_count": 65,
   "metadata": {},
   "outputs": [
    {
     "data": {
      "text/plain": [
       "public_meeting\n",
       "True     51009\n",
       "False     5055\n",
       "<NA>         0\n",
       "Name: count, dtype: Int64"
      ]
     },
     "execution_count": 65,
     "metadata": {},
     "output_type": "execute_result"
    }
   ],
   "source": [
    "cleaned_df.public_meeting.value_counts(dropna=False)"
   ]
  },
  {
   "cell_type": "markdown",
   "metadata": {},
   "source": [
    "Seems okay, no transformation needed"
   ]
  },
  {
   "cell_type": "markdown",
   "metadata": {},
   "source": [
    "#### Column Analysis - GPS Height"
   ]
  },
  {
   "cell_type": "code",
   "execution_count": 66,
   "metadata": {},
   "outputs": [
    {
     "data": {
      "text/plain": [
       "<Axes: >"
      ]
     },
     "execution_count": 66,
     "metadata": {},
     "output_type": "execute_result"
    },
    {
     "data": {
      "image/png": "[encoded data removed]",
      "text/plain": [
       "<Figure size 640x480 with 1 Axes>"
      ]
     },
     "metadata": {},
     "output_type": "display_data"
    }
   ],
   "source": [
    "cleaned_df.gps_height.value_counts()\n",
    "cleaned_df.gps_height.hist()"
   ]
  },
  {
   "cell_type": "markdown",
   "metadata": {},
   "source": [
    "Most of the wells are at level surfaces which makes sense. No transformation needed"
   ]
  },
  {
   "cell_type": "markdown",
   "metadata": {},
   "source": [
    "#### Column Analysis - Date Recorded"
   ]
  },
  {
   "cell_type": "code",
   "execution_count": 67,
   "metadata": {},
   "outputs": [
    {
     "data": {
      "text/plain": [
       "['region_code', 'date_recorded']"
      ]
     },
     "execution_count": 67,
     "metadata": {},
     "output_type": "execute_result"
    }
   ],
   "source": [
    "cleaned_df['year_recorded'] = pd.DatetimeIndex(cleaned_df['date_recorded']).year\n",
    "cleaned_df['month_recorded'] = pd.DatetimeIndex(cleaned_df['date_recorded']).month_name()\n",
    "drop_numerical_cols.append('date_recorded')\n",
    "drop_numerical_cols"
   ]
  },
  {
   "cell_type": "markdown",
   "metadata": {},
   "source": [
    "We extract month and year and remove `date_recorded`. We also need to convert them to categories for eaasy analysis"
   ]
  },
  {
   "cell_type": "code",
   "execution_count": 68,
   "metadata": {},
   "outputs": [
    {
     "data": {
      "text/plain": [
       "year_recorded\n",
       "2011    28323\n",
       "2013    22100\n",
       "2012     5616\n",
       "2004       24\n",
       "2002        1\n",
       "Name: count, dtype: int64"
      ]
     },
     "execution_count": 68,
     "metadata": {},
     "output_type": "execute_result"
    }
   ],
   "source": [
    "cleaned_df['year_recorded'].value_counts()"
   ]
  },
  {
   "cell_type": "code",
   "execution_count": 69,
   "metadata": {},
   "outputs": [],
   "source": [
    "categories = pd.cut(cleaned_df['year_recorded'], bins=[2000, 2010, 2011, 2012, 2013], labels=[\"2001-2010\", \"2011\", \"2012\", \"2013\"])"
   ]
  },
  {
   "cell_type": "code",
   "execution_count": 70,
   "metadata": {},
   "outputs": [],
   "source": [
    "cleaned_df['year_recorded_bins'] = categories"
   ]
  },
  {
   "cell_type": "code",
   "execution_count": 71,
   "metadata": {},
   "outputs": [
    {
     "data": {
      "text/plain": [
       "year_recorded_bins\n",
       "2011         28323\n",
       "2013         22100\n",
       "2012          5616\n",
       "2001-2010       25\n",
       "Name: count, dtype: int64"
      ]
     },
     "execution_count": 71,
     "metadata": {},
     "output_type": "execute_result"
    }
   ],
   "source": [
    "cleaned_df.year_recorded_bins.value_counts()"
   ]
  },
  {
   "cell_type": "code",
   "execution_count": 72,
   "metadata": {},
   "outputs": [],
   "source": [
    "drop_numerical_cols.append('year_recorded')"
   ]
  },
  {
   "cell_type": "markdown",
   "metadata": {},
   "source": [
    "#### Column Analysis - Population"
   ]
  },
  {
   "cell_type": "code",
   "execution_count": 73,
   "metadata": {},
   "outputs": [
    {
     "data": {
      "text/plain": [
       "population\n",
       "0       20398\n",
       "1        6738\n",
       "200      1837\n",
       "150      1795\n",
       "250      1450\n",
       "        ...  \n",
       "1290        1\n",
       "197         1\n",
       "2461        1\n",
       "398         1\n",
       "912         1\n",
       "Name: count, Length: 1026, dtype: Int64"
      ]
     },
     "execution_count": 73,
     "metadata": {},
     "output_type": "execute_result"
    }
   ],
   "source": [
    "cleaned_df.population.value_counts()"
   ]
  },
  {
   "cell_type": "markdown",
   "metadata": {},
   "source": [
    "Seems okay"
   ]
  },
  {
   "cell_type": "markdown",
   "metadata": {},
   "source": [
    "#### Column Analysis - Num Private"
   ]
  },
  {
   "cell_type": "code",
   "execution_count": 74,
   "metadata": {},
   "outputs": [
    {
     "data": {
      "text/plain": [
       "num_private  funder                \n",
       "0            government of tanzania    8540\n",
       "             not known                 3463\n",
       "             danida                    2920\n",
       "             hesawa                    1986\n",
       "             world bank                1270\n",
       "                                       ... \n",
       "672          muwsa                        1\n",
       "698          muwsa                        1\n",
       "755          government of tanzania       1\n",
       "1402         muwsa                        1\n",
       "1776         muwsa                        1\n",
       "Name: count, Length: 1898, dtype: int64"
      ]
     },
     "execution_count": 74,
     "metadata": {},
     "output_type": "execute_result"
    }
   ],
   "source": [
    "cleaned_df.groupby('num_private')[['funder']].value_counts()\n",
    "# cleaned_df.head()"
   ]
  },
  {
   "cell_type": "markdown",
   "metadata": {},
   "source": [
    "No relation with other columns and data description missing. For now we'll keep it."
   ]
  },
  {
   "cell_type": "markdown",
   "metadata": {},
   "source": [
    "#### Column Analysis - Amount TSH"
   ]
  },
  {
   "cell_type": "code",
   "execution_count": 75,
   "metadata": {},
   "outputs": [
    {
     "data": {
      "text/plain": [
       "amount_tsh\n",
       "0.0         38823\n",
       "500.0        3055\n",
       "50.0         2213\n",
       "1000.0       1482\n",
       "20.0         1457\n",
       "            ...  \n",
       "170000.0        1\n",
       "220.0           1\n",
       "38000.0         1\n",
       "12.0            1\n",
       "60000.0         1\n",
       "Name: count, Length: 94, dtype: Int64"
      ]
     },
     "execution_count": 75,
     "metadata": {},
     "output_type": "execute_result"
    }
   ],
   "source": [
    "cleaned_df.amount_tsh.value_counts()"
   ]
  },
  {
   "cell_type": "markdown",
   "metadata": {},
   "source": [
    "No modification needed."
   ]
  },
  {
   "cell_type": "markdown",
   "metadata": {},
   "source": [
    "## Data Cleaning - Last 20 Features"
   ]
  },
  {
   "cell_type": "code",
   "execution_count": 76,
   "metadata": {},
   "outputs": [],
   "source": [
    "df = pump_data_val.set_index('id').iloc[:, 19:]"
   ]
  },
  {
   "cell_type": "code",
   "execution_count": 77,
   "metadata": {},
   "outputs": [],
   "source": [
    "drop_columns_last_20 = []"
   ]
  },
  {
   "cell_type": "code",
   "execution_count": 78,
   "metadata": {},
   "outputs": [
    {
     "data": {
      "text/plain": [
       "Index(['scheme_management', 'scheme_name', 'permit', 'construction_year',\n",
       "       'extraction_type', 'extraction_type_group', 'extraction_type_class',\n",
       "       'management', 'management_group', 'payment', 'payment_type',\n",
       "       'water_quality', 'quality_group', 'quantity', 'quantity_group',\n",
       "       'source', 'source_type', 'source_class', 'waterpoint_type',\n",
       "       'waterpoint_type_group'],\n",
       "      dtype='object')"
      ]
     },
     "execution_count": 78,
     "metadata": {},
     "output_type": "execute_result"
    }
   ],
   "source": [
    "df.columns"
   ]
  },
  {
   "cell_type": "code",
   "execution_count": 79,
   "metadata": {},
   "outputs": [],
   "source": [
    "# clean all object/text columns. lower and strip\n",
    "\n",
    "# df_obj = df.select_dtypes(['object'])\n",
    "\n",
    "def trim_all_columns(df):\n",
    "    \"\"\"\n",
    "    Trim whitespace from ends & lower each value across all series in dataframe\n",
    "    \"\"\"\n",
    "    trim_strings = lambda x: x.lower().strip() if isinstance(x, str) else x\n",
    "    return df.applymap(trim_strings)"
   ]
  },
  {
   "cell_type": "code",
   "execution_count": 80,
   "metadata": {},
   "outputs": [],
   "source": [
    "df = trim_all_columns(df)"
   ]
  },
  {
   "cell_type": "code",
   "execution_count": 81,
   "metadata": {},
   "outputs": [
    {
     "name": "stdout",
     "output_type": "stream",
     "text": [
      "<class 'pandas.core.frame.DataFrame'>\n",
      "Index: 59400 entries, 69572 to 26348\n",
      "Data columns (total 20 columns):\n",
      " #   Column                 Non-Null Count  Dtype \n",
      "---  ------                 --------------  ----- \n",
      " 0   scheme_management      55522 non-null  object\n",
      " 1   scheme_name            30590 non-null  object\n",
      " 2   permit                 56344 non-null  object\n",
      " 3   construction_year      59400 non-null  int64 \n",
      " 4   extraction_type        59400 non-null  object\n",
      " 5   extraction_type_group  59400 non-null  object\n",
      " 6   extraction_type_class  59400 non-null  object\n",
      " 7   management             59400 non-null  object\n",
      " 8   management_group       59400 non-null  object\n",
      " 9   payment                59400 non-null  object\n",
      " 10  payment_type           59400 non-null  object\n",
      " 11  water_quality          59400 non-null  object\n",
      " 12  quality_group          59400 non-null  object\n",
      " 13  quantity               59400 non-null  object\n",
      " 14  quantity_group         59400 non-null  object\n",
      " 15  source                 59400 non-null  object\n",
      " 16  source_type            59400 non-null  object\n",
      " 17  source_class           59400 non-null  object\n",
      " 18  waterpoint_type        59400 non-null  object\n",
      " 19  waterpoint_type_group  59400 non-null  object\n",
      "dtypes: int64(1), object(19)\n",
      "memory usage: 9.5+ MB\n"
     ]
    }
   ],
   "source": [
    "df.info()"
   ]
  },
  {
   "cell_type": "code",
   "execution_count": 82,
   "metadata": {},
   "outputs": [
    {
     "name": "stdout",
     "output_type": "stream",
     "text": [
      "Zero Variance columns: []\n"
     ]
    }
   ],
   "source": [
    "col_list_2 = check_cero_var_columns(df)\n",
    "print(f\"Zero Variance columns: {col_list_2}\")"
   ]
  },
  {
   "cell_type": "code",
   "execution_count": 83,
   "metadata": {},
   "outputs": [
    {
     "data": {
      "text/plain": [
       "scheme_management         3878\n",
       "scheme_name              28810\n",
       "permit                    3056\n",
       "construction_year            0\n",
       "extraction_type              0\n",
       "extraction_type_group        0\n",
       "extraction_type_class        0\n",
       "management                   0\n",
       "management_group             0\n",
       "payment                      0\n",
       "payment_type                 0\n",
       "water_quality                0\n",
       "quality_group                0\n",
       "quantity                     0\n",
       "quantity_group               0\n",
       "source                       0\n",
       "source_type                  0\n",
       "source_class                 0\n",
       "waterpoint_type              0\n",
       "waterpoint_type_group        0\n",
       "dtype: int64"
      ]
     },
     "execution_count": 83,
     "metadata": {},
     "output_type": "execute_result"
    }
   ],
   "source": [
    "# check for missing values\n",
    "df.isna().sum()"
   ]
  },
  {
   "cell_type": "code",
   "execution_count": 84,
   "metadata": {},
   "outputs": [
    {
     "data": {
      "text/html": [
       "<div>\n",
       "<style scoped>\n",
       "    .dataframe tbody tr th:only-of-type {\n",
       "        vertical-align: middle;\n",
       "    }\n",
       "\n",
       "    .dataframe tbody tr th {\n",
       "        vertical-align: top;\n",
       "    }\n",
       "\n",
       "    .dataframe thead th {\n",
       "        text-align: right;\n",
       "    }\n",
       "</style>\n",
       "<table border=\"1\" class=\"dataframe\">\n",
       "  <thead>\n",
       "    <tr style=\"text-align: right;\">\n",
       "      <th></th>\n",
       "      <th>scheme_management</th>\n",
       "      <th>scheme_name</th>\n",
       "      <th>permit</th>\n",
       "      <th>construction_year</th>\n",
       "      <th>extraction_type</th>\n",
       "      <th>extraction_type_group</th>\n",
       "      <th>extraction_type_class</th>\n",
       "      <th>management</th>\n",
       "      <th>management_group</th>\n",
       "      <th>payment</th>\n",
       "      <th>payment_type</th>\n",
       "      <th>water_quality</th>\n",
       "      <th>quality_group</th>\n",
       "      <th>quantity</th>\n",
       "      <th>quantity_group</th>\n",
       "      <th>source</th>\n",
       "      <th>source_type</th>\n",
       "      <th>source_class</th>\n",
       "      <th>waterpoint_type</th>\n",
       "      <th>waterpoint_type_group</th>\n",
       "    </tr>\n",
       "    <tr>\n",
       "      <th>id</th>\n",
       "      <th></th>\n",
       "      <th></th>\n",
       "      <th></th>\n",
       "      <th></th>\n",
       "      <th></th>\n",
       "      <th></th>\n",
       "      <th></th>\n",
       "      <th></th>\n",
       "      <th></th>\n",
       "      <th></th>\n",
       "      <th></th>\n",
       "      <th></th>\n",
       "      <th></th>\n",
       "      <th></th>\n",
       "      <th></th>\n",
       "      <th></th>\n",
       "      <th></th>\n",
       "      <th></th>\n",
       "      <th></th>\n",
       "      <th></th>\n",
       "    </tr>\n",
       "  </thead>\n",
       "  <tbody>\n",
       "    <tr>\n",
       "      <th>69572</th>\n",
       "      <td>vwc</td>\n",
       "      <td>roman</td>\n",
       "      <td>False</td>\n",
       "      <td>1999</td>\n",
       "      <td>gravity</td>\n",
       "      <td>gravity</td>\n",
       "      <td>gravity</td>\n",
       "      <td>vwc</td>\n",
       "      <td>user-group</td>\n",
       "      <td>pay annually</td>\n",
       "      <td>annually</td>\n",
       "      <td>soft</td>\n",
       "      <td>good</td>\n",
       "      <td>enough</td>\n",
       "      <td>enough</td>\n",
       "      <td>spring</td>\n",
       "      <td>spring</td>\n",
       "      <td>groundwater</td>\n",
       "      <td>communal standpipe</td>\n",
       "      <td>communal standpipe</td>\n",
       "    </tr>\n",
       "    <tr>\n",
       "      <th>8776</th>\n",
       "      <td>other</td>\n",
       "      <td>NaN</td>\n",
       "      <td>True</td>\n",
       "      <td>2010</td>\n",
       "      <td>gravity</td>\n",
       "      <td>gravity</td>\n",
       "      <td>gravity</td>\n",
       "      <td>wug</td>\n",
       "      <td>user-group</td>\n",
       "      <td>never pay</td>\n",
       "      <td>never pay</td>\n",
       "      <td>soft</td>\n",
       "      <td>good</td>\n",
       "      <td>insufficient</td>\n",
       "      <td>insufficient</td>\n",
       "      <td>rainwater harvesting</td>\n",
       "      <td>rainwater harvesting</td>\n",
       "      <td>surface</td>\n",
       "      <td>communal standpipe</td>\n",
       "      <td>communal standpipe</td>\n",
       "    </tr>\n",
       "    <tr>\n",
       "      <th>34310</th>\n",
       "      <td>vwc</td>\n",
       "      <td>nyumba ya mungu pipe scheme</td>\n",
       "      <td>True</td>\n",
       "      <td>2009</td>\n",
       "      <td>gravity</td>\n",
       "      <td>gravity</td>\n",
       "      <td>gravity</td>\n",
       "      <td>vwc</td>\n",
       "      <td>user-group</td>\n",
       "      <td>pay per bucket</td>\n",
       "      <td>per bucket</td>\n",
       "      <td>soft</td>\n",
       "      <td>good</td>\n",
       "      <td>enough</td>\n",
       "      <td>enough</td>\n",
       "      <td>dam</td>\n",
       "      <td>dam</td>\n",
       "      <td>surface</td>\n",
       "      <td>communal standpipe multiple</td>\n",
       "      <td>communal standpipe</td>\n",
       "    </tr>\n",
       "    <tr>\n",
       "      <th>67743</th>\n",
       "      <td>vwc</td>\n",
       "      <td>NaN</td>\n",
       "      <td>True</td>\n",
       "      <td>1986</td>\n",
       "      <td>submersible</td>\n",
       "      <td>submersible</td>\n",
       "      <td>submersible</td>\n",
       "      <td>vwc</td>\n",
       "      <td>user-group</td>\n",
       "      <td>never pay</td>\n",
       "      <td>never pay</td>\n",
       "      <td>soft</td>\n",
       "      <td>good</td>\n",
       "      <td>dry</td>\n",
       "      <td>dry</td>\n",
       "      <td>machine dbh</td>\n",
       "      <td>borehole</td>\n",
       "      <td>groundwater</td>\n",
       "      <td>communal standpipe multiple</td>\n",
       "      <td>communal standpipe</td>\n",
       "    </tr>\n",
       "    <tr>\n",
       "      <th>19728</th>\n",
       "      <td>NaN</td>\n",
       "      <td>NaN</td>\n",
       "      <td>True</td>\n",
       "      <td>0</td>\n",
       "      <td>gravity</td>\n",
       "      <td>gravity</td>\n",
       "      <td>gravity</td>\n",
       "      <td>other</td>\n",
       "      <td>other</td>\n",
       "      <td>never pay</td>\n",
       "      <td>never pay</td>\n",
       "      <td>soft</td>\n",
       "      <td>good</td>\n",
       "      <td>seasonal</td>\n",
       "      <td>seasonal</td>\n",
       "      <td>rainwater harvesting</td>\n",
       "      <td>rainwater harvesting</td>\n",
       "      <td>surface</td>\n",
       "      <td>communal standpipe</td>\n",
       "      <td>communal standpipe</td>\n",
       "    </tr>\n",
       "  </tbody>\n",
       "</table>\n",
       "</div>"
      ],
      "text/plain": [
       "      scheme_management                  scheme_name permit  \\\n",
       "id                                                            \n",
       "69572               vwc                        roman  False   \n",
       "8776              other                          NaN   True   \n",
       "34310               vwc  nyumba ya mungu pipe scheme   True   \n",
       "67743               vwc                          NaN   True   \n",
       "19728               NaN                          NaN   True   \n",
       "\n",
       "       construction_year extraction_type extraction_type_group  \\\n",
       "id                                                               \n",
       "69572               1999         gravity               gravity   \n",
       "8776                2010         gravity               gravity   \n",
       "34310               2009         gravity               gravity   \n",
       "67743               1986     submersible           submersible   \n",
       "19728                  0         gravity               gravity   \n",
       "\n",
       "      extraction_type_class management management_group         payment  \\\n",
       "id                                                                        \n",
       "69572               gravity        vwc       user-group    pay annually   \n",
       "8776                gravity        wug       user-group       never pay   \n",
       "34310               gravity        vwc       user-group  pay per bucket   \n",
       "67743           submersible        vwc       user-group       never pay   \n",
       "19728               gravity      other            other       never pay   \n",
       "\n",
       "      payment_type water_quality quality_group      quantity quantity_group  \\\n",
       "id                                                                            \n",
       "69572     annually          soft          good        enough         enough   \n",
       "8776     never pay          soft          good  insufficient   insufficient   \n",
       "34310   per bucket          soft          good        enough         enough   \n",
       "67743    never pay          soft          good           dry            dry   \n",
       "19728    never pay          soft          good      seasonal       seasonal   \n",
       "\n",
       "                     source           source_type source_class  \\\n",
       "id                                                               \n",
       "69572                spring                spring  groundwater   \n",
       "8776   rainwater harvesting  rainwater harvesting      surface   \n",
       "34310                   dam                   dam      surface   \n",
       "67743           machine dbh              borehole  groundwater   \n",
       "19728  rainwater harvesting  rainwater harvesting      surface   \n",
       "\n",
       "                   waterpoint_type waterpoint_type_group  \n",
       "id                                                        \n",
       "69572           communal standpipe    communal standpipe  \n",
       "8776            communal standpipe    communal standpipe  \n",
       "34310  communal standpipe multiple    communal standpipe  \n",
       "67743  communal standpipe multiple    communal standpipe  \n",
       "19728           communal standpipe    communal standpipe  "
      ]
     },
     "execution_count": 84,
     "metadata": {},
     "output_type": "execute_result"
    }
   ],
   "source": [
    "df.head()"
   ]
  },
  {
   "cell_type": "markdown",
   "metadata": {},
   "source": [
    "#### Year"
   ]
  },
  {
   "cell_type": "code",
   "execution_count": 85,
   "metadata": {},
   "outputs": [
    {
     "data": {
      "text/plain": [
       "construction_year\n",
       "0       0.348636\n",
       "2010    0.044529\n",
       "2008    0.043990\n",
       "2009    0.042643\n",
       "2000    0.035202\n",
       "2007    0.026717\n",
       "2006    0.024764\n",
       "2003    0.021650\n",
       "2011    0.021145\n",
       "2004    0.018906\n",
       "Name: count, dtype: float64"
      ]
     },
     "execution_count": 85,
     "metadata": {},
     "output_type": "execute_result"
    }
   ],
   "source": [
    "# more than 30% of construction year is 0, we will probably drop this column\n",
    "df.construction_year.value_counts()[:10]/df.shape[0]"
   ]
  },
  {
   "cell_type": "code",
   "execution_count": 86,
   "metadata": {},
   "outputs": [
    {
     "data": {
      "text/plain": [
       "(0, 2013)"
      ]
     },
     "execution_count": 86,
     "metadata": {},
     "output_type": "execute_result"
    }
   ],
   "source": [
    "years = df.construction_year.to_list()\n",
    "min(years), max(years)"
   ]
  },
  {
   "cell_type": "code",
   "execution_count": 87,
   "metadata": {},
   "outputs": [
    {
     "data": {
      "text/plain": [
       "(1960, 3000)"
      ]
     },
     "execution_count": 87,
     "metadata": {},
     "output_type": "execute_result"
    }
   ],
   "source": [
    "years = [3000 if i == 0 else i for i in years]\n",
    "min(years), max(years)"
   ]
  },
  {
   "cell_type": "code",
   "execution_count": 88,
   "metadata": {},
   "outputs": [
    {
     "name": "stdout",
     "output_type": "stream",
     "text": [
      "['1991-2013', '1991-2013', '1991-2013', '1976-1990', 'Not Known', ..., '1991-2013', '1991-2013', 'Not Known', 'Not Known', '1991-2013']\n",
      "Length: 59400\n",
      "Categories (4, object): ['1960-1975' < '1976-1990' < '1991-2013' < 'Not Known'] -------\n"
     ]
    }
   ],
   "source": [
    "import pandas as pd\n",
    "\n",
    "bin_edges = [1959, 1975, 1990, 2013, 3001]  # Customize the bin edges\n",
    "labels = [\"1960-1975\", \"1976-1990\", \"1991-2013\", \"Not Known\"]  # Customize the labels\n",
    "\n",
    "# Perform the cut and assign labels\n",
    "categories = pd.cut(years, bins=bin_edges, labels=labels, retbins=False)\n",
    "\n",
    "print(categories, '-------')\n"
   ]
  },
  {
   "cell_type": "code",
   "execution_count": 89,
   "metadata": {},
   "outputs": [],
   "source": [
    "df['year_bins'] = categories"
   ]
  },
  {
   "cell_type": "code",
   "execution_count": 90,
   "metadata": {},
   "outputs": [
    {
     "data": {
      "text/html": [
       "<div>\n",
       "<style scoped>\n",
       "    .dataframe tbody tr th:only-of-type {\n",
       "        vertical-align: middle;\n",
       "    }\n",
       "\n",
       "    .dataframe tbody tr th {\n",
       "        vertical-align: top;\n",
       "    }\n",
       "\n",
       "    .dataframe thead th {\n",
       "        text-align: right;\n",
       "    }\n",
       "</style>\n",
       "<table border=\"1\" class=\"dataframe\">\n",
       "  <thead>\n",
       "    <tr style=\"text-align: right;\">\n",
       "      <th></th>\n",
       "      <th>construction_year</th>\n",
       "      <th>year_bins</th>\n",
       "    </tr>\n",
       "    <tr>\n",
       "      <th>id</th>\n",
       "      <th></th>\n",
       "      <th></th>\n",
       "    </tr>\n",
       "  </thead>\n",
       "  <tbody>\n",
       "    <tr>\n",
       "      <th>69572</th>\n",
       "      <td>1999</td>\n",
       "      <td>1991-2013</td>\n",
       "    </tr>\n",
       "    <tr>\n",
       "      <th>8776</th>\n",
       "      <td>2010</td>\n",
       "      <td>1991-2013</td>\n",
       "    </tr>\n",
       "    <tr>\n",
       "      <th>34310</th>\n",
       "      <td>2009</td>\n",
       "      <td>1991-2013</td>\n",
       "    </tr>\n",
       "    <tr>\n",
       "      <th>67743</th>\n",
       "      <td>1986</td>\n",
       "      <td>1976-1990</td>\n",
       "    </tr>\n",
       "    <tr>\n",
       "      <th>19728</th>\n",
       "      <td>0</td>\n",
       "      <td>Not Known</td>\n",
       "    </tr>\n",
       "    <tr>\n",
       "      <th>...</th>\n",
       "      <td>...</td>\n",
       "      <td>...</td>\n",
       "    </tr>\n",
       "    <tr>\n",
       "      <th>60739</th>\n",
       "      <td>1999</td>\n",
       "      <td>1991-2013</td>\n",
       "    </tr>\n",
       "    <tr>\n",
       "      <th>27263</th>\n",
       "      <td>1996</td>\n",
       "      <td>1991-2013</td>\n",
       "    </tr>\n",
       "    <tr>\n",
       "      <th>37057</th>\n",
       "      <td>0</td>\n",
       "      <td>Not Known</td>\n",
       "    </tr>\n",
       "    <tr>\n",
       "      <th>31282</th>\n",
       "      <td>0</td>\n",
       "      <td>Not Known</td>\n",
       "    </tr>\n",
       "    <tr>\n",
       "      <th>26348</th>\n",
       "      <td>2002</td>\n",
       "      <td>1991-2013</td>\n",
       "    </tr>\n",
       "  </tbody>\n",
       "</table>\n",
       "<p>59400 rows × 2 columns</p>\n",
       "</div>"
      ],
      "text/plain": [
       "       construction_year  year_bins\n",
       "id                                 \n",
       "69572               1999  1991-2013\n",
       "8776                2010  1991-2013\n",
       "34310               2009  1991-2013\n",
       "67743               1986  1976-1990\n",
       "19728                  0  Not Known\n",
       "...                  ...        ...\n",
       "60739               1999  1991-2013\n",
       "27263               1996  1991-2013\n",
       "37057                  0  Not Known\n",
       "31282                  0  Not Known\n",
       "26348               2002  1991-2013\n",
       "\n",
       "[59400 rows x 2 columns]"
      ]
     },
     "execution_count": 90,
     "metadata": {},
     "output_type": "execute_result"
    }
   ],
   "source": [
    "df[['construction_year', 'year_bins']]"
   ]
  },
  {
   "cell_type": "code",
   "execution_count": 91,
   "metadata": {},
   "outputs": [
    {
     "data": {
      "text/plain": [
       "year_bins\n",
       "1991-2013    27215\n",
       "Not Known    20709\n",
       "1976-1990     8377\n",
       "1960-1975     3099\n",
       "Name: count, dtype: int64"
      ]
     },
     "execution_count": 91,
     "metadata": {},
     "output_type": "execute_result"
    }
   ],
   "source": [
    "df.year_bins.value_counts(dropna=False)"
   ]
  },
  {
   "cell_type": "code",
   "execution_count": 92,
   "metadata": {},
   "outputs": [],
   "source": [
    "drop_columns_last_20.append('construction_year')"
   ]
  },
  {
   "cell_type": "markdown",
   "metadata": {},
   "source": [
    "#### Scheme Management"
   ]
  },
  {
   "cell_type": "code",
   "execution_count": 93,
   "metadata": {},
   "outputs": [
    {
     "data": {
      "text/plain": [
       "scheme_management  scheme_name  \n",
       "vwc                k                574\n",
       "wua                chalinze wate    405\n",
       "vwc                danida           378\n",
       "                   m                331\n",
       "                   borehole         285\n",
       "                                   ... \n",
       "                   upper  ruvu        1\n",
       "                   upper river        1\n",
       "                   upper ruvu ba      1\n",
       "                   islamic            1\n",
       "                   izunya             1\n",
       "Name: count, Length: 2946, dtype: int64"
      ]
     },
     "execution_count": 93,
     "metadata": {},
     "output_type": "execute_result"
    }
   ],
   "source": [
    "df.loc[:, ['scheme_management', 'scheme_name']].value_counts()"
   ]
  },
  {
   "cell_type": "code",
   "execution_count": 94,
   "metadata": {},
   "outputs": [
    {
     "data": {
      "text/plain": [
       "scheme_management    3878\n",
       "scheme_name          3572\n",
       "dtype: int64"
      ]
     },
     "execution_count": 94,
     "metadata": {},
     "output_type": "execute_result"
    }
   ],
   "source": [
    "# most of scheme_management is null when scheme_name is null.\n",
    "df.loc[df.loc[:, 'scheme_management'].isna(), ['scheme_management', 'scheme_name']].isna().sum()"
   ]
  },
  {
   "cell_type": "markdown",
   "metadata": {},
   "source": [
    "#### Check if we can get scheme_management from scheme_name"
   ]
  },
  {
   "cell_type": "code",
   "execution_count": 95,
   "metadata": {},
   "outputs": [],
   "source": [
    "scheme = df.loc[~df.loc[:, 'scheme_name'].isna() & df.loc[:, 'scheme_management'].isna(),\n",
    "       ['scheme_management', 'scheme_name']]"
   ]
  },
  {
   "cell_type": "code",
   "execution_count": 96,
   "metadata": {},
   "outputs": [],
   "source": [
    "scheme['token'] = scheme.scheme_name.str.split()"
   ]
  },
  {
   "cell_type": "code",
   "execution_count": 97,
   "metadata": {},
   "outputs": [
    {
     "data": {
      "text/plain": [
       "scheme_management\n",
       "vwc                 36793\n",
       "wug                  5206\n",
       "NaN                  3878\n",
       "water authority      3153\n",
       "wua                  2883\n",
       "water board          2748\n",
       "parastatal           1680\n",
       "private operator     1063\n",
       "company              1061\n",
       "other                 766\n",
       "swc                    97\n",
       "trust                  72\n",
       "Name: count, dtype: int64"
      ]
     },
     "execution_count": 97,
     "metadata": {},
     "output_type": "execute_result"
    }
   ],
   "source": [
    "df.scheme_management.value_counts(dropna=False)"
   ]
  },
  {
   "cell_type": "code",
   "execution_count": 98,
   "metadata": {},
   "outputs": [
    {
     "data": {
      "text/plain": [
       "scheme_management  management      \n",
       "NaN                vwc                 2451\n",
       "                   wug                  633\n",
       "                   unknown              468\n",
       "                   other                186\n",
       "                   private operator     119\n",
       "                   parastatal            11\n",
       "                   wua                    6\n",
       "                   water authority        2\n",
       "                   company                1\n",
       "                   trust                  1\n",
       "Name: count, dtype: int64"
      ]
     },
     "execution_count": 98,
     "metadata": {},
     "output_type": "execute_result"
    }
   ],
   "source": [
    "df.loc[df.scheme_management.isnull()==True,['scheme_management', 'management']].value_counts(dropna=False)"
   ]
  },
  {
   "cell_type": "markdown",
   "metadata": {},
   "source": [
    "All the null values in `scheme_management` have values in `management` column. Therefore, we can remove column - `scheme_management`"
   ]
  },
  {
   "cell_type": "code",
   "execution_count": 99,
   "metadata": {},
   "outputs": [
    {
     "name": "stdout",
     "output_type": "stream",
     "text": [
      "['construction_year', 'scheme_management', 'scheme_name']\n"
     ]
    }
   ],
   "source": [
    "drop_columns_last_20.append('scheme_management')\n",
    "drop_columns_last_20.append('scheme_name')\n",
    "print(drop_columns_last_20)"
   ]
  },
  {
   "cell_type": "markdown",
   "metadata": {},
   "source": [
    "#### Permit"
   ]
  },
  {
   "cell_type": "code",
   "execution_count": 100,
   "metadata": {},
   "outputs": [
    {
     "data": {
      "text/plain": [
       "permit\n",
       "True     38852\n",
       "False    17492\n",
       "NaN       3056\n",
       "Name: count, dtype: int64"
      ]
     },
     "execution_count": 100,
     "metadata": {},
     "output_type": "execute_result"
    }
   ],
   "source": [
    "df.loc[:, 'permit'].value_counts(dropna=False)"
   ]
  },
  {
   "cell_type": "code",
   "execution_count": 101,
   "metadata": {},
   "outputs": [],
   "source": [
    "# change datatype to bool\n",
    "df['permit'] = df.permit.apply(bool)"
   ]
  },
  {
   "cell_type": "code",
   "execution_count": 102,
   "metadata": {},
   "outputs": [
    {
     "data": {
      "text/plain": [
       "id\n",
       "69572    False\n",
       "8776      True\n",
       "34310     True\n",
       "67743     True\n",
       "19728     True\n",
       "         ...  \n",
       "60739     True\n",
       "27263     True\n",
       "37057    False\n",
       "31282     True\n",
       "26348     True\n",
       "Name: permit, Length: 59400, dtype: bool"
      ]
     },
     "execution_count": 102,
     "metadata": {},
     "output_type": "execute_result"
    }
   ],
   "source": [
    "df.permit"
   ]
  },
  {
   "cell_type": "markdown",
   "metadata": {},
   "source": [
    "Seems okay"
   ]
  },
  {
   "cell_type": "markdown",
   "metadata": {},
   "source": [
    "#### Extraction Type"
   ]
  },
  {
   "cell_type": "code",
   "execution_count": 103,
   "metadata": {},
   "outputs": [
    {
     "data": {
      "text/plain": [
       "extraction_type_class  extraction_type_group  extraction_type          \n",
       "gravity                gravity                gravity                      26780\n",
       "handpump               nira/tanira            nira/tanira                   8154\n",
       "other                  other                  other                         6430\n",
       "submersible            submersible            submersible                   4764\n",
       "handpump               swn 80                 swn 80                        3670\n",
       "motorpump              mono                   mono                          2865\n",
       "handpump               india mark ii          india mark ii                 2400\n",
       "                       afridev                afridev                       1770\n",
       "submersible            submersible            ksb                           1415\n",
       "rope pump              rope pump              other - rope pump              451\n",
       "handpump               other handpump         other - swn 81                 229\n",
       "wind-powered           wind-powered           windmill                       117\n",
       "handpump               india mark iii         india mark iii                  98\n",
       "motorpump              other motorpump        cemo                            90\n",
       "handpump               other handpump         other - play pump               85\n",
       "                                              walimi                          48\n",
       "motorpump              other motorpump        climax                          32\n",
       "handpump               other handpump         other - mkulima/shinyanga        2\n",
       "Name: count, dtype: int64"
      ]
     },
     "execution_count": 103,
     "metadata": {},
     "output_type": "execute_result"
    }
   ],
   "source": [
    "# These columns don't need much cleaninbg. Will be interesting to see how it relates with our labels\n",
    "df.loc[:, ['extraction_type_class', 'extraction_type_group', 'extraction_type']].value_counts()"
   ]
  },
  {
   "cell_type": "markdown",
   "metadata": {},
   "source": [
    "The column `extraction_type`, `extraction_type_class`, `extraction_type_group` seem to have similar information which indicates that we can keep one of these columns. Therefore, we can remove "
   ]
  },
  {
   "cell_type": "code",
   "execution_count": 104,
   "metadata": {},
   "outputs": [
    {
     "name": "stdout",
     "output_type": "stream",
     "text": [
      "['construction_year', 'scheme_management', 'scheme_name', 'extraction_type_class', 'extraction_type_group']\n"
     ]
    }
   ],
   "source": [
    "drop_columns_last_20.append('extraction_type_class')\n",
    "drop_columns_last_20.append('extraction_type_group')\n",
    "print(drop_columns_last_20)"
   ]
  },
  {
   "cell_type": "markdown",
   "metadata": {},
   "source": [
    "#### Management"
   ]
  },
  {
   "cell_type": "code",
   "execution_count": 105,
   "metadata": {},
   "outputs": [
    {
     "data": {
      "text/plain": [
       "management_group  management      \n",
       "user-group        vwc                 40507\n",
       "                  wug                  6515\n",
       "                  water board          2933\n",
       "                  wua                  2535\n",
       "commercial        private operator     1971\n",
       "parastatal        parastatal           1768\n",
       "commercial        water authority       904\n",
       "other             other                 844\n",
       "commercial        company               685\n",
       "unknown           unknown               561\n",
       "other             other - school         99\n",
       "commercial        trust                  78\n",
       "Name: count, dtype: int64"
      ]
     },
     "execution_count": 105,
     "metadata": {},
     "output_type": "execute_result"
    }
   ],
   "source": [
    "df.loc[:, ['management_group', 'management']].value_counts()"
   ]
  },
  {
   "cell_type": "markdown",
   "metadata": {},
   "source": [
    "`Management` column seems to contain all the information from `management_group` column. We can keep `management`"
   ]
  },
  {
   "cell_type": "code",
   "execution_count": 106,
   "metadata": {},
   "outputs": [
    {
     "name": "stdout",
     "output_type": "stream",
     "text": [
      "['construction_year', 'scheme_management', 'scheme_name', 'extraction_type_class', 'extraction_type_group', 'management_group']\n"
     ]
    }
   ],
   "source": [
    "drop_columns_last_20.append('management_group')\n",
    "print(drop_columns_last_20)"
   ]
  },
  {
   "cell_type": "markdown",
   "metadata": {},
   "source": [
    "#### Payment"
   ]
  },
  {
   "cell_type": "code",
   "execution_count": 107,
   "metadata": {
    "scrolled": true
   },
   "outputs": [
    {
     "data": {
      "text/plain": [
       "payment                payment_type\n",
       "never pay              never pay       25348\n",
       "pay per bucket         per bucket       8985\n",
       "pay monthly            monthly          8300\n",
       "unknown                unknown          8157\n",
       "pay when scheme fails  on failure       3914\n",
       "pay annually           annually         3642\n",
       "other                  other            1054\n",
       "Name: count, dtype: int64"
      ]
     },
     "execution_count": 107,
     "metadata": {},
     "output_type": "execute_result"
    }
   ],
   "source": [
    "# drop payment type\n",
    "df.loc[:, ['payment', 'payment_type']].value_counts()"
   ]
  },
  {
   "cell_type": "markdown",
   "metadata": {},
   "source": [
    "`Paymnet_type` column contains all the values from `payment`. So we can remove `payment` column."
   ]
  },
  {
   "cell_type": "code",
   "execution_count": 108,
   "metadata": {},
   "outputs": [
    {
     "name": "stdout",
     "output_type": "stream",
     "text": [
      "['construction_year', 'scheme_management', 'scheme_name', 'extraction_type_class', 'extraction_type_group', 'management_group', 'payment']\n"
     ]
    }
   ],
   "source": [
    "drop_columns_last_20.append('payment')\n",
    "print(drop_columns_last_20)"
   ]
  },
  {
   "cell_type": "markdown",
   "metadata": {},
   "source": [
    "#### Water "
   ]
  },
  {
   "cell_type": "code",
   "execution_count": 109,
   "metadata": {},
   "outputs": [
    {
     "data": {
      "text/plain": [
       "quality_group  water_quality     \n",
       "good           soft                  50818\n",
       "salty          salty                  4856\n",
       "unknown        unknown                1876\n",
       "milky          milky                   804\n",
       "colored        coloured                490\n",
       "salty          salty abandoned         339\n",
       "fluoride       fluoride                200\n",
       "               fluoride abandoned       17\n",
       "Name: count, dtype: int64"
      ]
     },
     "execution_count": 109,
     "metadata": {},
     "output_type": "execute_result"
    }
   ],
   "source": [
    "# largely have the same values apart from flouride (which is a very small number). Drop quality_group\n",
    "df.loc[:, ['quality_group', 'water_quality']].value_counts()"
   ]
  },
  {
   "cell_type": "markdown",
   "metadata": {},
   "source": [
    "Column `Quality Group` contains all the values from `water_quality`. Therefore, rmove water quality"
   ]
  },
  {
   "cell_type": "code",
   "execution_count": 110,
   "metadata": {},
   "outputs": [
    {
     "name": "stdout",
     "output_type": "stream",
     "text": [
      "['construction_year', 'scheme_management', 'scheme_name', 'extraction_type_class', 'extraction_type_group', 'management_group', 'payment', 'water_quality']\n"
     ]
    }
   ],
   "source": [
    "drop_columns_last_20.append('water_quality')\n",
    "print(drop_columns_last_20)"
   ]
  },
  {
   "cell_type": "code",
   "execution_count": 111,
   "metadata": {},
   "outputs": [
    {
     "name": "stdout",
     "output_type": "stream",
     "text": [
      "Combined Columns List: ['funder', 'installer', 'wpt_name', 'subvillage', 'region', 'lga', 'ward', 'quality_group']\n"
     ]
    }
   ],
   "source": [
    "# We can group other categories with less frequency.\n",
    "df = combine_categories(df, 'quality_group', 1, 'bad-other')"
   ]
  },
  {
   "cell_type": "markdown",
   "metadata": {},
   "source": [
    "#### Quantity"
   ]
  },
  {
   "cell_type": "code",
   "execution_count": 112,
   "metadata": {},
   "outputs": [
    {
     "data": {
      "text/plain": [
       "quantity      quantity_group\n",
       "enough        enough            33186\n",
       "insufficient  insufficient      15129\n",
       "dry           dry                6246\n",
       "seasonal      seasonal           4050\n",
       "unknown       unknown             789\n",
       "Name: count, dtype: int64"
      ]
     },
     "execution_count": 112,
     "metadata": {},
     "output_type": "execute_result"
    }
   ],
   "source": [
    "# for same reasons above, drop quantity_group\n",
    "df.loc[:, ['quantity', 'quantity_group']].value_counts()"
   ]
  },
  {
   "cell_type": "code",
   "execution_count": 113,
   "metadata": {},
   "outputs": [
    {
     "name": "stdout",
     "output_type": "stream",
     "text": [
      "['construction_year', 'scheme_management', 'scheme_name', 'extraction_type_class', 'extraction_type_group', 'management_group', 'payment', 'water_quality', 'quantity_group']\n"
     ]
    }
   ],
   "source": [
    "drop_columns_last_20.append('quantity_group')\n",
    "print(drop_columns_last_20)"
   ]
  },
  {
   "cell_type": "markdown",
   "metadata": {},
   "source": [
    "#### Source"
   ]
  },
  {
   "cell_type": "code",
   "execution_count": 114,
   "metadata": {},
   "outputs": [
    {
     "data": {
      "text/plain": [
       "source_class  source_type           source              \n",
       "groundwater   spring                spring                  17021\n",
       "              shallow well          shallow well            16824\n",
       "              borehole              machine dbh             11075\n",
       "surface       river/lake            river                    9612\n",
       "              rainwater harvesting  rainwater harvesting     2295\n",
       "groundwater   borehole              hand dtw                  874\n",
       "surface       river/lake            lake                      765\n",
       "              dam                   dam                       656\n",
       "unknown       other                 other                     212\n",
       "                                    unknown                    66\n",
       "Name: count, dtype: int64"
      ]
     },
     "execution_count": 114,
     "metadata": {},
     "output_type": "execute_result"
    }
   ],
   "source": [
    "# we can drop source_type, since it's information is covered largely in source and source_class.\n",
    "df.loc[:, ['source_class', 'source_type', 'source']].value_counts()"
   ]
  },
  {
   "cell_type": "code",
   "execution_count": 115,
   "metadata": {},
   "outputs": [
    {
     "name": "stdout",
     "output_type": "stream",
     "text": [
      "['construction_year', 'scheme_management', 'scheme_name', 'extraction_type_class', 'extraction_type_group', 'management_group', 'payment', 'water_quality', 'quantity_group', 'source_type']\n"
     ]
    }
   ],
   "source": [
    "drop_columns_last_20.append('source_type')\n",
    "print(drop_columns_last_20)"
   ]
  },
  {
   "cell_type": "markdown",
   "metadata": {},
   "source": [
    "#### Waterpoint"
   ]
  },
  {
   "cell_type": "code",
   "execution_count": 116,
   "metadata": {},
   "outputs": [
    {
     "data": {
      "text/plain": [
       "waterpoint_type              waterpoint_type_group\n",
       "communal standpipe           communal standpipe       28522\n",
       "hand pump                    hand pump                17488\n",
       "other                        other                     6380\n",
       "communal standpipe multiple  communal standpipe        6103\n",
       "improved spring              improved spring            784\n",
       "cattle trough                cattle trough              116\n",
       "dam                          dam                          7\n",
       "Name: count, dtype: int64"
      ]
     },
     "execution_count": 116,
     "metadata": {},
     "output_type": "execute_result"
    }
   ],
   "source": [
    "# exactly the same, drop waterpoint_type_group\n",
    "df.loc[:, ['waterpoint_type','waterpoint_type_group']].value_counts()"
   ]
  },
  {
   "cell_type": "code",
   "execution_count": 117,
   "metadata": {},
   "outputs": [
    {
     "name": "stdout",
     "output_type": "stream",
     "text": [
      "['construction_year', 'scheme_management', 'scheme_name', 'extraction_type_class', 'extraction_type_group', 'management_group', 'payment', 'water_quality', 'quantity_group', 'source_type', 'waterpoint_type_group']\n"
     ]
    }
   ],
   "source": [
    "drop_columns_last_20.append('waterpoint_type_group')\n",
    "print(drop_columns_last_20)"
   ]
  },
  {
   "cell_type": "markdown",
   "metadata": {},
   "source": [
    "## Drop Columns"
   ]
  },
  {
   "cell_type": "code",
   "execution_count": 118,
   "metadata": {},
   "outputs": [],
   "source": [
    "# Join both first 20 features and last 20 features\n",
    "cleaned_df_ = pd.merge(cleaned_df, df, on='id')"
   ]
  },
  {
   "cell_type": "code",
   "execution_count": 119,
   "metadata": {},
   "outputs": [
    {
     "name": "stdout",
     "output_type": "stream",
     "text": [
      "Columns to be removed: ['funder', 'installer', 'wpt_name', 'subvillage', 'region', 'lga', 'ward', 'quality_group', 'region_code', 'date_recorded', 'year_recorded', 'construction_year', 'scheme_management', 'scheme_name', 'extraction_type_class', 'extraction_type_group', 'management_group', 'payment', 'water_quality', 'quantity_group', 'source_type', 'waterpoint_type_group']\n"
     ]
    }
   ],
   "source": [
    "remove_columns = combined_cols+drop_numerical_cols+drop_columns_last_20\n",
    "print(f\"Columns to be removed: {remove_columns}\")"
   ]
  },
  {
   "cell_type": "code",
   "execution_count": 120,
   "metadata": {},
   "outputs": [
    {
     "data": {
      "text/html": [
       "<div>\n",
       "<style scoped>\n",
       "    .dataframe tbody tr th:only-of-type {\n",
       "        vertical-align: middle;\n",
       "    }\n",
       "\n",
       "    .dataframe tbody tr th {\n",
       "        vertical-align: top;\n",
       "    }\n",
       "\n",
       "    .dataframe thead th {\n",
       "        text-align: right;\n",
       "    }\n",
       "</style>\n",
       "<table border=\"1\" class=\"dataframe\">\n",
       "  <thead>\n",
       "    <tr style=\"text-align: right;\">\n",
       "      <th></th>\n",
       "      <th>amount_tsh</th>\n",
       "      <th>gps_height</th>\n",
       "      <th>longitude</th>\n",
       "      <th>latitude</th>\n",
       "      <th>num_private</th>\n",
       "      <th>basin</th>\n",
       "      <th>district_code</th>\n",
       "      <th>population</th>\n",
       "      <th>public_meeting</th>\n",
       "      <th>funder_combined</th>\n",
       "      <th>...</th>\n",
       "      <th>extraction_type</th>\n",
       "      <th>management</th>\n",
       "      <th>payment_type</th>\n",
       "      <th>quantity</th>\n",
       "      <th>source</th>\n",
       "      <th>source_class</th>\n",
       "      <th>waterpoint_type</th>\n",
       "      <th>year_bins</th>\n",
       "      <th>quality_group_combined</th>\n",
       "      <th>status_group</th>\n",
       "    </tr>\n",
       "    <tr>\n",
       "      <th>id</th>\n",
       "      <th></th>\n",
       "      <th></th>\n",
       "      <th></th>\n",
       "      <th></th>\n",
       "      <th></th>\n",
       "      <th></th>\n",
       "      <th></th>\n",
       "      <th></th>\n",
       "      <th></th>\n",
       "      <th></th>\n",
       "      <th></th>\n",
       "      <th></th>\n",
       "      <th></th>\n",
       "      <th></th>\n",
       "      <th></th>\n",
       "      <th></th>\n",
       "      <th></th>\n",
       "      <th></th>\n",
       "      <th></th>\n",
       "      <th></th>\n",
       "      <th></th>\n",
       "    </tr>\n",
       "  </thead>\n",
       "  <tbody>\n",
       "    <tr>\n",
       "      <th>69572</th>\n",
       "      <td>6000.0</td>\n",
       "      <td>1390</td>\n",
       "      <td>34.938093</td>\n",
       "      <td>-9.856322</td>\n",
       "      <td>0</td>\n",
       "      <td>lake nyasa</td>\n",
       "      <td>5</td>\n",
       "      <td>109</td>\n",
       "      <td>True</td>\n",
       "      <td>Other</td>\n",
       "      <td>...</td>\n",
       "      <td>gravity</td>\n",
       "      <td>vwc</td>\n",
       "      <td>annually</td>\n",
       "      <td>enough</td>\n",
       "      <td>spring</td>\n",
       "      <td>groundwater</td>\n",
       "      <td>communal standpipe</td>\n",
       "      <td>1991-2013</td>\n",
       "      <td>good</td>\n",
       "      <td>functional</td>\n",
       "    </tr>\n",
       "    <tr>\n",
       "      <th>34310</th>\n",
       "      <td>25.0</td>\n",
       "      <td>686</td>\n",
       "      <td>37.460664</td>\n",
       "      <td>-3.821329</td>\n",
       "      <td>0</td>\n",
       "      <td>pangani</td>\n",
       "      <td>4</td>\n",
       "      <td>250</td>\n",
       "      <td>True</td>\n",
       "      <td>Other</td>\n",
       "      <td>...</td>\n",
       "      <td>gravity</td>\n",
       "      <td>vwc</td>\n",
       "      <td>per bucket</td>\n",
       "      <td>enough</td>\n",
       "      <td>dam</td>\n",
       "      <td>surface</td>\n",
       "      <td>communal standpipe multiple</td>\n",
       "      <td>1991-2013</td>\n",
       "      <td>good</td>\n",
       "      <td>functional</td>\n",
       "    </tr>\n",
       "    <tr>\n",
       "      <th>67743</th>\n",
       "      <td>0.0</td>\n",
       "      <td>263</td>\n",
       "      <td>38.486161</td>\n",
       "      <td>-11.155298</td>\n",
       "      <td>0</td>\n",
       "      <td>ruvuma / southern coast</td>\n",
       "      <td>63</td>\n",
       "      <td>58</td>\n",
       "      <td>True</td>\n",
       "      <td>unicef</td>\n",
       "      <td>...</td>\n",
       "      <td>submersible</td>\n",
       "      <td>vwc</td>\n",
       "      <td>never pay</td>\n",
       "      <td>dry</td>\n",
       "      <td>machine dbh</td>\n",
       "      <td>groundwater</td>\n",
       "      <td>communal standpipe multiple</td>\n",
       "      <td>1976-1990</td>\n",
       "      <td>good</td>\n",
       "      <td>non functional</td>\n",
       "    </tr>\n",
       "    <tr>\n",
       "      <th>19728</th>\n",
       "      <td>0.0</td>\n",
       "      <td>0</td>\n",
       "      <td>31.130847</td>\n",
       "      <td>-1.825359</td>\n",
       "      <td>0</td>\n",
       "      <td>lake victoria</td>\n",
       "      <td>1</td>\n",
       "      <td>0</td>\n",
       "      <td>True</td>\n",
       "      <td>Other</td>\n",
       "      <td>...</td>\n",
       "      <td>gravity</td>\n",
       "      <td>other</td>\n",
       "      <td>never pay</td>\n",
       "      <td>seasonal</td>\n",
       "      <td>rainwater harvesting</td>\n",
       "      <td>surface</td>\n",
       "      <td>communal standpipe</td>\n",
       "      <td>Not Known</td>\n",
       "      <td>good</td>\n",
       "      <td>functional</td>\n",
       "    </tr>\n",
       "    <tr>\n",
       "      <th>9944</th>\n",
       "      <td>20.0</td>\n",
       "      <td>0</td>\n",
       "      <td>39.172796</td>\n",
       "      <td>-4.765587</td>\n",
       "      <td>0</td>\n",
       "      <td>pangani</td>\n",
       "      <td>8</td>\n",
       "      <td>1</td>\n",
       "      <td>True</td>\n",
       "      <td>Other</td>\n",
       "      <td>...</td>\n",
       "      <td>submersible</td>\n",
       "      <td>vwc</td>\n",
       "      <td>per bucket</td>\n",
       "      <td>enough</td>\n",
       "      <td>other</td>\n",
       "      <td>unknown</td>\n",
       "      <td>communal standpipe multiple</td>\n",
       "      <td>1991-2013</td>\n",
       "      <td>salty</td>\n",
       "      <td>functional</td>\n",
       "    </tr>\n",
       "  </tbody>\n",
       "</table>\n",
       "<p>5 rows × 29 columns</p>\n",
       "</div>"
      ],
      "text/plain": [
       "       amount_tsh  gps_height  longitude   latitude  num_private  \\\n",
       "id                                                                 \n",
       "69572      6000.0        1390  34.938093  -9.856322            0   \n",
       "34310        25.0         686  37.460664  -3.821329            0   \n",
       "67743         0.0         263  38.486161 -11.155298            0   \n",
       "19728         0.0           0  31.130847  -1.825359            0   \n",
       "9944         20.0           0  39.172796  -4.765587            0   \n",
       "\n",
       "                         basin  district_code  population  public_meeting  \\\n",
       "id                                                                          \n",
       "69572               lake nyasa              5         109            True   \n",
       "34310                  pangani              4         250            True   \n",
       "67743  ruvuma / southern coast             63          58            True   \n",
       "19728            lake victoria              1           0            True   \n",
       "9944                   pangani              8           1            True   \n",
       "\n",
       "      funder_combined  ... extraction_type management payment_type  quantity  \\\n",
       "id                     ...                                                     \n",
       "69572           Other  ...         gravity        vwc     annually    enough   \n",
       "34310           Other  ...         gravity        vwc   per bucket    enough   \n",
       "67743          unicef  ...     submersible        vwc    never pay       dry   \n",
       "19728           Other  ...         gravity      other    never pay  seasonal   \n",
       "9944            Other  ...     submersible        vwc   per bucket    enough   \n",
       "\n",
       "                     source source_class              waterpoint_type  \\\n",
       "id                                                                      \n",
       "69572                spring  groundwater           communal standpipe   \n",
       "34310                   dam      surface  communal standpipe multiple   \n",
       "67743           machine dbh  groundwater  communal standpipe multiple   \n",
       "19728  rainwater harvesting      surface           communal standpipe   \n",
       "9944                  other      unknown  communal standpipe multiple   \n",
       "\n",
       "       year_bins  quality_group_combined    status_group  \n",
       "id                                                        \n",
       "69572  1991-2013                    good      functional  \n",
       "34310  1991-2013                    good      functional  \n",
       "67743  1976-1990                    good  non functional  \n",
       "19728  Not Known                    good      functional  \n",
       "9944   1991-2013                   salty      functional  \n",
       "\n",
       "[5 rows x 29 columns]"
      ]
     },
     "execution_count": 120,
     "metadata": {},
     "output_type": "execute_result"
    }
   ],
   "source": [
    "cleaned_df_final = cleaned_df_.drop(remove_columns, axis=1)\n",
    "cleaned_df_final = pd.merge(cleaned_df_final, pump_data_lab, on='id')\n",
    "cleaned_df_final = cleaned_df_final.convert_dtypes()\n",
    "cleaned_df_final = cleaned_df_final.set_index('id')\n",
    "cleaned_df_final.head()"
   ]
  },
  {
   "cell_type": "code",
   "execution_count": 121,
   "metadata": {},
   "outputs": [],
   "source": [
    "cleaned_df_final.to_csv(f'{ROOT_PATH}/data/processed/cleaned.csv')"
   ]
  },
  {
   "cell_type": "markdown",
   "metadata": {},
   "source": [
    "## Read file to confirm"
   ]
  },
  {
   "cell_type": "code",
   "execution_count": 6,
   "metadata": {},
   "outputs": [
    {
     "data": {
      "text/html": [
       "<div>\n",
       "<style scoped>\n",
       "    .dataframe tbody tr th:only-of-type {\n",
       "        vertical-align: middle;\n",
       "    }\n",
       "\n",
       "    .dataframe tbody tr th {\n",
       "        vertical-align: top;\n",
       "    }\n",
       "\n",
       "    .dataframe thead th {\n",
       "        text-align: right;\n",
       "    }\n",
       "</style>\n",
       "<table border=\"1\" class=\"dataframe\">\n",
       "  <thead>\n",
       "    <tr style=\"text-align: right;\">\n",
       "      <th></th>\n",
       "      <th>amount_tsh</th>\n",
       "      <th>gps_height</th>\n",
       "      <th>longitude</th>\n",
       "      <th>latitude</th>\n",
       "      <th>num_private</th>\n",
       "      <th>basin</th>\n",
       "      <th>district_code</th>\n",
       "      <th>population</th>\n",
       "      <th>public_meeting</th>\n",
       "      <th>funder_combined</th>\n",
       "      <th>...</th>\n",
       "      <th>extraction_type</th>\n",
       "      <th>management</th>\n",
       "      <th>payment_type</th>\n",
       "      <th>quantity</th>\n",
       "      <th>source</th>\n",
       "      <th>source_class</th>\n",
       "      <th>waterpoint_type</th>\n",
       "      <th>year_bins</th>\n",
       "      <th>quality_group_combined</th>\n",
       "      <th>status_group</th>\n",
       "    </tr>\n",
       "    <tr>\n",
       "      <th>id</th>\n",
       "      <th></th>\n",
       "      <th></th>\n",
       "      <th></th>\n",
       "      <th></th>\n",
       "      <th></th>\n",
       "      <th></th>\n",
       "      <th></th>\n",
       "      <th></th>\n",
       "      <th></th>\n",
       "      <th></th>\n",
       "      <th></th>\n",
       "      <th></th>\n",
       "      <th></th>\n",
       "      <th></th>\n",
       "      <th></th>\n",
       "      <th></th>\n",
       "      <th></th>\n",
       "      <th></th>\n",
       "      <th></th>\n",
       "      <th></th>\n",
       "      <th></th>\n",
       "    </tr>\n",
       "  </thead>\n",
       "  <tbody>\n",
       "    <tr>\n",
       "      <th>69572</th>\n",
       "      <td>6000.0</td>\n",
       "      <td>1390</td>\n",
       "      <td>34.938093</td>\n",
       "      <td>-9.856322</td>\n",
       "      <td>0</td>\n",
       "      <td>lake nyasa</td>\n",
       "      <td>5</td>\n",
       "      <td>109</td>\n",
       "      <td>True</td>\n",
       "      <td>Other</td>\n",
       "      <td>...</td>\n",
       "      <td>gravity</td>\n",
       "      <td>vwc</td>\n",
       "      <td>annually</td>\n",
       "      <td>enough</td>\n",
       "      <td>spring</td>\n",
       "      <td>groundwater</td>\n",
       "      <td>communal standpipe</td>\n",
       "      <td>1991-2013</td>\n",
       "      <td>good</td>\n",
       "      <td>functional</td>\n",
       "    </tr>\n",
       "    <tr>\n",
       "      <th>34310</th>\n",
       "      <td>25.0</td>\n",
       "      <td>686</td>\n",
       "      <td>37.460664</td>\n",
       "      <td>-3.821329</td>\n",
       "      <td>0</td>\n",
       "      <td>pangani</td>\n",
       "      <td>4</td>\n",
       "      <td>250</td>\n",
       "      <td>True</td>\n",
       "      <td>Other</td>\n",
       "      <td>...</td>\n",
       "      <td>gravity</td>\n",
       "      <td>vwc</td>\n",
       "      <td>per bucket</td>\n",
       "      <td>enough</td>\n",
       "      <td>dam</td>\n",
       "      <td>surface</td>\n",
       "      <td>communal standpipe multiple</td>\n",
       "      <td>1991-2013</td>\n",
       "      <td>good</td>\n",
       "      <td>functional</td>\n",
       "    </tr>\n",
       "    <tr>\n",
       "      <th>67743</th>\n",
       "      <td>0.0</td>\n",
       "      <td>263</td>\n",
       "      <td>38.486161</td>\n",
       "      <td>-11.155298</td>\n",
       "      <td>0</td>\n",
       "      <td>ruvuma / southern coast</td>\n",
       "      <td>63</td>\n",
       "      <td>58</td>\n",
       "      <td>True</td>\n",
       "      <td>unicef</td>\n",
       "      <td>...</td>\n",
       "      <td>submersible</td>\n",
       "      <td>vwc</td>\n",
       "      <td>never pay</td>\n",
       "      <td>dry</td>\n",
       "      <td>machine dbh</td>\n",
       "      <td>groundwater</td>\n",
       "      <td>communal standpipe multiple</td>\n",
       "      <td>1976-1990</td>\n",
       "      <td>good</td>\n",
       "      <td>non functional</td>\n",
       "    </tr>\n",
       "    <tr>\n",
       "      <th>19728</th>\n",
       "      <td>0.0</td>\n",
       "      <td>0</td>\n",
       "      <td>31.130847</td>\n",
       "      <td>-1.825359</td>\n",
       "      <td>0</td>\n",
       "      <td>lake victoria</td>\n",
       "      <td>1</td>\n",
       "      <td>0</td>\n",
       "      <td>True</td>\n",
       "      <td>Other</td>\n",
       "      <td>...</td>\n",
       "      <td>gravity</td>\n",
       "      <td>other</td>\n",
       "      <td>never pay</td>\n",
       "      <td>seasonal</td>\n",
       "      <td>rainwater harvesting</td>\n",
       "      <td>surface</td>\n",
       "      <td>communal standpipe</td>\n",
       "      <td>Not Known</td>\n",
       "      <td>good</td>\n",
       "      <td>functional</td>\n",
       "    </tr>\n",
       "    <tr>\n",
       "      <th>9944</th>\n",
       "      <td>20.0</td>\n",
       "      <td>0</td>\n",
       "      <td>39.172796</td>\n",
       "      <td>-4.765587</td>\n",
       "      <td>0</td>\n",
       "      <td>pangani</td>\n",
       "      <td>8</td>\n",
       "      <td>1</td>\n",
       "      <td>True</td>\n",
       "      <td>Other</td>\n",
       "      <td>...</td>\n",
       "      <td>submersible</td>\n",
       "      <td>vwc</td>\n",
       "      <td>per bucket</td>\n",
       "      <td>enough</td>\n",
       "      <td>other</td>\n",
       "      <td>unknown</td>\n",
       "      <td>communal standpipe multiple</td>\n",
       "      <td>1991-2013</td>\n",
       "      <td>salty</td>\n",
       "      <td>functional</td>\n",
       "    </tr>\n",
       "  </tbody>\n",
       "</table>\n",
       "<p>5 rows × 29 columns</p>\n",
       "</div>"
      ],
      "text/plain": [
       "       amount_tsh  gps_height  longitude   latitude  num_private  \\\n",
       "id                                                                 \n",
       "69572      6000.0        1390  34.938093  -9.856322            0   \n",
       "34310        25.0         686  37.460664  -3.821329            0   \n",
       "67743         0.0         263  38.486161 -11.155298            0   \n",
       "19728         0.0           0  31.130847  -1.825359            0   \n",
       "9944         20.0           0  39.172796  -4.765587            0   \n",
       "\n",
       "                         basin  district_code  population  public_meeting  \\\n",
       "id                                                                          \n",
       "69572               lake nyasa              5         109            True   \n",
       "34310                  pangani              4         250            True   \n",
       "67743  ruvuma / southern coast             63          58            True   \n",
       "19728            lake victoria              1           0            True   \n",
       "9944                   pangani              8           1            True   \n",
       "\n",
       "      funder_combined  ... extraction_type management payment_type  quantity  \\\n",
       "id                     ...                                                     \n",
       "69572           Other  ...         gravity        vwc     annually    enough   \n",
       "34310           Other  ...         gravity        vwc   per bucket    enough   \n",
       "67743          unicef  ...     submersible        vwc    never pay       dry   \n",
       "19728           Other  ...         gravity      other    never pay  seasonal   \n",
       "9944            Other  ...     submersible        vwc   per bucket    enough   \n",
       "\n",
       "                     source source_class              waterpoint_type  \\\n",
       "id                                                                      \n",
       "69572                spring  groundwater           communal standpipe   \n",
       "34310                   dam      surface  communal standpipe multiple   \n",
       "67743           machine dbh  groundwater  communal standpipe multiple   \n",
       "19728  rainwater harvesting      surface           communal standpipe   \n",
       "9944                  other      unknown  communal standpipe multiple   \n",
       "\n",
       "       year_bins  quality_group_combined    status_group  \n",
       "id                                                        \n",
       "69572  1991-2013                    good      functional  \n",
       "34310  1991-2013                    good      functional  \n",
       "67743  1976-1990                    good  non functional  \n",
       "19728  Not Known                    good      functional  \n",
       "9944   1991-2013                   salty      functional  \n",
       "\n",
       "[5 rows x 29 columns]"
      ]
     },
     "execution_count": 6,
     "metadata": {},
     "output_type": "execute_result"
    }
   ],
   "source": [
    "# Test reading file\n",
    "test_df = pd.read_csv(f'{ROOT_PATH}/data/processed/cleaned.csv', index_col=0)\n",
    "test_df.head()"
   ]
  },
  {
   "cell_type": "code",
   "execution_count": 7,
   "metadata": {},
   "outputs": [
    {
     "name": "stdout",
     "output_type": "stream",
     "text": [
      "<class 'pandas.core.frame.DataFrame'>\n",
      "Index: 56064 entries, 69572 to 26348\n",
      "Data columns (total 29 columns):\n",
      " #   Column                  Non-Null Count  Dtype  \n",
      "---  ------                  --------------  -----  \n",
      " 0   amount_tsh              56064 non-null  float64\n",
      " 1   gps_height              56064 non-null  int64  \n",
      " 2   longitude               56064 non-null  float64\n",
      " 3   latitude                56064 non-null  float64\n",
      " 4   num_private             56064 non-null  int64  \n",
      " 5   basin                   56064 non-null  object \n",
      " 6   district_code           56064 non-null  int64  \n",
      " 7   population              56064 non-null  int64  \n",
      " 8   public_meeting          56064 non-null  bool   \n",
      " 9   funder_combined         56064 non-null  object \n",
      " 10  installer_combined      56064 non-null  object \n",
      " 11  wpt_name_combined       56064 non-null  object \n",
      " 12  subvillage_combined     56064 non-null  object \n",
      " 13  region_combined         56064 non-null  object \n",
      " 14  lga_combined            56064 non-null  object \n",
      " 15  ward_combined           56064 non-null  object \n",
      " 16  month_recorded          56064 non-null  object \n",
      " 17  year_recorded_bins      56064 non-null  object \n",
      " 18  permit                  56064 non-null  bool   \n",
      " 19  extraction_type         56064 non-null  object \n",
      " 20  management              56064 non-null  object \n",
      " 21  payment_type            56064 non-null  object \n",
      " 22  quantity                56064 non-null  object \n",
      " 23  source                  56064 non-null  object \n",
      " 24  source_class            56064 non-null  object \n",
      " 25  waterpoint_type         56064 non-null  object \n",
      " 26  year_bins               56064 non-null  object \n",
      " 27  quality_group_combined  56064 non-null  object \n",
      " 28  status_group            56064 non-null  object \n",
      "dtypes: bool(2), float64(3), int64(4), object(20)\n",
      "memory usage: 12.1+ MB\n"
     ]
    }
   ],
   "source": [
    "test_df.info()"
   ]
  },
  {
   "cell_type": "code",
   "execution_count": 8,
   "metadata": {},
   "outputs": [
    {
     "data": {
      "text/plain": [
       "amount_tsh                0\n",
       "gps_height                0\n",
       "longitude                 0\n",
       "latitude                  0\n",
       "num_private               0\n",
       "basin                     0\n",
       "district_code             0\n",
       "population                0\n",
       "public_meeting            0\n",
       "funder_combined           0\n",
       "installer_combined        0\n",
       "wpt_name_combined         0\n",
       "subvillage_combined       0\n",
       "region_combined           0\n",
       "lga_combined              0\n",
       "ward_combined             0\n",
       "month_recorded            0\n",
       "year_recorded_bins        0\n",
       "permit                    0\n",
       "extraction_type           0\n",
       "management                0\n",
       "payment_type              0\n",
       "quantity                  0\n",
       "source                    0\n",
       "source_class              0\n",
       "waterpoint_type           0\n",
       "year_bins                 0\n",
       "quality_group_combined    0\n",
       "status_group              0\n",
       "dtype: int64"
      ]
     },
     "execution_count": 8,
     "metadata": {},
     "output_type": "execute_result"
    }
   ],
   "source": [
    "test_df.isna().sum()"
   ]
  },
  {
   "cell_type": "code",
   "execution_count": 9,
   "metadata": {},
   "outputs": [
    {
     "data": {
      "text/html": [
       "<div>\n",
       "<style scoped>\n",
       "    .dataframe tbody tr th:only-of-type {\n",
       "        vertical-align: middle;\n",
       "    }\n",
       "\n",
       "    .dataframe tbody tr th {\n",
       "        vertical-align: top;\n",
       "    }\n",
       "\n",
       "    .dataframe thead th {\n",
       "        text-align: right;\n",
       "    }\n",
       "</style>\n",
       "<table border=\"1\" class=\"dataframe\">\n",
       "  <thead>\n",
       "    <tr style=\"text-align: right;\">\n",
       "      <th></th>\n",
       "      <th>amount_tsh</th>\n",
       "      <th>gps_height</th>\n",
       "      <th>longitude</th>\n",
       "      <th>latitude</th>\n",
       "      <th>num_private</th>\n",
       "      <th>district_code</th>\n",
       "      <th>population</th>\n",
       "    </tr>\n",
       "  </thead>\n",
       "  <tbody>\n",
       "    <tr>\n",
       "      <th>count</th>\n",
       "      <td>56064.000000</td>\n",
       "      <td>56064.000000</td>\n",
       "      <td>56064.000000</td>\n",
       "      <td>5.606400e+04</td>\n",
       "      <td>56064.000000</td>\n",
       "      <td>56064.000000</td>\n",
       "      <td>56064.000000</td>\n",
       "    </tr>\n",
       "    <tr>\n",
       "      <th>mean</th>\n",
       "      <td>332.068004</td>\n",
       "      <td>668.949308</td>\n",
       "      <td>34.235460</td>\n",
       "      <td>-5.751405e+00</td>\n",
       "      <td>0.493686</td>\n",
       "      <td>5.679955</td>\n",
       "      <td>178.930722</td>\n",
       "    </tr>\n",
       "    <tr>\n",
       "      <th>std</th>\n",
       "      <td>3068.785673</td>\n",
       "      <td>695.178479</td>\n",
       "      <td>6.155716</td>\n",
       "      <td>2.889370e+00</td>\n",
       "      <td>12.567608</td>\n",
       "      <td>9.700604</td>\n",
       "      <td>476.284155</td>\n",
       "    </tr>\n",
       "    <tr>\n",
       "      <th>min</th>\n",
       "      <td>0.000000</td>\n",
       "      <td>-90.000000</td>\n",
       "      <td>0.000000</td>\n",
       "      <td>-1.164944e+01</td>\n",
       "      <td>0.000000</td>\n",
       "      <td>0.000000</td>\n",
       "      <td>0.000000</td>\n",
       "    </tr>\n",
       "    <tr>\n",
       "      <th>25%</th>\n",
       "      <td>0.000000</td>\n",
       "      <td>0.000000</td>\n",
       "      <td>33.096949</td>\n",
       "      <td>-8.560007e+00</td>\n",
       "      <td>0.000000</td>\n",
       "      <td>2.000000</td>\n",
       "      <td>0.000000</td>\n",
       "    </tr>\n",
       "    <tr>\n",
       "      <th>50%</th>\n",
       "      <td>0.000000</td>\n",
       "      <td>365.000000</td>\n",
       "      <td>34.973790</td>\n",
       "      <td>-5.069285e+00</td>\n",
       "      <td>0.000000</td>\n",
       "      <td>3.000000</td>\n",
       "      <td>20.000000</td>\n",
       "    </tr>\n",
       "    <tr>\n",
       "      <th>75%</th>\n",
       "      <td>25.000000</td>\n",
       "      <td>1321.000000</td>\n",
       "      <td>37.194164</td>\n",
       "      <td>-3.345594e+00</td>\n",
       "      <td>0.000000</td>\n",
       "      <td>5.000000</td>\n",
       "      <td>210.000000</td>\n",
       "    </tr>\n",
       "    <tr>\n",
       "      <th>max</th>\n",
       "      <td>350000.000000</td>\n",
       "      <td>2770.000000</td>\n",
       "      <td>40.345193</td>\n",
       "      <td>-2.000000e-08</td>\n",
       "      <td>1776.000000</td>\n",
       "      <td>80.000000</td>\n",
       "      <td>30500.000000</td>\n",
       "    </tr>\n",
       "  </tbody>\n",
       "</table>\n",
       "</div>"
      ],
      "text/plain": [
       "          amount_tsh    gps_height     longitude      latitude   num_private  \\\n",
       "count   56064.000000  56064.000000  56064.000000  5.606400e+04  56064.000000   \n",
       "mean      332.068004    668.949308     34.235460 -5.751405e+00      0.493686   \n",
       "std      3068.785673    695.178479      6.155716  2.889370e+00     12.567608   \n",
       "min         0.000000    -90.000000      0.000000 -1.164944e+01      0.000000   \n",
       "25%         0.000000      0.000000     33.096949 -8.560007e+00      0.000000   \n",
       "50%         0.000000    365.000000     34.973790 -5.069285e+00      0.000000   \n",
       "75%        25.000000   1321.000000     37.194164 -3.345594e+00      0.000000   \n",
       "max    350000.000000   2770.000000     40.345193 -2.000000e-08   1776.000000   \n",
       "\n",
       "       district_code    population  \n",
       "count   56064.000000  56064.000000  \n",
       "mean        5.679955    178.930722  \n",
       "std         9.700604    476.284155  \n",
       "min         0.000000      0.000000  \n",
       "25%         2.000000      0.000000  \n",
       "50%         3.000000     20.000000  \n",
       "75%         5.000000    210.000000  \n",
       "max        80.000000  30500.000000  "
      ]
     },
     "execution_count": 9,
     "metadata": {},
     "output_type": "execute_result"
    }
   ],
   "source": [
    "test_df.describe()"
   ]
  },
  {
   "cell_type": "code",
   "execution_count": null,
   "metadata": {},
   "outputs": [],
   "source": []
  }
 ],
 "metadata": {
  "kernelspec": {
   "display_name": "Python 3 (ipykernel)",
   "language": "python",
   "name": "python3"
  },
  "language_info": {
   "codemirror_mode": {
    "name": "ipython",
    "version": 3
   },
   "file_extension": ".py",
   "mimetype": "text/x-python",
   "name": "python",
   "nbconvert_exporter": "python",
   "pygments_lexer": "ipython3",
   "version": "3.11.4"
  }
 },
 "nbformat": 4,
 "nbformat_minor": 2
}
